{
 "cells": [
  {
   "attachments": {},
   "cell_type": "markdown",
   "metadata": {},
   "source": [
    "# Practical 2\n",
    "\n",
    "## Optimization\n",
    "\n",
    "In a neural network, the set of weights represents the experience and insights gained from the training process. The learning process depends on the use of a loss function and optimization process to find the best set of weights that minimizes the loss function.\n",
    "\n",
    "In this session, we will take a closer look at the operations of _Stochastic Gradient Descent_ optimizer.\n",
    "\n",
    "Consider the following equation:\n",
    "\n",
    "$${y = (x-3)^2 + x}$$\n",
    "\n",
    "The question is, __what is the value of x such that y is the smallest value possible?__\n",
    "\n",
    "Since we know the equation, we can differentiate the equation and set it to 0.\n",
    "\n",
    "$${\\frac{dy}{dx} = 2(x-3) + 1 = 0}$$\n",
    "$${x = 2.5}$$\n",
    "\n",
    "In real-life, we do not know the equation, all we have are a bunch of data. There might exists an equation but it is too complex and may not be differentiable. So we have to rely on machines and optimizers to iteratively run an algorithm that finds the best value of x.\n",
    "\n",
    "To illustrate, let us now use an optimizer to find the value of x. We will see if the optimizer is able to arrive at the true value of 2.5.\n"
   ]
  },
  {
   "cell_type": "code",
   "execution_count": 48,
   "metadata": {},
   "outputs": [
    {
     "name": "stdout",
     "output_type": "stream",
     "text": [
      "2.482706\n"
     ]
    }
   ],
   "source": [
    "#Import TensorFlow\n",
    "import tensorflow as tf\n",
    "\n",
    "#Create an instance of Stochastic Gradient Descent (SGD) optimizer\n",
    "optimizer = tf.keras.optimizers.SGD(learning_rate=0.1)\n",
    "#Initialize the x to be 1.0\n",
    "x = tf.Variable(1.0)\n",
    "\n",
    "#Define the function y = (x-3)^2 + x\n",
    "y = lambda: tf.square(x-3) + x\n",
    "\n",
    "#Iterate 20 times and see if we can get the value of x=2.5\n",
    "for i in range(20):\n",
    "    #Get the optimizer to minimize\n",
    "    optimizer.minimize(y, [x])\n",
    "#Print the value of x after 20 steps of optimization process\n",
    "print(x.numpy())"
   ]
  },
  {
   "attachments": {},
   "cell_type": "markdown",
   "metadata": {},
   "source": [
    "TensorBoard comes installed with TensorFlow and it allows us to visualize the training process.\n"
   ]
  },
  {
   "cell_type": "code",
   "execution_count": 49,
   "metadata": {},
   "outputs": [
    {
     "name": "stdout",
     "output_type": "stream",
     "text": [
      "logs\\20230518-000759\n"
     ]
    }
   ],
   "source": [
    "import tensorflow as tf\n",
    "import datetime\n",
    "import os\n",
    "\n",
    "# Create an instance of Stochastic Gradient Descent (SGD) optimizer\n",
    "optimizer = tf.keras.optimizers.SGD(learning_rate=0.1)\n",
    "# Initialize the x to be zero\n",
    "x = tf.Variable(1.0)\n",
    "\n",
    "# Define the function y = (x-3)^2 + x\n",
    "y = lambda: tf.square(x-3) + x\n",
    "\n",
    "current_time = datetime.datetime.now().strftime(\"%Y%m%d-%H%M%S\")\n",
    "log_dir = os.path.join(\"logs\", current_time)\n",
    "print(log_dir)\n",
    "summary_writer = tf.summary.create_file_writer(log_dir)\n",
    "\n",
    "\n",
    "# Create an empty list\n",
    "# Iterate 20 times and see if we can get the value of x=2.5\n",
    "for i in range(20):\n",
    "    #Get the optimizer to minimize\n",
    "    optimizer.minimize(y, [x])\n",
    "    with summary_writer.as_default():\n",
    "      tf.summary.scalar(\"x\", x.numpy(), step=i)\n",
    "\n",
    "summary_writer.flush()\n",
    "summary_writer.close()"
   ]
  },
  {
   "cell_type": "code",
   "execution_count": 50,
   "metadata": {},
   "outputs": [
    {
     "name": "stderr",
     "output_type": "stream",
     "text": [
      "kill: unknown signal: (ps\n",
      "Try `kill --help' for more information.\n",
      "awk: cmd. line:1: {print $1})\n",
      "awk: cmd. line:1:           ^ syntax error\n"
     ]
    }
   ],
   "source": [
    "# If you have previously run tensorboard, you need to kill the previous process by running the below for Colab\n",
    "!kill $(ps -e | grep 'tensorboard' | awk '{print $1}')"
   ]
  },
  {
   "cell_type": "code",
   "execution_count": 75,
   "metadata": {},
   "outputs": [
    {
     "name": "stdout",
     "output_type": "stream",
     "text": [
      "checking for existing tensorboard processes\n",
      "cleaning tensorboard temp dir\n"
     ]
    }
   ],
   "source": [
    "# If running in Windows, you can run the below to kill the previous process \n",
    "! powershell \"echo 'checking for existing tensorboard processes'\"\n",
    "! powershell \"ps | Where-Object {$_.ProcessName -eq 'tensorboard'}\"\n",
    "\n",
    "! powershell \"ps | Where-Object {$_.ProcessName -eq 'tensorboard'}| %{kill $_}\"\n",
    "\n",
    "! powershell \"echo 'cleaning tensorboard temp dir'\"\n",
    "! powershell \"rm $env:TEMP\\.tensorboard-info\\*\"\n",
    "\n",
    "! powershell \"ps | Where-Object {$_.ProcessName -eq 'tensorboard'}\""
   ]
  },
  {
   "attachments": {},
   "cell_type": "markdown",
   "metadata": {},
   "source": [
    "Display the tensorboard using the following commands"
   ]
  },
  {
   "cell_type": "code",
   "execution_count": null,
   "metadata": {},
   "outputs": [],
   "source": [
    "%reload_ext tensorboard\n",
    "%tensorboard --logdir=logs\\20230517-230637 #insert your directory "
   ]
  },
  {
   "attachments": {},
   "cell_type": "markdown",
   "metadata": {},
   "source": [
    "### The Adam Optimizer\n",
    "\n",
    "There are other optimizers available in TensorFlow, let us now try another optimizer call _Adam_, it is modified version of SGD and is very popular as an optimizer for deep learning.\n",
    "\n",
    "\n",
    "Modify your codes and change the line\n",
    "\n",
    "```python\n",
    "optimizer = tf.keras.optimizers.SGD(learning_rate=0.1)\n",
    "```\n",
    "\n",
    "to\n",
    "\n",
    "```python\n",
    "optimizer = tf.keras.optimizers.Adam(learning_rate=0.1)\n",
    "```\n",
    "\n",
    "Re-run your codes and what do you see in the graph?  You should notice that it has overshot 2.5 and went above 2.6.\n",
    "\n",
    "### Changing Learning Iterations\n",
    "\n",
    "Increase the iteration from 20 to 100 by modifying the line:\n",
    "\n",
    "```python\n",
    "for i in range(20):\n",
    "```\n",
    "\n",
    "to\n",
    "\n",
    "```python\n",
    "for i in range(100):\n",
    "```\n",
    "\n",
    "Note how the values moved above 2.5 and falls back again, it oscillates around 2.5 and eventually settles at 2.5."
   ]
  },
  {
   "attachments": {},
   "cell_type": "markdown",
   "metadata": {},
   "source": [
    "### Exercise (Effects of Learning Rate)\n",
    "\n",
    "Change the number of iterations from 100 to 200 and re-run the codes with learning rates of 1, 0.5, 0.1, 0.05. 0.02 and 0.01.\n",
    "\n",
    "What can you conclude about the effects of learning rates?\n",
    "\n",
    "<details>\n",
    "    <summary><strong>Click here for answer</strong></summary>\n",
    "    \n",
    "You will notice that with higher values of learning rate, the optimizer tends to overshoot and the value of x oscillates about the actual value. The larger the value of learning rate, the more it will overshoot and oscillates.\n",
    "    \n",
    "On the other hand, a smaller value of learning rate will prevent overshoot but it takes longer to advance during each step to reach the final value.\n",
    "    \n",
    "</details>"
   ]
  },
  {
   "attachments": {},
   "cell_type": "markdown",
   "metadata": {},
   "source": [
    "### Momentum\n",
    "\n",
    "Very often, a graph has more then one minimums. The lowest minimum is called the global minimum while the rest are called the local minimums.\n",
    "\n",
    "Take a look at the graph below:\n",
    "\n",
    "![LocalGlobalMinimums_2.jpg](data:image/jpeg;base64,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)"
   ]
  },
  {
   "attachments": {},
   "cell_type": "markdown",
   "metadata": {},
   "source": [
    "The equation of the graph is \n",
    "\n",
    "$${y = x^4 - 3x^2 + x + 4}$$\n",
    "\n",
    "Notice that there are 2 minimums, one at about x=1.13 and the other at about x= -1.3. The true (global) minimum is when x = -1.3 while the local minimum is at x=1.13. Of course, the best solution is the global minimum.\n",
    "\n",
    "Let us now see what happens when we try our optimizer with this graph.\n",
    "\n",
    "Write some code to apply an SGD optimzer with a learning rate of 0.01 on this new graph, starting at x=2, and running for 50 iterations. Store the x values at each iteration in a list called values.\n",
    "\n",
    "<details>\n",
    "    <summary><strong>Click here for answer</strong></summary>\n",
    "```python\n",
    "import tensorflow as tf\n",
    "\n",
    "optimizer = tf.keras.optimizers.SGD(learning_rate=0.01)\n",
    "#Start our x at 2.0\n",
    "x = tf.Variable(2.0)\n",
    "y = lambda: tf.math.pow(x,4) - (3 * tf.square(x)) + x + 4\n",
    "values = []\n",
    "\n",
    "for i in range(50):\n",
    "    optimizer.minimize(y, [x])\n",
    "    values.append(x.numpy())\n",
    "    \n",
    "```\n",
    "</details>"
   ]
  },
  {
   "cell_type": "code",
   "execution_count": 53,
   "metadata": {},
   "outputs": [],
   "source": [
    "# insert code here\n",
    "\n"
   ]
  },
  {
   "attachments": {},
   "cell_type": "markdown",
   "metadata": {},
   "source": [
    "Lets quickly visualize this using matplotlib"
   ]
  },
  {
   "cell_type": "code",
   "execution_count": null,
   "metadata": {},
   "outputs": [],
   "source": [
    "import matplotlib.pyplot as plt\n",
    "\n",
    "plt.grid(True)\n",
    "plt.plot(values)\n",
    "plt.show()"
   ]
  },
  {
   "attachments": {},
   "cell_type": "markdown",
   "metadata": {},
   "source": [
    "You will notice that since we started from 2.0 which is near to the local minimum, the optimizer is trapped into the local minimum and we end up with solution of x = 1.13 after 50 iterations. This is a good value and a neural network with a local minimum will still work well, however, it is not the best solution."
   ]
  },
  {
   "attachments": {},
   "cell_type": "markdown",
   "metadata": {},
   "source": [
    "Momentum is a factor that can help in pushing our optimizer to reach a better (and hopefully global) minimum value. We can set the momentum value in SGD optimizer (_Adam already incorporated momentum in its algorithm so you cannot set momentum for Adam_)\n",
    "\n",
    "Modify the following line of codes\n",
    "\n",
    "```python\n",
    "optimizer = tf.keras.optimizers.SGD(learning_rate=0.1)\n",
    "```\n",
    "\n",
    "to\n",
    "\n",
    "```python\n",
    "optimizer = tf.keras.optimizers.SGD(learning_rate=0.02, momentum=0.7)\n",
    "```"
   ]
  },
  {
   "attachments": {},
   "cell_type": "markdown",
   "metadata": {},
   "source": [
    "The momentum pushes the optimizer out of 1.3 and towards the global minimum of -1.3 but unfortunately the push is not hard enough. After reaching below 0.6 it moved towards the local minimum again.Let us give it a stronger momentum, change the momentum from 0.7 to 0.8 and run the codes again.\n"
   ]
  },
  {
   "attachments": {},
   "cell_type": "markdown",
   "metadata": {},
   "source": [
    "This time, the momentum is strong enough for the optimizer to overcome the local minimum and succesfully reached the global minimum. Note that it oscillates a bit about the global minimum and eventually settles down."
   ]
  },
  {
   "attachments": {},
   "cell_type": "markdown",
   "metadata": {},
   "source": [
    "## Regularization"
   ]
  },
  {
   "attachments": {},
   "cell_type": "markdown",
   "metadata": {},
   "source": [
    "Wr will use the [Fashion MNIST](https://github.com/zalandoresearch/fashion-mnist) dataset which contains 70,000 grayscale images in 10 categories. You can access the Fashion MNIST directly from TensorFlow. Import and load the Fashion MNIST data directly from TensorFlow:"
   ]
  },
  {
   "cell_type": "code",
   "execution_count": 62,
   "metadata": {},
   "outputs": [
    {
     "name": "stdout",
     "output_type": "stream",
     "text": [
      "Downloading data from https://storage.googleapis.com/tensorflow/tf-keras-datasets/train-labels-idx1-ubyte.gz\n",
      "32768/29515 [=================================] - 0s 0us/step\n",
      "40960/29515 [=========================================] - 0s 0us/step\n",
      "Downloading data from https://storage.googleapis.com/tensorflow/tf-keras-datasets/train-images-idx3-ubyte.gz\n",
      "26427392/26421880 [==============================] - 2s 0us/step\n",
      "26435584/26421880 [==============================] - 2s 0us/step\n",
      "Downloading data from https://storage.googleapis.com/tensorflow/tf-keras-datasets/t10k-labels-idx1-ubyte.gz\n",
      "16384/5148 [===============================================================================================] - 0s 0s/step\n",
      "Downloading data from https://storage.googleapis.com/tensorflow/tf-keras-datasets/t10k-images-idx3-ubyte.gz\n",
      "4423680/4422102 [==============================] - 1s 0us/step\n",
      "4431872/4422102 [==============================] - 1s 0us/step\n"
     ]
    }
   ],
   "source": [
    "# TensorFlow and tf.keras\n",
    "import tensorflow as tf\n",
    "\n",
    "# Helper libraries\n",
    "import numpy as np\n",
    "import matplotlib.pyplot as plt\n",
    "\n",
    "fashion_mnist = tf.keras.datasets.fashion_mnist\n",
    "\n",
    "(train_images, train_labels), (test_images, test_labels) = fashion_mnist.load_data()"
   ]
  },
  {
   "attachments": {},
   "cell_type": "markdown",
   "metadata": {},
   "source": [
    "The images are 28x28 NumPy arrays, with pixel values ranging from 0 to 255. The *labels* are an array of integers, ranging from 0 to 9. These correspond to the *class* of clothing the image represents:\n",
    "\n",
    "<table>\n",
    "  <tr>\n",
    "    <th>Label</th>\n",
    "    <th>Class</th>\n",
    "  </tr>\n",
    "  <tr>\n",
    "    <td>0</td>\n",
    "    <td>T-shirt/top</td>\n",
    "  </tr>\n",
    "  <tr>\n",
    "    <td>1</td>\n",
    "    <td>Trouser</td>\n",
    "  </tr>\n",
    "    <tr>\n",
    "    <td>2</td>\n",
    "    <td>Pullover</td>\n",
    "  </tr>\n",
    "    <tr>\n",
    "    <td>3</td>\n",
    "    <td>Dress</td>\n",
    "  </tr>\n",
    "    <tr>\n",
    "    <td>4</td>\n",
    "    <td>Coat</td>\n",
    "  </tr>\n",
    "    <tr>\n",
    "    <td>5</td>\n",
    "    <td>Sandal</td>\n",
    "  </tr>\n",
    "    <tr>\n",
    "    <td>6</td>\n",
    "    <td>Shirt</td>\n",
    "  </tr>\n",
    "    <tr>\n",
    "    <td>7</td>\n",
    "    <td>Sneaker</td>\n",
    "  </tr>\n",
    "    <tr>\n",
    "    <td>8</td>\n",
    "    <td>Bag</td>\n",
    "  </tr>\n",
    "    <tr>\n",
    "    <td>9</td>\n",
    "    <td>Ankle boot</td>\n",
    "  </tr>\n",
    "</table>\n",
    "\n",
    "Each image is mapped to a single label. Since the *class names* are not included with the dataset, store them here to use later when plotting the images:"
   ]
  },
  {
   "cell_type": "code",
   "execution_count": 63,
   "metadata": {},
   "outputs": [],
   "source": [
    "class_names = ['T-shirt/top', 'Trouser', 'Pullover', 'Dress', 'Coat',\n",
    "               'Sandal', 'Shirt', 'Sneaker', 'Bag', 'Ankle boot']\n"
   ]
  },
  {
   "attachments": {},
   "cell_type": "markdown",
   "metadata": {},
   "source": [
    "As the samples are already randomly shuffled, we can take the first 50,000 as the training set and the other 10,000 as the validation set."
   ]
  },
  {
   "cell_type": "code",
   "execution_count": 65,
   "metadata": {},
   "outputs": [
    {
     "name": "stdout",
     "output_type": "stream",
     "text": [
      "50000 10000\n"
     ]
    }
   ],
   "source": [
    "orig_train_images, orig_train_labels = train_images.copy(), train_labels.copy()\n",
    "train_images, train_labels = orig_train_images[:50000], orig_train_labels[:50000]\n",
    "val_images, val_labels = orig_train_images[50000:], orig_train_labels[50000:]\n",
    "print(len(train_images), len(val_images))"
   ]
  },
  {
   "attachments": {},
   "cell_type": "markdown",
   "metadata": {},
   "source": [
    "The data must be preprocessed before training the network. If you inspect the first image in the training set, you will see that the pixel values fall in the range of 0 to 255. Scale these values to a range of 0 to 1 before feeding them to the neural network model. To do so, divide the values by 255. It's important that the *training set* and the *testing set* be preprocessed in the same way:"
   ]
  },
  {
   "cell_type": "code",
   "execution_count": 66,
   "metadata": {},
   "outputs": [],
   "source": [
    "train_images = train_images / 255.0\n",
    "\n",
    "test_images = test_images / 255.0\n",
    "\n",
    "val_images = val_images / 255.0"
   ]
  },
  {
   "attachments": {},
   "cell_type": "markdown",
   "metadata": {},
   "source": [
    "We will now build the model. The first layer in this network, `tf.keras.layers.Flatten`, transforms the format of the images from a two-dimensional array (of 28 by 28 pixels) to a one-dimensional array (of 28 * 28 = 784 pixels). After the pixels are flattened, the network consists of a sequence of two `tf.keras.layers.Dense` layers.  The first `Dense` layer has 128 nodes (or neurons). The second (and last) layer returns a logits array with length of 10. Each node contains a probability score that indicates how likely is the current image belongs to one of the 10 classes. We will use a softmax function to ensure the probability adds up to 1.0.\n",
    "\n",
    "Fill up the code below and use appropriate activation function for each layer"
   ]
  },
  {
   "cell_type": "code",
   "execution_count": 67,
   "metadata": {},
   "outputs": [],
   "source": [
    "from tensorflow.keras.layers import Flatten, Dense\n",
    "from tensorflow.keras.models import Sequential\n",
    "\n",
    "model = Sequential()\n",
    "model.add(Flatten(input_shape=(28,28)))\n",
    "model.add(Dense(, activation='')) # fill up the code\n",
    "model.add(Dense(, activation='')) # fill up the code\n"
   ]
  },
  {
   "attachments": {},
   "cell_type": "markdown",
   "metadata": {},
   "source": [
    "Print the model summary."
   ]
  },
  {
   "cell_type": "code",
   "execution_count": 68,
   "metadata": {},
   "outputs": [
    {
     "name": "stdout",
     "output_type": "stream",
     "text": [
      "Model: \"sequential\"\n",
      "_________________________________________________________________\n",
      " Layer (type)                Output Shape              Param #   \n",
      "=================================================================\n",
      " flatten (Flatten)           (None, 784)               0         \n",
      "                                                                 \n",
      " dense (Dense)               (None, 128)               100480    \n",
      "                                                                 \n",
      " dense_1 (Dense)             (None, 10)                1290      \n",
      "                                                                 \n",
      "=================================================================\n",
      "Total params: 101,770\n",
      "Trainable params: 101,770\n",
      "Non-trainable params: 0\n",
      "_________________________________________________________________\n"
     ]
    }
   ],
   "source": [
    "#insert code here\n",
    "model.summary()"
   ]
  },
  {
   "attachments": {},
   "cell_type": "markdown",
   "metadata": {},
   "source": [
    "We will now compile the model. During compilation, the following needs to be specified.\n",
    "\n",
    "* *Loss function* —This measures how accurate the model is during training. You want to minimize this function to \"steer\" the model in the right direction. Due to the way the output is encoded, we will be using sparse categorical crossentropy as the loss function.\n",
    "* *Optimizer* —This is how the model is updated based on the data it sees and its loss function. In our case, we will just use Adam. \n",
    "* *Metrics* —Used to monitor the training and testing steps. In our case, we want to monitor *accuracy*, the fraction of the images that are correctly classified"
   ]
  },
  {
   "cell_type": "code",
   "execution_count": 71,
   "metadata": {},
   "outputs": [],
   "source": [
    "model.compile(optimizer='adam', loss='sparse_categorical_crossentropy', metrics=['accuracy'])"
   ]
  },
  {
   "attachments": {},
   "cell_type": "markdown",
   "metadata": {},
   "source": [
    "We will now train the model for 30 epochs. We will also make use of Tensorboard callback to visualize the training progress."
   ]
  },
  {
   "cell_type": "code",
   "execution_count": 69,
   "metadata": {},
   "outputs": [],
   "source": [
    "# define the tensorboard callback \n",
    "import os\n",
    "\n",
    "root_logdir = os.path.join(os.curdir, \"tb_logs\")\n",
    "\n",
    "def get_run_logdir():    # use a new directory for each run\n",
    "\timport time\n",
    "\trun_id = time.strftime(\"run_%Y_%m_%d-%H_%M_%S\")\n",
    "\treturn os.path.join(root_logdir, run_id)\n",
    "\n",
    "run_logdir = get_run_logdir()\n",
    "\n",
    "tb_callback = tf.keras.callbacks.TensorBoard(run_logdir)"
   ]
  },
  {
   "cell_type": "code",
   "execution_count": 72,
   "metadata": {},
   "outputs": [
    {
     "name": "stdout",
     "output_type": "stream",
     "text": [
      "Epoch 1/30\n",
      "1563/1563 [==============================] - 6s 3ms/step - loss: 0.5139 - accuracy: 0.8206 - val_loss: 0.4095 - val_accuracy: 0.8574\n",
      "Epoch 2/30\n",
      "1563/1563 [==============================] - 5s 3ms/step - loss: 0.3806 - accuracy: 0.8641 - val_loss: 0.3791 - val_accuracy: 0.8687\n",
      "Epoch 3/30\n",
      "1563/1563 [==============================] - 5s 3ms/step - loss: 0.3436 - accuracy: 0.8749 - val_loss: 0.3507 - val_accuracy: 0.8735\n",
      "Epoch 4/30\n",
      "1563/1563 [==============================] - 5s 3ms/step - loss: 0.3163 - accuracy: 0.8843 - val_loss: 0.3391 - val_accuracy: 0.8773\n",
      "Epoch 5/30\n",
      "1563/1563 [==============================] - 5s 3ms/step - loss: 0.2977 - accuracy: 0.8907 - val_loss: 0.3445 - val_accuracy: 0.8770\n",
      "Epoch 6/30\n",
      "1563/1563 [==============================] - 5s 3ms/step - loss: 0.2826 - accuracy: 0.8960 - val_loss: 0.3753 - val_accuracy: 0.8701\n",
      "Epoch 7/30\n",
      "1563/1563 [==============================] - 4s 3ms/step - loss: 0.2694 - accuracy: 0.9009 - val_loss: 0.3387 - val_accuracy: 0.8781\n",
      "Epoch 8/30\n",
      "1563/1563 [==============================] - 4s 3ms/step - loss: 0.2615 - accuracy: 0.9030 - val_loss: 0.3233 - val_accuracy: 0.8867\n",
      "Epoch 9/30\n",
      "1563/1563 [==============================] - 5s 3ms/step - loss: 0.2494 - accuracy: 0.9080 - val_loss: 0.3290 - val_accuracy: 0.8847\n",
      "Epoch 10/30\n",
      "1563/1563 [==============================] - 4s 3ms/step - loss: 0.2413 - accuracy: 0.9101 - val_loss: 0.3550 - val_accuracy: 0.8739\n",
      "Epoch 11/30\n",
      "1563/1563 [==============================] - 5s 3ms/step - loss: 0.2323 - accuracy: 0.9134 - val_loss: 0.3260 - val_accuracy: 0.8850\n",
      "Epoch 12/30\n",
      "1563/1563 [==============================] - 5s 3ms/step - loss: 0.2221 - accuracy: 0.9170 - val_loss: 0.3291 - val_accuracy: 0.8836\n",
      "Epoch 13/30\n",
      "1563/1563 [==============================] - 5s 3ms/step - loss: 0.2160 - accuracy: 0.9196 - val_loss: 0.3278 - val_accuracy: 0.8864\n",
      "Epoch 14/30\n",
      "1563/1563 [==============================] - 4s 3ms/step - loss: 0.2098 - accuracy: 0.9221 - val_loss: 0.3343 - val_accuracy: 0.8855\n",
      "Epoch 15/30\n",
      "1563/1563 [==============================] - 5s 3ms/step - loss: 0.2022 - accuracy: 0.9244 - val_loss: 0.3240 - val_accuracy: 0.8886\n",
      "Epoch 16/30\n",
      "1563/1563 [==============================] - 5s 3ms/step - loss: 0.1981 - accuracy: 0.9255 - val_loss: 0.3295 - val_accuracy: 0.8910\n",
      "Epoch 17/30\n",
      "1563/1563 [==============================] - 4s 3ms/step - loss: 0.1902 - accuracy: 0.9287 - val_loss: 0.3433 - val_accuracy: 0.8874\n",
      "Epoch 18/30\n",
      "1563/1563 [==============================] - 4s 3ms/step - loss: 0.1845 - accuracy: 0.9318 - val_loss: 0.3543 - val_accuracy: 0.8879\n",
      "Epoch 19/30\n",
      "1563/1563 [==============================] - 4s 3ms/step - loss: 0.1811 - accuracy: 0.9328 - val_loss: 0.3334 - val_accuracy: 0.8899\n",
      "Epoch 20/30\n",
      "1563/1563 [==============================] - 4s 3ms/step - loss: 0.1769 - accuracy: 0.9342 - val_loss: 0.3623 - val_accuracy: 0.8877\n",
      "Epoch 21/30\n",
      "1563/1563 [==============================] - 4s 3ms/step - loss: 0.1732 - accuracy: 0.9352 - val_loss: 0.3350 - val_accuracy: 0.8923\n",
      "Epoch 22/30\n",
      "1563/1563 [==============================] - 4s 3ms/step - loss: 0.1651 - accuracy: 0.9384 - val_loss: 0.3550 - val_accuracy: 0.8875\n",
      "Epoch 23/30\n",
      "1563/1563 [==============================] - 4s 3ms/step - loss: 0.1635 - accuracy: 0.9392 - val_loss: 0.3748 - val_accuracy: 0.8875\n",
      "Epoch 24/30\n",
      "1563/1563 [==============================] - 4s 3ms/step - loss: 0.1582 - accuracy: 0.9418 - val_loss: 0.3660 - val_accuracy: 0.8856\n",
      "Epoch 25/30\n",
      "1563/1563 [==============================] - 5s 3ms/step - loss: 0.1536 - accuracy: 0.9432 - val_loss: 0.3893 - val_accuracy: 0.8855\n",
      "Epoch 26/30\n",
      "1563/1563 [==============================] - 4s 3ms/step - loss: 0.1510 - accuracy: 0.9433 - val_loss: 0.3811 - val_accuracy: 0.8885\n",
      "Epoch 27/30\n",
      "1563/1563 [==============================] - 4s 3ms/step - loss: 0.1453 - accuracy: 0.9451 - val_loss: 0.3939 - val_accuracy: 0.8890\n",
      "Epoch 28/30\n",
      "1563/1563 [==============================] - 5s 3ms/step - loss: 0.1458 - accuracy: 0.9452 - val_loss: 0.3730 - val_accuracy: 0.8856\n",
      "Epoch 29/30\n",
      "1563/1563 [==============================] - 5s 3ms/step - loss: 0.1360 - accuracy: 0.9494 - val_loss: 0.3773 - val_accuracy: 0.8905\n",
      "Epoch 30/30\n",
      "1563/1563 [==============================] - 5s 3ms/step - loss: 0.1384 - accuracy: 0.9490 - val_loss: 0.3984 - val_accuracy: 0.8868\n"
     ]
    },
    {
     "data": {
      "text/plain": [
       "<keras.callbacks.History at 0x22842b94ca0>"
      ]
     },
     "execution_count": 72,
     "metadata": {},
     "output_type": "execute_result"
    }
   ],
   "source": [
    "model.fit(train_images, \n",
    "                    train_labels, \n",
    "                    validation_data = (val_images, val_labels), \n",
    "                    epochs=30,\n",
    "                    callbacks=[tb_callback])"
   ]
  },
  {
   "cell_type": "code",
   "execution_count": null,
   "metadata": {},
   "outputs": [],
   "source": [
    "%load_ext tensorboard\n",
    "%tensorboard --logdir tb_logs"
   ]
  },
  {
   "attachments": {},
   "cell_type": "markdown",
   "metadata": {},
   "source": [
    "As the model trains, the loss and accuracy metrics are displayed. This model reaches an accuracy of about 0.94 (or 94%) on the training data and about 0.89 (89%) on the validation data. Let us see how it performs on the test data."
   ]
  },
  {
   "cell_type": "code",
   "execution_count": 73,
   "metadata": {},
   "outputs": [
    {
     "name": "stdout",
     "output_type": "stream",
     "text": [
      "313/313 - 1s - loss: 0.4295 - accuracy: 0.8757 - 680ms/epoch - 2ms/step\n",
      "\n",
      "Test accuracy: 0.8756999969482422\n"
     ]
    }
   ],
   "source": [
    "test_loss, test_acc = model.evaluate(test_images,  test_labels, verbose=2)\n",
    "\n",
    "print('\\nTest accuracy:', test_acc)"
   ]
  },
  {
   "attachments": {},
   "cell_type": "markdown",
   "metadata": {},
   "source": [
    "What do you notice about the validation and test accuracies compared to the training accuracies?"
   ]
  },
  {
   "attachments": {},
   "cell_type": "markdown",
   "metadata": {},
   "source": [
    "You can save or load the model by using the code below."
   ]
  },
  {
   "cell_type": "code",
   "execution_count": 80,
   "metadata": {},
   "outputs": [
    {
     "name": "stdout",
     "output_type": "stream",
     "text": [
      "INFO:tensorflow:Assets written to: fmnist_model\\assets\n"
     ]
    }
   ],
   "source": [
    "model.save('fmnist_model')\n",
    "saved_model = tf.keras.models.load_model('fmnist_model')"
   ]
  },
  {
   "attachments": {},
   "cell_type": "markdown",
   "metadata": {},
   "source": [
    "Add in Dropout layer after each Dense layer and retrain the network. Compare the validation with the train accuracy. What do you observe? "
   ]
  },
  {
   "cell_type": "code",
   "execution_count": 82,
   "metadata": {},
   "outputs": [
    {
     "name": "stdout",
     "output_type": "stream",
     "text": [
      "Epoch 1/30\n",
      "1563/1563 [==============================] - 7s 4ms/step - loss: 0.5750 - accuracy: 0.7974 - val_loss: 0.4202 - val_accuracy: 0.8474\n",
      "Epoch 2/30\n",
      "1563/1563 [==============================] - 5s 3ms/step - loss: 0.4304 - accuracy: 0.8459 - val_loss: 0.3842 - val_accuracy: 0.8625\n",
      "Epoch 3/30\n",
      "1563/1563 [==============================] - 5s 3ms/step - loss: 0.3923 - accuracy: 0.8557 - val_loss: 0.3791 - val_accuracy: 0.8639\n",
      "Epoch 4/30\n",
      "1563/1563 [==============================] - 5s 3ms/step - loss: 0.3688 - accuracy: 0.8654 - val_loss: 0.3606 - val_accuracy: 0.8672\n",
      "Epoch 5/30\n",
      "1563/1563 [==============================] - 5s 3ms/step - loss: 0.3586 - accuracy: 0.8684 - val_loss: 0.3403 - val_accuracy: 0.8761\n",
      "Epoch 6/30\n",
      "1563/1563 [==============================] - 5s 3ms/step - loss: 0.3423 - accuracy: 0.8737 - val_loss: 0.3473 - val_accuracy: 0.8770\n",
      "Epoch 7/30\n",
      "1563/1563 [==============================] - 5s 3ms/step - loss: 0.3336 - accuracy: 0.8763 - val_loss: 0.3432 - val_accuracy: 0.8758\n",
      "Epoch 8/30\n",
      "1563/1563 [==============================] - 5s 3ms/step - loss: 0.3258 - accuracy: 0.8794 - val_loss: 0.3270 - val_accuracy: 0.8813\n",
      "Epoch 9/30\n",
      "1563/1563 [==============================] - 5s 3ms/step - loss: 0.3152 - accuracy: 0.8818 - val_loss: 0.3277 - val_accuracy: 0.8817\n",
      "Epoch 10/30\n",
      "1563/1563 [==============================] - 5s 3ms/step - loss: 0.3088 - accuracy: 0.8850 - val_loss: 0.3268 - val_accuracy: 0.8830\n",
      "Epoch 11/30\n",
      "1563/1563 [==============================] - 6s 4ms/step - loss: 0.3040 - accuracy: 0.8876 - val_loss: 0.3245 - val_accuracy: 0.8797\n",
      "Epoch 12/30\n",
      "1563/1563 [==============================] - 6s 4ms/step - loss: 0.2976 - accuracy: 0.8876 - val_loss: 0.3164 - val_accuracy: 0.8872\n",
      "Epoch 13/30\n",
      "1563/1563 [==============================] - 6s 4ms/step - loss: 0.2885 - accuracy: 0.8927 - val_loss: 0.3198 - val_accuracy: 0.8855\n",
      "Epoch 14/30\n",
      "1563/1563 [==============================] - 5s 3ms/step - loss: 0.2890 - accuracy: 0.8913 - val_loss: 0.3171 - val_accuracy: 0.8866\n",
      "Epoch 15/30\n",
      "1563/1563 [==============================] - 6s 4ms/step - loss: 0.2815 - accuracy: 0.8952 - val_loss: 0.3149 - val_accuracy: 0.8858\n",
      "Epoch 16/30\n",
      "1563/1563 [==============================] - 5s 3ms/step - loss: 0.2797 - accuracy: 0.8953 - val_loss: 0.3327 - val_accuracy: 0.8825\n",
      "Epoch 17/30\n",
      "1563/1563 [==============================] - 5s 3ms/step - loss: 0.2761 - accuracy: 0.8956 - val_loss: 0.3128 - val_accuracy: 0.8903\n",
      "Epoch 18/30\n",
      "1563/1563 [==============================] - 5s 3ms/step - loss: 0.2695 - accuracy: 0.8972 - val_loss: 0.3176 - val_accuracy: 0.8927\n",
      "Epoch 19/30\n",
      "1563/1563 [==============================] - 5s 3ms/step - loss: 0.2661 - accuracy: 0.8994 - val_loss: 0.3241 - val_accuracy: 0.8894\n",
      "Epoch 20/30\n",
      "1563/1563 [==============================] - 5s 3ms/step - loss: 0.2629 - accuracy: 0.9016 - val_loss: 0.3153 - val_accuracy: 0.8905\n",
      "Epoch 21/30\n",
      "1563/1563 [==============================] - 5s 3ms/step - loss: 0.2613 - accuracy: 0.9009 - val_loss: 0.3163 - val_accuracy: 0.8903\n",
      "Epoch 22/30\n",
      "1563/1563 [==============================] - 5s 3ms/step - loss: 0.2571 - accuracy: 0.9018 - val_loss: 0.3193 - val_accuracy: 0.8900\n",
      "Epoch 23/30\n",
      "1563/1563 [==============================] - 5s 3ms/step - loss: 0.2516 - accuracy: 0.9053 - val_loss: 0.3352 - val_accuracy: 0.8863\n",
      "Epoch 24/30\n",
      "1563/1563 [==============================] - 5s 3ms/step - loss: 0.2487 - accuracy: 0.9053 - val_loss: 0.3303 - val_accuracy: 0.8914\n",
      "Epoch 25/30\n",
      "1563/1563 [==============================] - 5s 3ms/step - loss: 0.2492 - accuracy: 0.9049 - val_loss: 0.3104 - val_accuracy: 0.8933\n",
      "Epoch 26/30\n",
      "1563/1563 [==============================] - 5s 3ms/step - loss: 0.2446 - accuracy: 0.9066 - val_loss: 0.3258 - val_accuracy: 0.8886\n",
      "Epoch 27/30\n",
      "1563/1563 [==============================] - 6s 4ms/step - loss: 0.2433 - accuracy: 0.9076 - val_loss: 0.3155 - val_accuracy: 0.8869\n",
      "Epoch 28/30\n",
      "1563/1563 [==============================] - 5s 3ms/step - loss: 0.2367 - accuracy: 0.9082 - val_loss: 0.3249 - val_accuracy: 0.8879\n",
      "Epoch 29/30\n",
      "1563/1563 [==============================] - 5s 3ms/step - loss: 0.2379 - accuracy: 0.9090 - val_loss: 0.3418 - val_accuracy: 0.8909\n",
      "Epoch 30/30\n",
      "1563/1563 [==============================] - 5s 3ms/step - loss: 0.2360 - accuracy: 0.9094 - val_loss: 0.3318 - val_accuracy: 0.8889\n"
     ]
    },
    {
     "data": {
      "text/plain": [
       "<keras.callbacks.History at 0x22842fbea30>"
      ]
     },
     "execution_count": 82,
     "metadata": {},
     "output_type": "execute_result"
    }
   ],
   "source": [
    "from tensorflow.keras.layers import Flatten, Dense, Dropout\n",
    "from tensorflow.keras.models import Sequential\n",
    "\n",
    "model = Sequential()\n",
    "model.add(Flatten(input_shape=(28,28)))\n",
    "model.add(Dense(, activation='')) # fill up the code\n",
    "model.add(Dropout(0.3))\n",
    "model.add(Dense(, activation='')) # fill up the code\n",
    "\n",
    "model.compile(optimizer='adam', loss='sparse_categorical_crossentropy', metrics=['accuracy'])\n",
    "\n",
    "model.fit(train_images, \n",
    "                    train_labels, \n",
    "                    validation_data = (val_images, val_labels), \n",
    "                    epochs=30)\n"
   ]
  },
  {
   "attachments": {},
   "cell_type": "markdown",
   "metadata": {},
   "source": [
    "We can also use the early stopping callback to stop the training when there is o more improvement (for 5 epochs) in the validation accuracy. \n",
    "See the documentation on [EarlyStopping callback](https://www.tensorflow.org/api_docs/python/tf/keras/callbacks/EarlyStopping) "
   ]
  },
  {
   "cell_type": "code",
   "execution_count": 84,
   "metadata": {},
   "outputs": [
    {
     "name": "stdout",
     "output_type": "stream",
     "text": [
      "Epoch 1/30\n",
      "1563/1563 [==============================] - 6s 3ms/step - loss: 0.5160 - accuracy: 0.8205 - val_loss: 0.4408 - val_accuracy: 0.8425\n",
      "Epoch 2/30\n",
      "1563/1563 [==============================] - 5s 3ms/step - loss: 0.3872 - accuracy: 0.8611 - val_loss: 0.3880 - val_accuracy: 0.8654\n",
      "Epoch 3/30\n",
      "1563/1563 [==============================] - 5s 3ms/step - loss: 0.3464 - accuracy: 0.8745 - val_loss: 0.3496 - val_accuracy: 0.8740\n",
      "Epoch 4/30\n",
      "1563/1563 [==============================] - 5s 3ms/step - loss: 0.3192 - accuracy: 0.8840 - val_loss: 0.3413 - val_accuracy: 0.8756\n",
      "Epoch 5/30\n",
      "1563/1563 [==============================] - 6s 4ms/step - loss: 0.3009 - accuracy: 0.8889 - val_loss: 0.3324 - val_accuracy: 0.8816\n",
      "Epoch 6/30\n",
      "1563/1563 [==============================] - 6s 4ms/step - loss: 0.2852 - accuracy: 0.8954 - val_loss: 0.3401 - val_accuracy: 0.8749\n",
      "Epoch 7/30\n",
      "1563/1563 [==============================] - 6s 4ms/step - loss: 0.2731 - accuracy: 0.8988 - val_loss: 0.3570 - val_accuracy: 0.8710\n",
      "Epoch 8/30\n",
      "1563/1563 [==============================] - 6s 4ms/step - loss: 0.2599 - accuracy: 0.9050 - val_loss: 0.3128 - val_accuracy: 0.8877\n",
      "Epoch 9/30\n",
      "1563/1563 [==============================] - 6s 4ms/step - loss: 0.2499 - accuracy: 0.9065 - val_loss: 0.3431 - val_accuracy: 0.8808\n",
      "Epoch 10/30\n",
      "1563/1563 [==============================] - 6s 4ms/step - loss: 0.2411 - accuracy: 0.9101 - val_loss: 0.3407 - val_accuracy: 0.8811\n",
      "Epoch 11/30\n",
      "1563/1563 [==============================] - 5s 3ms/step - loss: 0.2313 - accuracy: 0.9136 - val_loss: 0.3095 - val_accuracy: 0.8900\n",
      "Epoch 12/30\n",
      "1563/1563 [==============================] - 5s 3ms/step - loss: 0.2249 - accuracy: 0.9168 - val_loss: 0.3277 - val_accuracy: 0.8836\n",
      "Epoch 13/30\n",
      "1563/1563 [==============================] - 5s 3ms/step - loss: 0.2184 - accuracy: 0.9192 - val_loss: 0.3237 - val_accuracy: 0.8866\n",
      "Epoch 14/30\n",
      "1563/1563 [==============================] - 5s 3ms/step - loss: 0.2106 - accuracy: 0.9209 - val_loss: 0.3531 - val_accuracy: 0.8800\n",
      "Epoch 15/30\n",
      "1563/1563 [==============================] - 5s 3ms/step - loss: 0.2053 - accuracy: 0.9227 - val_loss: 0.3368 - val_accuracy: 0.8856\n",
      "Epoch 16/30\n",
      "1563/1563 [==============================] - 4s 3ms/step - loss: 0.1981 - accuracy: 0.9264 - val_loss: 0.3441 - val_accuracy: 0.8874\n"
     ]
    },
    {
     "data": {
      "text/plain": [
       "<keras.callbacks.History at 0x228432c8eb0>"
      ]
     },
     "execution_count": 84,
     "metadata": {},
     "output_type": "execute_result"
    }
   ],
   "source": [
    "earlystop_callback = tf.keras.callbacks.EarlyStopping(\n",
    "    monitor='val_accuracy', patience=5, verbose=0,\n",
    "    mode='auto', restore_best_weights=True\n",
    ")\n",
    "\n",
    "model = Sequential()\n",
    "model.add(Flatten(input_shape=(28,28)))\n",
    "model.add(Dense(128, activation='relu'))\n",
    "model.add(Dense(10, activation='softmax'))\n",
    "\n",
    "model.compile(optimizer='adam', \n",
    "              loss='sparse_categorical_crossentropy', \n",
    "              metrics=['accuracy'])\n",
    "\n",
    "model.fit(train_images, train_labels, \n",
    "          validation_data=(val_images, val_labels),\n",
    "          epochs=30,\n",
    "          callbacks=[earlystop_callback])"
   ]
  },
  {
   "cell_type": "code",
   "execution_count": 85,
   "metadata": {},
   "outputs": [
    {
     "name": "stdout",
     "output_type": "stream",
     "text": [
      "Epoch 1/30\n",
      "1563/1563 [==============================] - 6s 4ms/step - loss: 0.9124 - accuracy: 0.7883 - val_loss: 0.7064 - val_accuracy: 0.8026\n",
      "Epoch 2/30\n",
      "1563/1563 [==============================] - 5s 3ms/step - loss: 0.6549 - accuracy: 0.8109 - val_loss: 0.7427 - val_accuracy: 0.7624\n",
      "Epoch 3/30\n",
      "1563/1563 [==============================] - 5s 3ms/step - loss: 0.6265 - accuracy: 0.8188 - val_loss: 0.5990 - val_accuracy: 0.8322\n",
      "Epoch 4/30\n",
      "1563/1563 [==============================] - 5s 3ms/step - loss: 0.6120 - accuracy: 0.8207 - val_loss: 0.6309 - val_accuracy: 0.8144\n",
      "Epoch 5/30\n",
      "1563/1563 [==============================] - 5s 3ms/step - loss: 0.5926 - accuracy: 0.8265 - val_loss: 0.5749 - val_accuracy: 0.8323\n",
      "Epoch 6/30\n",
      "1563/1563 [==============================] - 5s 3ms/step - loss: 0.5833 - accuracy: 0.8280 - val_loss: 0.6362 - val_accuracy: 0.8134\n",
      "Epoch 7/30\n",
      "1563/1563 [==============================] - 5s 3ms/step - loss: 0.5757 - accuracy: 0.8318 - val_loss: 0.5774 - val_accuracy: 0.8340\n",
      "Epoch 8/30\n",
      "1563/1563 [==============================] - 5s 3ms/step - loss: 0.5697 - accuracy: 0.8332 - val_loss: 0.5512 - val_accuracy: 0.8392\n",
      "Epoch 9/30\n",
      "1563/1563 [==============================] - 5s 3ms/step - loss: 0.5635 - accuracy: 0.8343 - val_loss: 0.6065 - val_accuracy: 0.8205\n",
      "Epoch 10/30\n",
      "1563/1563 [==============================] - 5s 3ms/step - loss: 0.5559 - accuracy: 0.8365 - val_loss: 0.5838 - val_accuracy: 0.8321\n",
      "Epoch 11/30\n",
      "1563/1563 [==============================] - 5s 3ms/step - loss: 0.5532 - accuracy: 0.8362 - val_loss: 0.5720 - val_accuracy: 0.8228\n",
      "Epoch 12/30\n",
      "1563/1563 [==============================] - 5s 3ms/step - loss: 0.5443 - accuracy: 0.8396 - val_loss: 0.5662 - val_accuracy: 0.8342\n",
      "Epoch 13/30\n",
      "1563/1563 [==============================] - 5s 3ms/step - loss: 0.5403 - accuracy: 0.8407 - val_loss: 0.5353 - val_accuracy: 0.8399\n",
      "Epoch 14/30\n",
      "1563/1563 [==============================] - 5s 3ms/step - loss: 0.5371 - accuracy: 0.8408 - val_loss: 0.5661 - val_accuracy: 0.8272\n",
      "Epoch 15/30\n",
      "1563/1563 [==============================] - 5s 3ms/step - loss: 0.5350 - accuracy: 0.8406 - val_loss: 0.5318 - val_accuracy: 0.8414\n",
      "Epoch 16/30\n",
      "1563/1563 [==============================] - 5s 3ms/step - loss: 0.5338 - accuracy: 0.8423 - val_loss: 0.5314 - val_accuracy: 0.8462\n",
      "Epoch 17/30\n",
      "1563/1563 [==============================] - 5s 3ms/step - loss: 0.5254 - accuracy: 0.8440 - val_loss: 0.5409 - val_accuracy: 0.8399\n",
      "Epoch 18/30\n",
      "1563/1563 [==============================] - 5s 3ms/step - loss: 0.5237 - accuracy: 0.8426 - val_loss: 0.5287 - val_accuracy: 0.8412\n",
      "Epoch 19/30\n",
      "1563/1563 [==============================] - 5s 3ms/step - loss: 0.5262 - accuracy: 0.8427 - val_loss: 0.5970 - val_accuracy: 0.8031\n",
      "Epoch 20/30\n",
      "1563/1563 [==============================] - 5s 3ms/step - loss: 0.5237 - accuracy: 0.8421 - val_loss: 0.5249 - val_accuracy: 0.8440\n",
      "Epoch 21/30\n",
      "1563/1563 [==============================] - 5s 3ms/step - loss: 0.5196 - accuracy: 0.8445 - val_loss: 0.5036 - val_accuracy: 0.8508\n",
      "Epoch 22/30\n",
      "1563/1563 [==============================] - 5s 3ms/step - loss: 0.5169 - accuracy: 0.8458 - val_loss: 0.5102 - val_accuracy: 0.8468\n",
      "Epoch 23/30\n",
      "1563/1563 [==============================] - 5s 3ms/step - loss: 0.5155 - accuracy: 0.8454 - val_loss: 0.5470 - val_accuracy: 0.8314\n",
      "Epoch 24/30\n",
      "1563/1563 [==============================] - 5s 3ms/step - loss: 0.5122 - accuracy: 0.8467 - val_loss: 0.4949 - val_accuracy: 0.8534\n",
      "Epoch 25/30\n",
      "1563/1563 [==============================] - 5s 3ms/step - loss: 0.5138 - accuracy: 0.8475 - val_loss: 0.5026 - val_accuracy: 0.8486\n",
      "Epoch 26/30\n",
      "1563/1563 [==============================] - 5s 3ms/step - loss: 0.5118 - accuracy: 0.8446 - val_loss: 0.5109 - val_accuracy: 0.8469\n",
      "Epoch 27/30\n",
      "1563/1563 [==============================] - 5s 3ms/step - loss: 0.5067 - accuracy: 0.8473 - val_loss: 0.5019 - val_accuracy: 0.8510\n",
      "Epoch 28/30\n",
      "1563/1563 [==============================] - 5s 3ms/step - loss: 0.5091 - accuracy: 0.8465 - val_loss: 0.5149 - val_accuracy: 0.8441\n",
      "Epoch 29/30\n",
      "1563/1563 [==============================] - 5s 3ms/step - loss: 0.5101 - accuracy: 0.8455 - val_loss: 0.5740 - val_accuracy: 0.8246\n",
      "Epoch 30/30\n",
      "1563/1563 [==============================] - 5s 3ms/step - loss: 0.5085 - accuracy: 0.8475 - val_loss: 0.5041 - val_accuracy: 0.8497\n"
     ]
    },
    {
     "data": {
      "text/plain": [
       "<keras.callbacks.History at 0x228450c5850>"
      ]
     },
     "execution_count": 85,
     "metadata": {},
     "output_type": "execute_result"
    }
   ],
   "source": [
    "from tensorflow.keras.layers import Flatten, Dense, Dropout\n",
    "from tensorflow.keras.models import Sequential\n",
    "\n",
    "model = Sequential()\n",
    "model.add(Flatten(input_shape=(28,28)))\n",
    "model.add(Dense(, activation='', kernel_regularizer=tf.keras.regularizers.l2(0.01))) # fill up the code\n",
    "model.add(Dense(, activation='')) # fill up the code\n",
    "\n",
    "model.compile(optimizer='adam', loss='sparse_categorical_crossentropy', metrics=['accuracy'])\n",
    "\n",
    "model.fit(train_images, \n",
    "                    train_labels, \n",
    "                    validation_data = (val_images, val_labels), \n",
    "                    epochs=30)\n"
   ]
  }
 ],
 "metadata": {
  "kernelspec": {
   "display_name": "base",
   "language": "python",
   "name": "python3"
  },
  "language_info": {
   "codemirror_mode": {
    "name": "ipython",
    "version": 3
   },
   "file_extension": ".py",
   "mimetype": "text/x-python",
   "name": "python",
   "nbconvert_exporter": "python",
   "pygments_lexer": "ipython3",
   "version": "3.8.5"
  },
  "orig_nbformat": 4
 },
 "nbformat": 4,
 "nbformat_minor": 2
}
