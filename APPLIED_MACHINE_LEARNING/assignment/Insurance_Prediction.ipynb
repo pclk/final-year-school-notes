{
 "cells": [
  {
   "cell_type": "markdown",
   "metadata": {
    "id": "C8XyYl015748"
   },
   "source": [
    "# Data Understanding and Preparation"
   ]
  },
  {
   "cell_type": "markdown",
   "metadata": {
    "id": "eImRnLTOHBEj"
   },
   "source": [
    "Our goal is to ultimately develop a robust machine learning model that accurately predicts insurance premium amount (\"Premium Amount\")"
   ]
  },
  {
   "cell_type": "markdown",
   "metadata": {
    "id": "4qIjlN6b7u7k"
   },
   "source": [
    "## Data Understanding"
   ]
  },
  {
   "cell_type": "code",
   "execution_count": 35,
   "metadata": {},
   "outputs": [
    {
     "name": "stdout",
     "output_type": "stream",
     "text": [
      "Checking scikit-learn version...\n",
      "scikit-learn version: 1.4.2\n",
      "Checking xgboost version...\n",
      "xgboost version: 2.1.3\n"
     ]
    }
   ],
   "source": [
    "# Hyperparameter tuning for XGBoost\n",
    "from sklearn.model_selection import RandomizedSearchCV\n",
    "\n",
    "# --- Version Check and Upgrade (for Google Colab) ---\n",
    "print(\"Checking scikit-learn version...\")\n",
    "import sklearn\n",
    "print(f\"scikit-learn version: {sklearn.__version__}\")\n",
    "# scikit-learn version: 1.6.1\n",
    "\n",
    "# Upgrade scikit-learn if necessary (uncomment if version is old)\n",
    "# !pip install -U scikit-learn\n",
    "\n",
    "print(\"Checking xgboost version...\")\n",
    "import xgboost\n",
    "print(f\"xgboost version: {xgboost.__version__}\")"
   ]
  },
  {
   "cell_type": "code",
   "execution_count": 1,
   "metadata": {
    "colab": {
     "base_uri": "https://localhost:8080/"
    },
    "executionInfo": {
     "elapsed": 2925,
     "status": "ok",
     "timestamp": 1738323440325,
     "user": {
      "displayName": "Wei Heng Siew",
      "userId": "04629219102564690549"
     },
     "user_tz": -480
    },
    "id": "tzv3Ks5z6S4w",
    "outputId": "c8e3a48a-fc5e-4d81-a12b-63c570dc292d"
   },
   "outputs": [],
   "source": [
    "# from google.colab import drive\n",
    "# drive.mount('/content/drive')"
   ]
  },
  {
   "cell_type": "code",
   "execution_count": 2,
   "metadata": {
    "id": "cZ9OWR71lI0h"
   },
   "outputs": [],
   "source": [
    "import pandas as pd\n",
    "import numpy as np"
   ]
  },
  {
   "cell_type": "code",
   "execution_count": 3,
   "metadata": {
    "id": "WQ6NdhVu6ha0"
   },
   "outputs": [],
   "source": [
    "# change to the appropriate filepath to the csv\n",
    "GOOGLE_COLAB_FILE_DIR=\"/content/drive/MyDrive/school/AML/insurance_prediction.csv\"\n",
    "\n",
    "df = pd.read_csv(\"insurance_prediction.csv\")"
   ]
  },
  {
   "cell_type": "code",
   "execution_count": 4,
   "metadata": {
    "colab": {
     "base_uri": "https://localhost:8080/"
    },
    "executionInfo": {
     "elapsed": 1546,
     "status": "ok",
     "timestamp": 1738323467236,
     "user": {
      "displayName": "Wei Heng Siew",
      "userId": "04629219102564690549"
     },
     "user_tz": -480
    },
    "id": "0dHEyEXe6k2n",
    "outputId": "a4c16011-425b-4c10-ed26-5489de23ad5a"
   },
   "outputs": [
    {
     "name": "stdout",
     "output_type": "stream",
     "text": [
      "<class 'pandas.core.frame.DataFrame'>\n",
      "RangeIndex: 1200000 entries, 0 to 1199999\n",
      "Data columns (total 21 columns):\n",
      " #   Column                Non-Null Count    Dtype  \n",
      "---  ------                --------------    -----  \n",
      " 0   id                    1200000 non-null  int64  \n",
      " 1   Age                   1181295 non-null  float64\n",
      " 2   Gender                1200000 non-null  object \n",
      " 3   Annual Income         1155051 non-null  float64\n",
      " 4   Marital Status        1181471 non-null  object \n",
      " 5   Number of Dependents  1090328 non-null  float64\n",
      " 6   Education Level       1200000 non-null  object \n",
      " 7   Occupation            841925 non-null   object \n",
      " 8   Health Score          1125924 non-null  float64\n",
      " 9   Location              1200000 non-null  object \n",
      " 10  Policy Type           1200000 non-null  object \n",
      " 11  Previous Claims       835971 non-null   float64\n",
      " 12  Vehicle Age           1199994 non-null  float64\n",
      " 13  Credit Score          1062118 non-null  float64\n",
      " 14  Insurance Duration    1199999 non-null  float64\n",
      " 15  Policy Start Date     1200000 non-null  object \n",
      " 16  Customer Feedback     1122176 non-null  object \n",
      " 17  Smoking Status        1200000 non-null  object \n",
      " 18  Exercise Frequency    1200000 non-null  object \n",
      " 19  Property Type         1200000 non-null  object \n",
      " 20  Premium Amount        1200000 non-null  float64\n",
      "dtypes: float64(9), int64(1), object(11)\n",
      "memory usage: 192.3+ MB\n"
     ]
    }
   ],
   "source": [
    "df.info()"
   ]
  },
  {
   "cell_type": "code",
   "execution_count": 5,
   "metadata": {},
   "outputs": [
    {
     "data": {
      "text/html": [
       "<div>\n",
       "<style scoped>\n",
       "    .dataframe tbody tr th:only-of-type {\n",
       "        vertical-align: middle;\n",
       "    }\n",
       "\n",
       "    .dataframe tbody tr th {\n",
       "        vertical-align: top;\n",
       "    }\n",
       "\n",
       "    .dataframe thead th {\n",
       "        text-align: right;\n",
       "    }\n",
       "</style>\n",
       "<table border=\"1\" class=\"dataframe\">\n",
       "  <thead>\n",
       "    <tr style=\"text-align: right;\">\n",
       "      <th></th>\n",
       "      <th>id</th>\n",
       "      <th>Age</th>\n",
       "      <th>Gender</th>\n",
       "      <th>Annual Income</th>\n",
       "      <th>Marital Status</th>\n",
       "      <th>Number of Dependents</th>\n",
       "      <th>Education Level</th>\n",
       "      <th>Occupation</th>\n",
       "      <th>Health Score</th>\n",
       "      <th>Location</th>\n",
       "      <th>...</th>\n",
       "      <th>Previous Claims</th>\n",
       "      <th>Vehicle Age</th>\n",
       "      <th>Credit Score</th>\n",
       "      <th>Insurance Duration</th>\n",
       "      <th>Policy Start Date</th>\n",
       "      <th>Customer Feedback</th>\n",
       "      <th>Smoking Status</th>\n",
       "      <th>Exercise Frequency</th>\n",
       "      <th>Property Type</th>\n",
       "      <th>Premium Amount</th>\n",
       "    </tr>\n",
       "  </thead>\n",
       "  <tbody>\n",
       "    <tr>\n",
       "      <th>0</th>\n",
       "      <td>0</td>\n",
       "      <td>19.0</td>\n",
       "      <td>Female</td>\n",
       "      <td>10049.0</td>\n",
       "      <td>Married</td>\n",
       "      <td>1.0</td>\n",
       "      <td>Bachelor's</td>\n",
       "      <td>Self-Employed</td>\n",
       "      <td>22.598761</td>\n",
       "      <td>Urban</td>\n",
       "      <td>...</td>\n",
       "      <td>2.0</td>\n",
       "      <td>17.0</td>\n",
       "      <td>372.0</td>\n",
       "      <td>5.0</td>\n",
       "      <td>2023-12-23 15:21:39.134960</td>\n",
       "      <td>Poor</td>\n",
       "      <td>No</td>\n",
       "      <td>Weekly</td>\n",
       "      <td>House</td>\n",
       "      <td>2869.0</td>\n",
       "    </tr>\n",
       "    <tr>\n",
       "      <th>1</th>\n",
       "      <td>1</td>\n",
       "      <td>39.0</td>\n",
       "      <td>Female</td>\n",
       "      <td>31678.0</td>\n",
       "      <td>Divorced</td>\n",
       "      <td>3.0</td>\n",
       "      <td>Master's</td>\n",
       "      <td>NaN</td>\n",
       "      <td>15.569731</td>\n",
       "      <td>Rural</td>\n",
       "      <td>...</td>\n",
       "      <td>1.0</td>\n",
       "      <td>12.0</td>\n",
       "      <td>694.0</td>\n",
       "      <td>2.0</td>\n",
       "      <td>2023-06-12 15:21:39.111551</td>\n",
       "      <td>Average</td>\n",
       "      <td>Yes</td>\n",
       "      <td>Monthly</td>\n",
       "      <td>House</td>\n",
       "      <td>1483.0</td>\n",
       "    </tr>\n",
       "    <tr>\n",
       "      <th>2</th>\n",
       "      <td>2</td>\n",
       "      <td>23.0</td>\n",
       "      <td>Male</td>\n",
       "      <td>25602.0</td>\n",
       "      <td>Divorced</td>\n",
       "      <td>3.0</td>\n",
       "      <td>High School</td>\n",
       "      <td>Self-Employed</td>\n",
       "      <td>47.177549</td>\n",
       "      <td>Suburban</td>\n",
       "      <td>...</td>\n",
       "      <td>1.0</td>\n",
       "      <td>14.0</td>\n",
       "      <td>NaN</td>\n",
       "      <td>3.0</td>\n",
       "      <td>2023-09-30 15:21:39.221386</td>\n",
       "      <td>Good</td>\n",
       "      <td>Yes</td>\n",
       "      <td>Weekly</td>\n",
       "      <td>House</td>\n",
       "      <td>567.0</td>\n",
       "    </tr>\n",
       "    <tr>\n",
       "      <th>3</th>\n",
       "      <td>3</td>\n",
       "      <td>21.0</td>\n",
       "      <td>Male</td>\n",
       "      <td>141855.0</td>\n",
       "      <td>Married</td>\n",
       "      <td>2.0</td>\n",
       "      <td>Bachelor's</td>\n",
       "      <td>NaN</td>\n",
       "      <td>10.938144</td>\n",
       "      <td>Rural</td>\n",
       "      <td>...</td>\n",
       "      <td>1.0</td>\n",
       "      <td>0.0</td>\n",
       "      <td>367.0</td>\n",
       "      <td>1.0</td>\n",
       "      <td>2024-06-12 15:21:39.226954</td>\n",
       "      <td>Poor</td>\n",
       "      <td>Yes</td>\n",
       "      <td>Daily</td>\n",
       "      <td>Apartment</td>\n",
       "      <td>765.0</td>\n",
       "    </tr>\n",
       "    <tr>\n",
       "      <th>4</th>\n",
       "      <td>4</td>\n",
       "      <td>21.0</td>\n",
       "      <td>Male</td>\n",
       "      <td>39651.0</td>\n",
       "      <td>Single</td>\n",
       "      <td>1.0</td>\n",
       "      <td>Bachelor's</td>\n",
       "      <td>Self-Employed</td>\n",
       "      <td>20.376094</td>\n",
       "      <td>Rural</td>\n",
       "      <td>...</td>\n",
       "      <td>0.0</td>\n",
       "      <td>8.0</td>\n",
       "      <td>598.0</td>\n",
       "      <td>4.0</td>\n",
       "      <td>2021-12-01 15:21:39.252145</td>\n",
       "      <td>Poor</td>\n",
       "      <td>Yes</td>\n",
       "      <td>Weekly</td>\n",
       "      <td>House</td>\n",
       "      <td>2022.0</td>\n",
       "    </tr>\n",
       "  </tbody>\n",
       "</table>\n",
       "<p>5 rows × 21 columns</p>\n",
       "</div>"
      ],
      "text/plain": [
       "   id   Age  Gender  Annual Income Marital Status  Number of Dependents  \\\n",
       "0   0  19.0  Female        10049.0        Married                   1.0   \n",
       "1   1  39.0  Female        31678.0       Divorced                   3.0   \n",
       "2   2  23.0    Male        25602.0       Divorced                   3.0   \n",
       "3   3  21.0    Male       141855.0        Married                   2.0   \n",
       "4   4  21.0    Male        39651.0         Single                   1.0   \n",
       "\n",
       "  Education Level     Occupation  Health Score  Location  ... Previous Claims  \\\n",
       "0      Bachelor's  Self-Employed     22.598761     Urban  ...             2.0   \n",
       "1        Master's            NaN     15.569731     Rural  ...             1.0   \n",
       "2     High School  Self-Employed     47.177549  Suburban  ...             1.0   \n",
       "3      Bachelor's            NaN     10.938144     Rural  ...             1.0   \n",
       "4      Bachelor's  Self-Employed     20.376094     Rural  ...             0.0   \n",
       "\n",
       "   Vehicle Age  Credit Score  Insurance Duration           Policy Start Date  \\\n",
       "0         17.0         372.0                 5.0  2023-12-23 15:21:39.134960   \n",
       "1         12.0         694.0                 2.0  2023-06-12 15:21:39.111551   \n",
       "2         14.0           NaN                 3.0  2023-09-30 15:21:39.221386   \n",
       "3          0.0         367.0                 1.0  2024-06-12 15:21:39.226954   \n",
       "4          8.0         598.0                 4.0  2021-12-01 15:21:39.252145   \n",
       "\n",
       "  Customer Feedback Smoking Status Exercise Frequency Property Type  \\\n",
       "0              Poor             No             Weekly         House   \n",
       "1           Average            Yes            Monthly         House   \n",
       "2              Good            Yes             Weekly         House   \n",
       "3              Poor            Yes              Daily     Apartment   \n",
       "4              Poor            Yes             Weekly         House   \n",
       "\n",
       "  Premium Amount  \n",
       "0         2869.0  \n",
       "1         1483.0  \n",
       "2          567.0  \n",
       "3          765.0  \n",
       "4         2022.0  \n",
       "\n",
       "[5 rows x 21 columns]"
      ]
     },
     "execution_count": 5,
     "metadata": {},
     "output_type": "execute_result"
    }
   ],
   "source": [
    "df.head()"
   ]
  },
  {
   "cell_type": "code",
   "execution_count": 6,
   "metadata": {},
   "outputs": [
    {
     "data": {
      "text/plain": [
       "0     2023-12-23 15:21:39.134960\n",
       "1     2023-06-12 15:21:39.111551\n",
       "2     2023-09-30 15:21:39.221386\n",
       "3     2024-06-12 15:21:39.226954\n",
       "4     2021-12-01 15:21:39.252145\n",
       "5     2022-05-20 15:21:39.207847\n",
       "6     2020-02-21 15:21:39.219432\n",
       "7     2022-08-08 15:21:39.181605\n",
       "8     2020-12-14 15:21:39.198406\n",
       "9     2020-08-02 15:21:39.144722\n",
       "10    2021-05-12 15:21:39.134960\n",
       "11    2020-03-22 15:21:39.155231\n",
       "12    2021-10-28 15:21:39.086123\n",
       "13    2023-01-20 15:21:39.132191\n",
       "14    2021-08-14 15:21:39.233998\n",
       "15    2020-10-17 15:21:39.209847\n",
       "16    2024-04-22 15:21:39.255696\n",
       "17    2020-12-27 15:21:39.090124\n",
       "18    2021-10-13 15:21:39.094752\n",
       "19    2020-06-25 15:21:39.152732\n",
       "Name: Policy Start Date, dtype: object"
      ]
     },
     "execution_count": 6,
     "metadata": {},
     "output_type": "execute_result"
    }
   ],
   "source": [
    "df[\"Policy Start Date\"].head(20)"
   ]
  },
  {
   "cell_type": "markdown",
   "metadata": {},
   "source": [
    "We have a date column. Usually, these cannot be directly fed into the model, and additional feature engineering has to be done to the datetime. In this case, we can:\n",
    "\n",
    "- Extract the day, month, year, dayofweek, quarter of the datetime.\n",
    "> This can capture cyclical patterns\n",
    "\n",
    "- Extract the days elapsed since the earliest date.\n",
    "> This can capture temporal distance information.\n",
    "\n",
    "This will allow the datetime to transform into a numerical feature that can be used in modelling."
   ]
  },
  {
   "cell_type": "code",
   "execution_count": 7,
   "metadata": {
    "colab": {
     "base_uri": "https://localhost:8080/"
    },
    "executionInfo": {
     "elapsed": 1953,
     "status": "ok",
     "timestamp": 1738323527760,
     "user": {
      "displayName": "Wei Heng Siew",
      "userId": "04629219102564690549"
     },
     "user_tz": -480
    },
    "id": "ZLMZ9Ynt-Bzn",
    "outputId": "3329492e-f1d8-40b0-cfa3-d28abd576d41"
   },
   "outputs": [
    {
     "name": "stdout",
     "output_type": "stream",
     "text": [
      "Missing Value Analysis:\n",
      "------------------------------------------------------------\n",
      "Previous Claims      has 364029 (30.3%) missing values\n",
      "Occupation           has 358075 (29.8%) missing values\n",
      "Credit Score         has 137882 (11.5%) missing values\n",
      "Number of Dependents has 109672 ( 9.1%) missing values\n",
      "Customer Feedback    has  77824 ( 6.5%) missing values\n",
      "Health Score         has  74076 ( 6.2%) missing values\n",
      "Annual Income        has  44949 ( 3.7%) missing values\n",
      "Age                  has  18705 ( 1.6%) missing values\n",
      "Marital Status       has  18529 ( 1.5%) missing values\n",
      "Vehicle Age          has      6 ( 0.0%) missing values\n",
      "Insurance Duration   has      1 ( 0.0%) missing values\n"
     ]
    }
   ],
   "source": [
    "# Calculate missing values\n",
    "total_rows = len(df)\n",
    "missing_stats = df.isnull().sum()\n",
    "\n",
    "# Convert to percentage and filter columns with missing values\n",
    "missing_stats = missing_stats[missing_stats > 0]\n",
    "missing_pct = (missing_stats / total_rows * 100).round(1)\n",
    "\n",
    "# Create a DataFrame with both counts and percentages\n",
    "missing_df = pd.DataFrame(\n",
    "    {\"Missing Count\": missing_stats, \"Missing Percentage\": missing_pct}\n",
    ")\n",
    "\n",
    "# Sort by missing percentage in descending order\n",
    "missing_df = missing_df.sort_values(\"Missing Percentage\", ascending=False)\n",
    "\n",
    "# Format the output\n",
    "print(\"Missing Value Analysis:\")\n",
    "print(\"-\" * 60)\n",
    "for idx, row in missing_df.iterrows():\n",
    "    print(\n",
    "        f\"{idx:<20} has {int(row['Missing Count']):>6} ({row['Missing Percentage']:>4.1f}%) missing values\"\n",
    "    )"
   ]
  },
  {
   "cell_type": "markdown",
   "metadata": {
    "id": "UJoTad42Em2D"
   },
   "source": [
    "There are large gaps in important information like Occupation, Credit Score and other factors.\n",
    "\n",
    "Reasoning for Missing values are rarely random. For example, individuals from lower socioeconomic backgrounds might be less likely to provide detailed financial information, leading to higher proportion for missing values.\n",
    "\n",
    "If these missing values are not addressed correctly, especially due to the large amount of missing values, this can lead to biased models that unfairly disadvantage certain groups. For example, An AI model trained on data with systematic missingness might learn \"missing values\" = \"high risk\".\n",
    "\n",
    "One popular way to deal with missing values is imputation, which is the process of filling missing values. However, this can introduce its own biases. Simple methods like mean or median can distort the distribution of data. Imagine if Previous Claims' missing values was replaced with mean. The distribution would look like a normal distribution even though it, in reality, might not. More sophisticated methods like regression imputation or k-nearest neighbors can introduce complex dependencies that might not reflect reality.\n",
    "\n",
    "In reality, the data scientist facing such an issue should communicate back with the data engineer and subject matter experts regarding the reasoning for missing values, and gain additional insights from there, which can potentially allow the data scientist to create interaction terms based on these insights for the model to learn.\n",
    "\n",
    "After the data scientist create interaction terms, this step must be shared to increase the transparency of the model cleaning process. The company should have internal policies to document and store information in regards to model. Many insurance companies that treat their AI models as \"black boxes\" make it difficult to understand how decisions are made, eroding trust and making it challenging to identify biases.\n",
    "\n",
    "For the purposes of this assignment, we assume that the data scientist was able to gain the insights to decide that **mean imputation** for numerical, and **mode imputation** for categorical, is the correct and fair way to address the issue."
   ]
  },
  {
   "cell_type": "code",
   "execution_count": 8,
   "metadata": {
    "colab": {
     "base_uri": "https://localhost:8080/"
    },
    "executionInfo": {
     "elapsed": 2354,
     "status": "ok",
     "timestamp": 1738323530112,
     "user": {
      "displayName": "Wei Heng Siew",
      "userId": "04629219102564690549"
     },
     "user_tz": -480
    },
    "id": "w9rU2uTs-RFq",
    "outputId": "786cee2a-5562-4df0-a378-437b9a980075"
   },
   "outputs": [
    {
     "name": "stdout",
     "output_type": "stream",
     "text": [
      "\n",
      "Zero Value Analysis:\n",
      "------------------------------------------------------------\n",
      "Previous Claims      has 305433 (25.5%) zeros\n",
      "Number of Dependents has 218124 (18.2%) zeros\n",
      "Vehicle Age          has  61615 ( 5.1%) zeros\n",
      "id                   has      1 ( 0.0%) zeros\n"
     ]
    }
   ],
   "source": [
    "# Calculate zero values\n",
    "zero_stats = (df == 0).sum()\n",
    "zero_pct = (zero_stats / total_rows * 100).round(1)\n",
    "\n",
    "# Filter only numeric columns with zeros and create DataFrame\n",
    "numeric_cols = df.select_dtypes(include=[\"int64\", \"float64\"]).columns\n",
    "zero_df = pd.DataFrame(\n",
    "    {\"Zero Count\": zero_stats[numeric_cols], \"Zero Percentage\": zero_pct[numeric_cols]}\n",
    ")\n",
    "zero_df = zero_df[zero_df[\"Zero Count\"] > 0].sort_values(\n",
    "    \"Zero Percentage\", ascending=False\n",
    ")\n",
    "\n",
    "# Format the output for zero values\n",
    "print(\"\\nZero Value Analysis:\")\n",
    "print(\"-\" * 60)\n",
    "for idx, row in zero_df.iterrows():\n",
    "    print(\n",
    "        f\"{idx:<20} has {int(row['Zero Count']):>6} ({row['Zero Percentage']:>4.1f}%) zeros\"\n",
    "    )"
   ]
  },
  {
   "cell_type": "markdown",
   "metadata": {
    "id": "--W3683OG1E4"
   },
   "source": [
    "While missing values signify non-response, system errors, or data entry omissions, Zero values represent explicit data points. It could mean that a customer had 0 previous claims, or a placeholder for \"not applicable\", which may explain the large amount of 0 previous claims.\n",
    "\n",
    "Therefore, zero values have a high chance of being misinterpreted or mishandled by the various processes that the raw data goes through to get to the analysis stage. Zero values may be created from several reasons, and that needs to be checked by the data scientist, otherwise several ethical issues, like inaccurate predictions or unfair outcomes may occur, introducing bias and obscuring important information.\n",
    "\n",
    "For the purposes of this assignment, we assume that the data scientist was able to gain the insights to check that all the zeros mean that the items are zero, for example, 0 previous claims, 0 dependents, vehicle is brand new.\n",
    "\n",
    "This means that no actions are required to address the zeros."
   ]
  },
  {
   "cell_type": "code",
   "execution_count": 9,
   "metadata": {
    "colab": {
     "base_uri": "https://localhost:8080/"
    },
    "executionInfo": {
     "elapsed": 2260,
     "status": "ok",
     "timestamp": 1738323532370,
     "user": {
      "displayName": "Wei Heng Siew",
      "userId": "04629219102564690549"
     },
     "user_tz": -480
    },
    "id": "fX1SDedJ-T4v",
    "outputId": "e523234f-3a10-4518-eafa-1d2f2201e004"
   },
   "outputs": [
    {
     "name": "stdout",
     "output_type": "stream",
     "text": [
      "\n",
      "Categorical Variables Distribution:\n",
      "--------------------------------------------------------------------------------\n",
      "\n",
      "Gender:\n",
      "----------------------------------------------------------------------\n",
      "Male     :  602571 (50.2%) █████████████████████████\n",
      "Female   :  597429 (49.8%) ████████████████████████\n",
      "★ EVEN DISTRIBUTION ★ : max-min spread = 0.4%\n",
      "\n",
      "\n",
      "Marital Status:\n",
      "----------------------------------------------------------------------\n",
      "Single     :  395391 (32.9%) ████████████████\n",
      "Married    :  394316 (32.9%) ████████████████\n",
      "Divorced   :  391764 (32.6%) ████████████████\n",
      "★ EVEN DISTRIBUTION ★ : max-min spread = 0.3%\n",
      "\n",
      "\n",
      "Number of Dependents:\n",
      "----------------------------------------------------------------------\n",
      "3.0   :  221475 (18.5%) █████████\n",
      "4.0   :  220340 (18.4%) █████████\n",
      "0.0   :  218124 (18.2%) █████████\n",
      "2.0   :  215313 (17.9%) ████████\n",
      "1.0   :  215076 (17.9%) ████████\n",
      "★ EVEN DISTRIBUTION ★ : max-min spread = 0.6%\n",
      "\n",
      "\n",
      "Education Level:\n",
      "----------------------------------------------------------------------\n",
      "Master's      :  303818 (25.3%) ████████████\n",
      "PhD           :  303507 (25.3%) ████████████\n",
      "Bachelor's    :  303234 (25.3%) ████████████\n",
      "High School   :  289441 (24.1%) ████████████\n",
      "★ EVEN DISTRIBUTION ★ : max-min spread = 1.2%\n",
      "\n",
      "\n",
      "Occupation:\n",
      "----------------------------------------------------------------------\n",
      "Employed        :  282750 (23.6%) ███████████\n",
      "Self-Employed   :  282645 (23.6%) ███████████\n",
      "Unemployed      :  276530 (23.0%) ███████████\n",
      "★ EVEN DISTRIBUTION ★ : max-min spread = 0.6%\n",
      "\n",
      "\n",
      "Location:\n",
      "----------------------------------------------------------------------\n",
      "Suburban   :  401542 (33.5%) ████████████████\n",
      "Rural      :  400947 (33.4%) ████████████████\n",
      "Urban      :  397511 (33.1%) ████████████████\n",
      "★ EVEN DISTRIBUTION ★ : max-min spread = 0.4%\n",
      "\n",
      "\n",
      "Policy Type:\n",
      "----------------------------------------------------------------------\n",
      "Premium         :  401846 (33.5%) ████████████████\n",
      "Comprehensive   :  399600 (33.3%) ████████████████\n",
      "Basic           :  398554 (33.2%) ████████████████\n",
      "★ EVEN DISTRIBUTION ★ : max-min spread = 0.3%\n",
      "\n",
      "\n",
      "Customer Feedback:\n",
      "----------------------------------------------------------------------\n",
      "Average   :  377905 (31.5%) ███████████████\n",
      "Poor      :  375518 (31.3%) ███████████████\n",
      "Good      :  368753 (30.7%) ███████████████\n",
      "★ EVEN DISTRIBUTION ★ : max-min spread = 0.8%\n",
      "\n",
      "\n",
      "Smoking Status:\n",
      "----------------------------------------------------------------------\n",
      "Yes   :  601873 (50.2%) █████████████████████████\n",
      "No    :  598127 (49.8%) ████████████████████████\n",
      "★ EVEN DISTRIBUTION ★ : max-min spread = 0.4%\n",
      "\n",
      "\n",
      "Exercise Frequency:\n",
      "----------------------------------------------------------------------\n",
      "Weekly    :  306179 (25.5%) ████████████\n",
      "Monthly   :  299830 (25.0%) ████████████\n",
      "Rarely    :  299420 (25.0%) ████████████\n",
      "Daily     :  294571 (24.5%) ████████████\n",
      "★ EVEN DISTRIBUTION ★ : max-min spread = 1.0%\n",
      "\n",
      "\n",
      "Property Type:\n",
      "----------------------------------------------------------------------\n",
      "House       :  400349 (33.4%) ████████████████\n",
      "Apartment   :  399978 (33.3%) ████████████████\n",
      "Condo       :  399673 (33.3%) ████████████████\n",
      "★ EVEN DISTRIBUTION ★ : max-min spread = 0.1%\n",
      "\n"
     ]
    }
   ],
   "source": [
    "# Specify the columns we want to analyze\n",
    "categorical_cols = [\n",
    "    \"Gender\",\n",
    "    \"Marital Status\",\n",
    "    \"Number of Dependents\",\n",
    "    \"Education Level\",\n",
    "    \"Occupation\",\n",
    "    \"Location\",\n",
    "    \"Policy Type\",\n",
    "    \"Customer Feedback\",\n",
    "    \"Smoking Status\",\n",
    "    \"Exercise Frequency\",\n",
    "    \"Property Type\",\n",
    "]\n",
    "\n",
    "# Display distribution for each specified variable\n",
    "print(\"\\nCategorical Variables Distribution:\")\n",
    "print(\"-\" * 80)\n",
    "for col in categorical_cols:\n",
    "    value_counts = df[col].value_counts()\n",
    "    percentages = (value_counts / len(df) * 100).round(1)\n",
    "\n",
    "    # Sort by percentage in descending order\n",
    "    percentages = percentages.sort_values(ascending=False)\n",
    "    value_counts = value_counts[percentages.index]\n",
    "\n",
    "    print(f\"\\n{col}:\")\n",
    "    print(\"-\" * 70)\n",
    "\n",
    "    # Calculate max value length for alignment\n",
    "    max_val_length = max(len(str(val)) for val in value_counts.index)\n",
    "\n",
    "    # Create visual representation\n",
    "    for val, count in value_counts.items():\n",
    "        pct = percentages[val]\n",
    "        bar_length = int(pct / 2)  # Scale bar length (50 = full width)\n",
    "        bar = \"█\" * bar_length\n",
    "        print(f\"{str(val):<{max_val_length+2}} : {count:>7} ({pct:>4.1f}%) {bar}\")\n",
    "\n",
    "    # Add distribution indicator\n",
    "    unique_vals = len(value_counts)\n",
    "    max_pct = percentages.max()\n",
    "    min_pct = percentages.min()\n",
    "    pct_range = max_pct - min_pct\n",
    "\n",
    "    if unique_vals <= 5 and pct_range < 10:\n",
    "        print(\n",
    "            f\"{'★ EVEN DISTRIBUTION ★':>{max_val_length+2}} : max-min spread = {pct_range:.1f}%\"\n",
    "        )\n",
    "    print()\n"
   ]
  },
  {
   "cell_type": "markdown",
   "metadata": {
    "id": "JBxIjPnv_udv"
   },
   "source": [
    "All categorical variables are extremely even. Statistically speaking, this is improbable in real-world data. This strongly suggest that this is synthetic or artificially balanced data. Synthetic data is useful in educational sense, where students are expected to apply machine learning models to it and return relevant AI ethics info, but in the real world, synthetic data must be labelled clearly, like 'synthetic_insurance_prediction.csv'.\n"
   ]
  },
  {
   "cell_type": "code",
   "execution_count": 10,
   "metadata": {
    "colab": {
     "base_uri": "https://localhost:8080/",
     "height": 1000
    },
    "executionInfo": {
     "elapsed": 3998,
     "status": "ok",
     "timestamp": 1738323536366,
     "user": {
      "displayName": "Wei Heng Siew",
      "userId": "04629219102564690549"
     },
     "user_tz": -480
    },
    "id": "II2uTyHRH50T",
    "outputId": "d1fe7396-6523-4073-c315-3a2d163839d7"
   },
   "outputs": [
    {
     "data": {
      "image/png": "[encoded data removed]",
      "text/plain": [
       "<Figure size 1200x1000 with 2 Axes>"
      ]
     },
     "metadata": {},
     "output_type": "display_data"
    }
   ],
   "source": [
    "# Create correlation matrix plot\n",
    "import seaborn as sns\n",
    "import matplotlib.pyplot as plt\n",
    "\n",
    "# Select numeric columns only\n",
    "numeric_cols = df.select_dtypes(include=['int64', 'float64']).columns\n",
    "correlation_matrix = df[numeric_cols].corr()\n",
    "\n",
    "# Create a larger figure\n",
    "plt.figure(figsize=(12, 10))\n",
    "\n",
    "# Create heatmap\n",
    "sns.heatmap(correlation_matrix,\n",
    "            annot=True,            # Show correlation values\n",
    "            cmap='coolwarm',       # Color scheme\n",
    "            center=0,              # Center the colormap at 0\n",
    "            fmt='.2f',            # Format correlation values to 2 decimal places\n",
    "            square=True,           # Make cells square\n",
    "            linewidths=0.5,        # Add grid lines\n",
    "            cbar_kws={\"shrink\": .5}) # Adjust colorbar size\n",
    "\n",
    "plt.title('Correlation Matrix of Numeric Variables', pad=20)\n",
    "plt.xticks(rotation=45, ha='right')\n",
    "plt.yticks(rotation=0)\n",
    "plt.tight_layout()\n",
    "plt.show()"
   ]
  },
  {
   "cell_type": "markdown",
   "metadata": {
    "id": "SWPV3j-8IBpd"
   },
   "source": [
    "Signs of poor data:\n",
    "- Highest correlation is between Credit Score and Annual Income. This indicates possible multicollinearity\n",
    "- Looking at the rightmost column, we see that Premium Amount has very weak correlation with the rest of variables. the most is \"Previous Claims\", which is r=0.05. This indicates features that are not important to the target variable of \"Premium Amount\".\n",
    "\n",
    "The  signs of poor data are looking at the linear correlation of features and our target variable. While they may not capture non-linear relationships, we are not building a Deep Learning Model that can capture complex relationships. These bad signs mean that models will perform badly."
   ]
  },
  {
   "cell_type": "code",
   "execution_count": 11,
   "metadata": {},
   "outputs": [
    {
     "name": "stdout",
     "output_type": "stream",
     "text": [
      "\n",
      "Statistical Summary of Numeric Variables:\n",
      "--------------------------------------------------------------------------------\n",
      "               id         Age  Annual Income  Number of Dependents  \\\n",
      "count  1200000.00  1181295.00     1155051.00            1090328.00   \n",
      "mean    599999.50       41.15       32745.22                  2.01   \n",
      "std     346410.31       13.54       32179.51                  1.42   \n",
      "min          0.00       18.00           1.00                  0.00   \n",
      "25%     299999.75       30.00        8001.00                  1.00   \n",
      "50%     599999.50       41.00       23911.00                  2.00   \n",
      "75%     899999.25       53.00       44634.00                  3.00   \n",
      "max    1199999.00       64.00      149997.00                  4.00   \n",
      "\n",
      "       Health Score  Previous Claims  Vehicle Age  Credit Score  \\\n",
      "count    1125924.00        835971.00   1199994.00    1062118.00   \n",
      "mean          25.61             1.00         9.57        592.92   \n",
      "std           12.20             0.98         5.78        149.98   \n",
      "min            2.01             0.00         0.00        300.00   \n",
      "25%           15.92             0.00         5.00        468.00   \n",
      "50%           24.58             1.00        10.00        595.00   \n",
      "75%           34.53             2.00        15.00        721.00   \n",
      "max           58.98             9.00        19.00        849.00   \n",
      "\n",
      "       Insurance Duration  Premium Amount  \n",
      "count          1199999.00      1200000.00  \n",
      "mean                 5.02         1102.54  \n",
      "std                  2.59          865.00  \n",
      "min                  1.00           20.00  \n",
      "25%                  3.00          514.00  \n",
      "50%                  5.00          872.00  \n",
      "75%                  7.00         1509.00  \n",
      "max                  9.00         4999.00  \n",
      "\n",
      "Outlier Analysis using IQR method:\n",
      "--------------------------------------------------------------------------------\n",
      "\n",
      "Annual Income:\n",
      "Number of outliers: 67132\n",
      "Percentage of outliers: 5.59%\n",
      "Range of outliers: 99584.00 to 149997.00\n",
      "\n",
      "Previous Claims:\n",
      "Number of outliers: 369\n",
      "Percentage of outliers: 0.03%\n",
      "Range of outliers: 6.00 to 9.00\n",
      "\n",
      "Premium Amount:\n",
      "Number of outliers: 49320\n",
      "Percentage of outliers: 4.11%\n",
      "Range of outliers: 3002.00 to 4999.00\n"
     ]
    }
   ],
   "source": [
    "# Statistical Summary for Numeric Variables\n",
    "print(\"\\nStatistical Summary of Numeric Variables:\")\n",
    "print(\"-\" * 80)\n",
    "numeric_cols = df.select_dtypes(include=['int64', 'float64']).columns\n",
    "stats_df = df[numeric_cols].describe()\n",
    "print(stats_df.round(2))\n",
    "\n",
    "# Check for outliers using IQR method\n",
    "print(\"\\nOutlier Analysis using IQR method:\")\n",
    "print(\"-\" * 80)\n",
    "for col in numeric_cols:\n",
    "    Q1 = df[col].quantile(0.25)\n",
    "    Q3 = df[col].quantile(0.75)\n",
    "    IQR = Q3 - Q1\n",
    "    lower_bound = Q1 - 1.5 * IQR\n",
    "    upper_bound = Q3 + 1.5 * IQR\n",
    "    outliers = df[(df[col] < lower_bound) | (df[col] > upper_bound)][col]\n",
    "    if len(outliers) > 0:\n",
    "        print(f\"\\n{col}:\")\n",
    "        print(f\"Number of outliers: {len(outliers)}\")\n",
    "        print(f\"Percentage of outliers: {(len(outliers)/len(df)*100):.2f}%\")\n",
    "        print(f\"Range of outliers: {outliers.min():.2f} to {outliers.max():.2f}\")\n"
   ]
  },
  {
   "cell_type": "markdown",
   "metadata": {},
   "source": [
    "We have some outliers in Annual Income and Premium Amount. Outliers can either reflect genuine anomalies, or be the result of errors, biases ow unique circumstances. One thing that is certain is that outliers will skew the model's understanding of the underlying relationships between variables.\n",
    "\n",
    "In the worst case scenario, the outliers are misleading, and it for example, learns the few individuals with high incomes and overestimate the incomes, leading to inaccuracy and unfair pricing. Outliers can also introduce bias. If the outliers are more prevalent in certain demographic groups, the model might unfairly penalize individuals from those groups.\n",
    "\n",
    "looking at the number, percentage and range of outliers, it seems like these numbers can be rather reasonable.\n",
    "\n",
    "1. **Annual Income (99,584 to 149,997)**\n",
    "- The range appears reasonable because:\n",
    "  - The median income is 23,911\n",
    "  - High-income individuals earning 100K-150K annually is plausible\n",
    "  - The upper limit of ~150K suggests the data might be capped, which is a common practice\n",
    "  - The 5.59% proportion of outliers is within a reasonable range (typically <10% is acceptable)\n",
    "\n",
    "2. **Previous Claims (6 to 9)**\n",
    "- This range needs careful consideration:\n",
    "  - Having 6-9 previous claims is unusually high\n",
    "  - But Only 0.03% of customers fall in this range (369 cases out of 835,971)\n",
    "  - These could be:\n",
    "    - High-risk customers\n",
    "    - Potential fraud cases\n",
    "\n",
    "3. **Premium Amount (3,002 to 4,999)**\n",
    "- This range appears reasonable because:\n",
    "  - The median premium is 872\n",
    "  - Higher premiums (3K-5K) could correspond to:\n",
    "    - High-risk customers\n",
    "    - Comprehensive coverage\n",
    "    - Luxury vehicles\n",
    "    - Multiple vehicles/policies\n",
    "  - The 4.11% proportion is reasonable\n",
    "  - The upper limit of 4,999 suggests a policy cap\n"
   ]
  },
  {
   "cell_type": "code",
   "execution_count": 12,
   "metadata": {},
   "outputs": [
    {
     "name": "stdout",
     "output_type": "stream",
     "text": [
      "\n",
      "Premium Distribution for High-Claim Customers:\n",
      "count     369.000000\n",
      "mean     1357.542005\n",
      "std       986.236891\n",
      "min        20.000000\n",
      "25%       603.000000\n",
      "50%      1127.000000\n",
      "75%      1878.000000\n",
      "max      4955.000000\n",
      "Name: Premium Amount, dtype: float64\n"
     ]
    }
   ],
   "source": [
    "# Analyze premium distribution for high-claim customers\n",
    "high_claims_premium = df[df['Previous Claims'] >= 6]['Premium Amount']\n",
    "print(\"\\nPremium Distribution for High-Claim Customers:\")\n",
    "print(high_claims_premium.describe())"
   ]
  },
  {
   "cell_type": "markdown",
   "metadata": {},
   "source": [
    "Previous claims of more than or equal to 6 show very high premium distribution. It is reasonable to think that those with abnormally high previous claims also have abnormally high premium amount. "
   ]
  },
  {
   "cell_type": "code",
   "execution_count": 13,
   "metadata": {},
   "outputs": [
    {
     "name": "stdout",
     "output_type": "stream",
     "text": [
      "\n",
      "Premium Distribution for High-Income Customers:\n",
      "count    67132.000000\n",
      "mean      1129.699577\n",
      "std       1049.661428\n",
      "min         20.000000\n",
      "25%        272.000000\n",
      "50%        782.000000\n",
      "75%       1839.000000\n",
      "max       4988.000000\n",
      "Name: Premium Amount, dtype: float64\n"
     ]
    }
   ],
   "source": [
    "# Analyze premium distribution for high-claim customers\n",
    "high_income_premium = df[df['Annual Income'] >= 99_584]['Premium Amount']\n",
    "print(\"\\nPremium Distribution for High-Income Customers:\")\n",
    "print(high_income_premium.describe())"
   ]
  },
  {
   "cell_type": "markdown",
   "metadata": {},
   "source": [
    "Annual income also show high premium distribution.\n",
    "\n",
    "Let's take a look at the sorted dataframe from premium amount descending."
   ]
  },
  {
   "cell_type": "code",
   "execution_count": 14,
   "metadata": {},
   "outputs": [
    {
     "data": {
      "text/html": [
       "<div>\n",
       "<style scoped>\n",
       "    .dataframe tbody tr th:only-of-type {\n",
       "        vertical-align: middle;\n",
       "    }\n",
       "\n",
       "    .dataframe tbody tr th {\n",
       "        vertical-align: top;\n",
       "    }\n",
       "\n",
       "    .dataframe thead th {\n",
       "        text-align: right;\n",
       "    }\n",
       "</style>\n",
       "<table border=\"1\" class=\"dataframe\">\n",
       "  <thead>\n",
       "    <tr style=\"text-align: right;\">\n",
       "      <th></th>\n",
       "      <th>Annual Income</th>\n",
       "      <th>Previous Claims</th>\n",
       "      <th>Premium Amount</th>\n",
       "    </tr>\n",
       "  </thead>\n",
       "  <tbody>\n",
       "    <tr>\n",
       "      <th>848669</th>\n",
       "      <td>14900.0</td>\n",
       "      <td>0.0</td>\n",
       "      <td>4999.0</td>\n",
       "    </tr>\n",
       "    <tr>\n",
       "      <th>767167</th>\n",
       "      <td>38988.0</td>\n",
       "      <td>0.0</td>\n",
       "      <td>4997.0</td>\n",
       "    </tr>\n",
       "    <tr>\n",
       "      <th>877994</th>\n",
       "      <td>79801.0</td>\n",
       "      <td>NaN</td>\n",
       "      <td>4997.0</td>\n",
       "    </tr>\n",
       "    <tr>\n",
       "      <th>1169248</th>\n",
       "      <td>8440.0</td>\n",
       "      <td>0.0</td>\n",
       "      <td>4996.0</td>\n",
       "    </tr>\n",
       "    <tr>\n",
       "      <th>75643</th>\n",
       "      <td>23435.0</td>\n",
       "      <td>NaN</td>\n",
       "      <td>4994.0</td>\n",
       "    </tr>\n",
       "    <tr>\n",
       "      <th>556721</th>\n",
       "      <td>38517.0</td>\n",
       "      <td>NaN</td>\n",
       "      <td>4992.0</td>\n",
       "    </tr>\n",
       "    <tr>\n",
       "      <th>1045482</th>\n",
       "      <td>2914.0</td>\n",
       "      <td>NaN</td>\n",
       "      <td>4991.0</td>\n",
       "    </tr>\n",
       "    <tr>\n",
       "      <th>956262</th>\n",
       "      <td>NaN</td>\n",
       "      <td>3.0</td>\n",
       "      <td>4988.0</td>\n",
       "    </tr>\n",
       "    <tr>\n",
       "      <th>632117</th>\n",
       "      <td>27365.0</td>\n",
       "      <td>5.0</td>\n",
       "      <td>4988.0</td>\n",
       "    </tr>\n",
       "    <tr>\n",
       "      <th>310362</th>\n",
       "      <td>100038.0</td>\n",
       "      <td>1.0</td>\n",
       "      <td>4988.0</td>\n",
       "    </tr>\n",
       "    <tr>\n",
       "      <th>995321</th>\n",
       "      <td>28399.0</td>\n",
       "      <td>1.0</td>\n",
       "      <td>4988.0</td>\n",
       "    </tr>\n",
       "    <tr>\n",
       "      <th>119186</th>\n",
       "      <td>52418.0</td>\n",
       "      <td>2.0</td>\n",
       "      <td>4988.0</td>\n",
       "    </tr>\n",
       "    <tr>\n",
       "      <th>669083</th>\n",
       "      <td>53868.0</td>\n",
       "      <td>NaN</td>\n",
       "      <td>4988.0</td>\n",
       "    </tr>\n",
       "    <tr>\n",
       "      <th>441799</th>\n",
       "      <td>100038.0</td>\n",
       "      <td>NaN</td>\n",
       "      <td>4988.0</td>\n",
       "    </tr>\n",
       "    <tr>\n",
       "      <th>895680</th>\n",
       "      <td>100038.0</td>\n",
       "      <td>NaN</td>\n",
       "      <td>4988.0</td>\n",
       "    </tr>\n",
       "    <tr>\n",
       "      <th>267649</th>\n",
       "      <td>2428.0</td>\n",
       "      <td>1.0</td>\n",
       "      <td>4988.0</td>\n",
       "    </tr>\n",
       "    <tr>\n",
       "      <th>1156196</th>\n",
       "      <td>136920.0</td>\n",
       "      <td>0.0</td>\n",
       "      <td>4988.0</td>\n",
       "    </tr>\n",
       "    <tr>\n",
       "      <th>307139</th>\n",
       "      <td>8892.0</td>\n",
       "      <td>0.0</td>\n",
       "      <td>4988.0</td>\n",
       "    </tr>\n",
       "    <tr>\n",
       "      <th>341808</th>\n",
       "      <td>100038.0</td>\n",
       "      <td>NaN</td>\n",
       "      <td>4988.0</td>\n",
       "    </tr>\n",
       "    <tr>\n",
       "      <th>1196798</th>\n",
       "      <td>72961.0</td>\n",
       "      <td>2.0</td>\n",
       "      <td>4988.0</td>\n",
       "    </tr>\n",
       "  </tbody>\n",
       "</table>\n",
       "</div>"
      ],
      "text/plain": [
       "         Annual Income  Previous Claims  Premium Amount\n",
       "848669         14900.0              0.0          4999.0\n",
       "767167         38988.0              0.0          4997.0\n",
       "877994         79801.0              NaN          4997.0\n",
       "1169248         8440.0              0.0          4996.0\n",
       "75643          23435.0              NaN          4994.0\n",
       "556721         38517.0              NaN          4992.0\n",
       "1045482         2914.0              NaN          4991.0\n",
       "956262             NaN              3.0          4988.0\n",
       "632117         27365.0              5.0          4988.0\n",
       "310362        100038.0              1.0          4988.0\n",
       "995321         28399.0              1.0          4988.0\n",
       "119186         52418.0              2.0          4988.0\n",
       "669083         53868.0              NaN          4988.0\n",
       "441799        100038.0              NaN          4988.0\n",
       "895680        100038.0              NaN          4988.0\n",
       "267649          2428.0              1.0          4988.0\n",
       "1156196       136920.0              0.0          4988.0\n",
       "307139          8892.0              0.0          4988.0\n",
       "341808        100038.0              NaN          4988.0\n",
       "1196798        72961.0              2.0          4988.0"
      ]
     },
     "execution_count": 14,
     "metadata": {},
     "output_type": "execute_result"
    }
   ],
   "source": [
    "df[[\"Annual Income\", \"Previous Claims\", \"Premium Amount\"]].sort_values(\"Premium Amount\", ascending=False).head(20)"
   ]
  },
  {
   "cell_type": "markdown",
   "metadata": {},
   "source": [
    "It looks like Annual Income and Previous Claims has no real correlation with Premium Amount. This is strange because in real-life, these should be highly correlated.\n",
    "\n",
    "### Annual Income vs Premium Amount\n",
    "Typically, the income should correlate because higher income individuals tend to insure more valuable assets, and higher income individuals often opt for more comprehensive coverage.\n",
    "\n",
    "### Previous Claims vs Premium Amount\n",
    "Typically, the previous claims should correlate because more claims typically lead to higher premiums, and the industry standard practice is to incerase premiums after claims. https://www.investopedia.com/articles/pf/08/claim-raise-rates.asp#:~:text=Filing%20a%20claim%20often%20results,can%20vary%20widely%20between%20insurers.\n",
    "\n",
    "This points to data quality issues. Not only is the data synthetic, but also is problematic because it doesn't reflect reality. "
   ]
  },
  {
   "cell_type": "code",
   "execution_count": 15,
   "metadata": {},
   "outputs": [
    {
     "name": "stdout",
     "output_type": "stream",
     "text": [
      "\n",
      "Skewness Analysis:\n",
      "--------------------------------------------------------------------------------\n",
      "\n",
      "Skewness of numeric variables:\n",
      "id                  :     0.00 (Approximately Symmetric)\n",
      "Age                 :    -0.01 (Approximately Symmetric)\n",
      "Annual Income       :     1.47 (Highly Skewed)\n",
      "Number of Dependents:    -0.01 (Approximately Symmetric)\n",
      "Health Score        :     0.28 (Approximately Symmetric)\n",
      "Previous Claims     :     0.91 (Moderately Skewed)\n",
      "Vehicle Age         :    -0.02 (Approximately Symmetric)\n",
      "Credit Score        :    -0.11 (Approximately Symmetric)\n",
      "Insurance Duration  :    -0.01 (Approximately Symmetric)\n",
      "Premium Amount      :     1.24 (Highly Skewed)\n"
     ]
    }
   ],
   "source": [
    "# Check for skewness\n",
    "print(\"\\nSkewness Analysis:\")\n",
    "print(\"-\" * 80)\n",
    "skewness = df[numeric_cols].skew()\n",
    "print(\"\\nSkewness of numeric variables:\")\n",
    "for col, skew in skewness.items():\n",
    "    print(f\"{col:<20}: {skew:>8.2f} {'(Highly Skewed)' if abs(skew) > 1 else '(Moderately Skewed)' if abs(skew) > 0.5 else '(Approximately Symmetric)'}\")"
   ]
  },
  {
   "cell_type": "markdown",
   "metadata": {},
   "source": [
    "Given the outliers, Annual Income, Previous Claims and Premium Amount are highly left-skewed.\n",
    "\n",
    "We may use scaling. One approach is to use scaling for SVM and Linear regression related algorithms, but not for tree-based models like random forest, decision tree, XGBoost.\n",
    "\n",
    "This is because Tree-based models make decisions based of splitting points, not distances or gradients. They ask yes/no questions about features, regardless of their scale. For example, \"Is Annual Income <= $45k?\".\n",
    "\n",
    "For linear and SVM, they use mathematical operations or distance calculations, and are scale-dependent.\n",
    "\n",
    "Therefore, we shall address the left-skewness with np.log1p (logarithm plus 1), which will handle zero values and stretch the concentrated left side of the distribution.\n"
   ]
  },
  {
   "cell_type": "markdown",
   "metadata": {
    "id": "fvIEzzSH7Rxz"
   },
   "source": [
    "## Data preparation\n"
   ]
  },
  {
   "cell_type": "code",
   "execution_count": 16,
   "metadata": {},
   "outputs": [
    {
     "data": {
      "text/html": [
       "<div>\n",
       "<style scoped>\n",
       "    .dataframe tbody tr th:only-of-type {\n",
       "        vertical-align: middle;\n",
       "    }\n",
       "\n",
       "    .dataframe tbody tr th {\n",
       "        vertical-align: top;\n",
       "    }\n",
       "\n",
       "    .dataframe thead th {\n",
       "        text-align: right;\n",
       "    }\n",
       "</style>\n",
       "<table border=\"1\" class=\"dataframe\">\n",
       "  <thead>\n",
       "    <tr style=\"text-align: right;\">\n",
       "      <th></th>\n",
       "      <th>id</th>\n",
       "      <th>Age</th>\n",
       "      <th>Gender</th>\n",
       "      <th>Annual Income</th>\n",
       "      <th>Marital Status</th>\n",
       "      <th>Number of Dependents</th>\n",
       "      <th>Education Level</th>\n",
       "      <th>Occupation</th>\n",
       "      <th>Health Score</th>\n",
       "      <th>Location</th>\n",
       "      <th>...</th>\n",
       "      <th>Smoking Status</th>\n",
       "      <th>Exercise Frequency</th>\n",
       "      <th>Property Type</th>\n",
       "      <th>Premium Amount</th>\n",
       "      <th>Policy Start Date_year</th>\n",
       "      <th>Policy Start Date_month</th>\n",
       "      <th>Policy Start Date_day</th>\n",
       "      <th>Policy Start Date_dayofweek</th>\n",
       "      <th>Policy Start Date_quarter</th>\n",
       "      <th>Policy Start Date_days_since_min</th>\n",
       "    </tr>\n",
       "  </thead>\n",
       "  <tbody>\n",
       "    <tr>\n",
       "      <th>0</th>\n",
       "      <td>0</td>\n",
       "      <td>19.0</td>\n",
       "      <td>Female</td>\n",
       "      <td>10049.0</td>\n",
       "      <td>Married</td>\n",
       "      <td>1.0</td>\n",
       "      <td>Bachelor's</td>\n",
       "      <td>Self-Employed</td>\n",
       "      <td>22.598761</td>\n",
       "      <td>Urban</td>\n",
       "      <td>...</td>\n",
       "      <td>No</td>\n",
       "      <td>Weekly</td>\n",
       "      <td>House</td>\n",
       "      <td>2869.0</td>\n",
       "      <td>2023</td>\n",
       "      <td>12</td>\n",
       "      <td>23</td>\n",
       "      <td>5</td>\n",
       "      <td>4</td>\n",
       "      <td>1589</td>\n",
       "    </tr>\n",
       "    <tr>\n",
       "      <th>1</th>\n",
       "      <td>1</td>\n",
       "      <td>39.0</td>\n",
       "      <td>Female</td>\n",
       "      <td>31678.0</td>\n",
       "      <td>Divorced</td>\n",
       "      <td>3.0</td>\n",
       "      <td>Master's</td>\n",
       "      <td>NaN</td>\n",
       "      <td>15.569731</td>\n",
       "      <td>Rural</td>\n",
       "      <td>...</td>\n",
       "      <td>Yes</td>\n",
       "      <td>Monthly</td>\n",
       "      <td>House</td>\n",
       "      <td>1483.0</td>\n",
       "      <td>2023</td>\n",
       "      <td>6</td>\n",
       "      <td>12</td>\n",
       "      <td>0</td>\n",
       "      <td>2</td>\n",
       "      <td>1395</td>\n",
       "    </tr>\n",
       "    <tr>\n",
       "      <th>2</th>\n",
       "      <td>2</td>\n",
       "      <td>23.0</td>\n",
       "      <td>Male</td>\n",
       "      <td>25602.0</td>\n",
       "      <td>Divorced</td>\n",
       "      <td>3.0</td>\n",
       "      <td>High School</td>\n",
       "      <td>Self-Employed</td>\n",
       "      <td>47.177549</td>\n",
       "      <td>Suburban</td>\n",
       "      <td>...</td>\n",
       "      <td>Yes</td>\n",
       "      <td>Weekly</td>\n",
       "      <td>House</td>\n",
       "      <td>567.0</td>\n",
       "      <td>2023</td>\n",
       "      <td>9</td>\n",
       "      <td>30</td>\n",
       "      <td>5</td>\n",
       "      <td>3</td>\n",
       "      <td>1505</td>\n",
       "    </tr>\n",
       "    <tr>\n",
       "      <th>3</th>\n",
       "      <td>3</td>\n",
       "      <td>21.0</td>\n",
       "      <td>Male</td>\n",
       "      <td>141855.0</td>\n",
       "      <td>Married</td>\n",
       "      <td>2.0</td>\n",
       "      <td>Bachelor's</td>\n",
       "      <td>NaN</td>\n",
       "      <td>10.938144</td>\n",
       "      <td>Rural</td>\n",
       "      <td>...</td>\n",
       "      <td>Yes</td>\n",
       "      <td>Daily</td>\n",
       "      <td>Apartment</td>\n",
       "      <td>765.0</td>\n",
       "      <td>2024</td>\n",
       "      <td>6</td>\n",
       "      <td>12</td>\n",
       "      <td>2</td>\n",
       "      <td>2</td>\n",
       "      <td>1761</td>\n",
       "    </tr>\n",
       "    <tr>\n",
       "      <th>4</th>\n",
       "      <td>4</td>\n",
       "      <td>21.0</td>\n",
       "      <td>Male</td>\n",
       "      <td>39651.0</td>\n",
       "      <td>Single</td>\n",
       "      <td>1.0</td>\n",
       "      <td>Bachelor's</td>\n",
       "      <td>Self-Employed</td>\n",
       "      <td>20.376094</td>\n",
       "      <td>Rural</td>\n",
       "      <td>...</td>\n",
       "      <td>Yes</td>\n",
       "      <td>Weekly</td>\n",
       "      <td>House</td>\n",
       "      <td>2022.0</td>\n",
       "      <td>2021</td>\n",
       "      <td>12</td>\n",
       "      <td>1</td>\n",
       "      <td>2</td>\n",
       "      <td>4</td>\n",
       "      <td>837</td>\n",
       "    </tr>\n",
       "    <tr>\n",
       "      <th>...</th>\n",
       "      <td>...</td>\n",
       "      <td>...</td>\n",
       "      <td>...</td>\n",
       "      <td>...</td>\n",
       "      <td>...</td>\n",
       "      <td>...</td>\n",
       "      <td>...</td>\n",
       "      <td>...</td>\n",
       "      <td>...</td>\n",
       "      <td>...</td>\n",
       "      <td>...</td>\n",
       "      <td>...</td>\n",
       "      <td>...</td>\n",
       "      <td>...</td>\n",
       "      <td>...</td>\n",
       "      <td>...</td>\n",
       "      <td>...</td>\n",
       "      <td>...</td>\n",
       "      <td>...</td>\n",
       "      <td>...</td>\n",
       "      <td>...</td>\n",
       "    </tr>\n",
       "    <tr>\n",
       "      <th>1199995</th>\n",
       "      <td>1199995</td>\n",
       "      <td>36.0</td>\n",
       "      <td>Female</td>\n",
       "      <td>27316.0</td>\n",
       "      <td>Married</td>\n",
       "      <td>0.0</td>\n",
       "      <td>Master's</td>\n",
       "      <td>Unemployed</td>\n",
       "      <td>13.772907</td>\n",
       "      <td>Urban</td>\n",
       "      <td>...</td>\n",
       "      <td>No</td>\n",
       "      <td>Daily</td>\n",
       "      <td>Apartment</td>\n",
       "      <td>1303.0</td>\n",
       "      <td>2023</td>\n",
       "      <td>5</td>\n",
       "      <td>3</td>\n",
       "      <td>2</td>\n",
       "      <td>2</td>\n",
       "      <td>1355</td>\n",
       "    </tr>\n",
       "    <tr>\n",
       "      <th>1199996</th>\n",
       "      <td>1199996</td>\n",
       "      <td>54.0</td>\n",
       "      <td>Male</td>\n",
       "      <td>35786.0</td>\n",
       "      <td>Divorced</td>\n",
       "      <td>NaN</td>\n",
       "      <td>Master's</td>\n",
       "      <td>Self-Employed</td>\n",
       "      <td>11.483482</td>\n",
       "      <td>Rural</td>\n",
       "      <td>...</td>\n",
       "      <td>No</td>\n",
       "      <td>Weekly</td>\n",
       "      <td>Apartment</td>\n",
       "      <td>821.0</td>\n",
       "      <td>2022</td>\n",
       "      <td>9</td>\n",
       "      <td>10</td>\n",
       "      <td>5</td>\n",
       "      <td>3</td>\n",
       "      <td>1120</td>\n",
       "    </tr>\n",
       "    <tr>\n",
       "      <th>1199997</th>\n",
       "      <td>1199997</td>\n",
       "      <td>19.0</td>\n",
       "      <td>Male</td>\n",
       "      <td>51884.0</td>\n",
       "      <td>Divorced</td>\n",
       "      <td>0.0</td>\n",
       "      <td>Master's</td>\n",
       "      <td>NaN</td>\n",
       "      <td>14.724469</td>\n",
       "      <td>Suburban</td>\n",
       "      <td>...</td>\n",
       "      <td>No</td>\n",
       "      <td>Monthly</td>\n",
       "      <td>Condo</td>\n",
       "      <td>371.0</td>\n",
       "      <td>2021</td>\n",
       "      <td>5</td>\n",
       "      <td>25</td>\n",
       "      <td>1</td>\n",
       "      <td>2</td>\n",
       "      <td>647</td>\n",
       "    </tr>\n",
       "    <tr>\n",
       "      <th>1199998</th>\n",
       "      <td>1199998</td>\n",
       "      <td>55.0</td>\n",
       "      <td>Male</td>\n",
       "      <td>NaN</td>\n",
       "      <td>Single</td>\n",
       "      <td>1.0</td>\n",
       "      <td>PhD</td>\n",
       "      <td>NaN</td>\n",
       "      <td>18.547381</td>\n",
       "      <td>Suburban</td>\n",
       "      <td>...</td>\n",
       "      <td>No</td>\n",
       "      <td>Daily</td>\n",
       "      <td>Apartment</td>\n",
       "      <td>596.0</td>\n",
       "      <td>2021</td>\n",
       "      <td>9</td>\n",
       "      <td>19</td>\n",
       "      <td>6</td>\n",
       "      <td>3</td>\n",
       "      <td>764</td>\n",
       "    </tr>\n",
       "    <tr>\n",
       "      <th>1199999</th>\n",
       "      <td>1199999</td>\n",
       "      <td>21.0</td>\n",
       "      <td>Female</td>\n",
       "      <td>NaN</td>\n",
       "      <td>Divorced</td>\n",
       "      <td>0.0</td>\n",
       "      <td>PhD</td>\n",
       "      <td>NaN</td>\n",
       "      <td>10.125323</td>\n",
       "      <td>Rural</td>\n",
       "      <td>...</td>\n",
       "      <td>Yes</td>\n",
       "      <td>Monthly</td>\n",
       "      <td>House</td>\n",
       "      <td>2480.0</td>\n",
       "      <td>2020</td>\n",
       "      <td>8</td>\n",
       "      <td>26</td>\n",
       "      <td>2</td>\n",
       "      <td>3</td>\n",
       "      <td>375</td>\n",
       "    </tr>\n",
       "  </tbody>\n",
       "</table>\n",
       "<p>1200000 rows × 26 columns</p>\n",
       "</div>"
      ],
      "text/plain": [
       "              id   Age  Gender  Annual Income Marital Status  \\\n",
       "0              0  19.0  Female        10049.0        Married   \n",
       "1              1  39.0  Female        31678.0       Divorced   \n",
       "2              2  23.0    Male        25602.0       Divorced   \n",
       "3              3  21.0    Male       141855.0        Married   \n",
       "4              4  21.0    Male        39651.0         Single   \n",
       "...          ...   ...     ...            ...            ...   \n",
       "1199995  1199995  36.0  Female        27316.0        Married   \n",
       "1199996  1199996  54.0    Male        35786.0       Divorced   \n",
       "1199997  1199997  19.0    Male        51884.0       Divorced   \n",
       "1199998  1199998  55.0    Male            NaN         Single   \n",
       "1199999  1199999  21.0  Female            NaN       Divorced   \n",
       "\n",
       "         Number of Dependents Education Level     Occupation  Health Score  \\\n",
       "0                         1.0      Bachelor's  Self-Employed     22.598761   \n",
       "1                         3.0        Master's            NaN     15.569731   \n",
       "2                         3.0     High School  Self-Employed     47.177549   \n",
       "3                         2.0      Bachelor's            NaN     10.938144   \n",
       "4                         1.0      Bachelor's  Self-Employed     20.376094   \n",
       "...                       ...             ...            ...           ...   \n",
       "1199995                   0.0        Master's     Unemployed     13.772907   \n",
       "1199996                   NaN        Master's  Self-Employed     11.483482   \n",
       "1199997                   0.0        Master's            NaN     14.724469   \n",
       "1199998                   1.0             PhD            NaN     18.547381   \n",
       "1199999                   0.0             PhD            NaN     10.125323   \n",
       "\n",
       "         Location  ... Smoking Status  Exercise Frequency  Property Type  \\\n",
       "0           Urban  ...             No              Weekly          House   \n",
       "1           Rural  ...            Yes             Monthly          House   \n",
       "2        Suburban  ...            Yes              Weekly          House   \n",
       "3           Rural  ...            Yes               Daily      Apartment   \n",
       "4           Rural  ...            Yes              Weekly          House   \n",
       "...           ...  ...            ...                 ...            ...   \n",
       "1199995     Urban  ...             No               Daily      Apartment   \n",
       "1199996     Rural  ...             No              Weekly      Apartment   \n",
       "1199997  Suburban  ...             No             Monthly          Condo   \n",
       "1199998  Suburban  ...             No               Daily      Apartment   \n",
       "1199999     Rural  ...            Yes             Monthly          House   \n",
       "\n",
       "         Premium Amount  Policy Start Date_year Policy Start Date_month  \\\n",
       "0                2869.0                    2023                      12   \n",
       "1                1483.0                    2023                       6   \n",
       "2                 567.0                    2023                       9   \n",
       "3                 765.0                    2024                       6   \n",
       "4                2022.0                    2021                      12   \n",
       "...                 ...                     ...                     ...   \n",
       "1199995          1303.0                    2023                       5   \n",
       "1199996           821.0                    2022                       9   \n",
       "1199997           371.0                    2021                       5   \n",
       "1199998           596.0                    2021                       9   \n",
       "1199999          2480.0                    2020                       8   \n",
       "\n",
       "        Policy Start Date_day Policy Start Date_dayofweek  \\\n",
       "0                          23                           5   \n",
       "1                          12                           0   \n",
       "2                          30                           5   \n",
       "3                          12                           2   \n",
       "4                           1                           2   \n",
       "...                       ...                         ...   \n",
       "1199995                     3                           2   \n",
       "1199996                    10                           5   \n",
       "1199997                    25                           1   \n",
       "1199998                    19                           6   \n",
       "1199999                    26                           2   \n",
       "\n",
       "        Policy Start Date_quarter  Policy Start Date_days_since_min  \n",
       "0                               4                              1589  \n",
       "1                               2                              1395  \n",
       "2                               3                              1505  \n",
       "3                               2                              1761  \n",
       "4                               4                               837  \n",
       "...                           ...                               ...  \n",
       "1199995                         2                              1355  \n",
       "1199996                         3                              1120  \n",
       "1199997                         2                               647  \n",
       "1199998                         3                               764  \n",
       "1199999                         3                               375  \n",
       "\n",
       "[1200000 rows x 26 columns]"
      ]
     },
     "execution_count": 16,
     "metadata": {},
     "output_type": "execute_result"
    }
   ],
   "source": [
    "# Handle datetime features\n",
    "datetime_cols = [\"Policy Start Date\"]\n",
    "df[\"Policy Start Date\"] = pd.to_datetime(df[\"Policy Start Date\"])\n",
    "for col in datetime_cols:\n",
    "    # Extract useful datetime components\n",
    "    df[f'{col}_year'] = df[col].dt.year\n",
    "    df[f'{col}_month'] = df[col].dt.month\n",
    "    df[f'{col}_day'] = df[col].dt.day\n",
    "    df[f'{col}_dayofweek'] = df[col].dt.dayofweek\n",
    "    df[f'{col}_quarter'] = df[col].dt.quarter\n",
    "    \n",
    "    # Calculate days since earliest date\n",
    "    df[f'{col}_days_since_min'] = (df[col] - df[col].min()).dt.days\n",
    "    \n",
    "    # Drop original datetime column\n",
    "    df = df.drop(columns=[col])\n",
    "df"
   ]
  },
  {
   "cell_type": "code",
   "execution_count": 17,
   "metadata": {},
   "outputs": [
    {
     "data": {
      "text/plain": [
       "Number of Dependents\n",
       "3.0    221475\n",
       "4.0    220340\n",
       "0.0    218124\n",
       "2.0    215313\n",
       "1.0    215076\n",
       "Name: count, dtype: int64"
      ]
     },
     "execution_count": 17,
     "metadata": {},
     "output_type": "execute_result"
    }
   ],
   "source": [
    "df[\"Number of Dependents\"].value_counts()"
   ]
  },
  {
   "cell_type": "markdown",
   "metadata": {},
   "source": [
    "We need to be wary of Number of Dependents because it detects the column as a int64 even though its categorical"
   ]
  },
  {
   "cell_type": "code",
   "execution_count": 18,
   "metadata": {},
   "outputs": [],
   "source": [
    "for col in df.columns:\n",
    "    if df[col].isnull().any():\n",
    "        if col == \"Number of Dependents\":\n",
    "            # Use mode for 'Number of Dependents'\n",
    "            mode_val = df[col].mode()[0]\n",
    "            df[col] = df[col].fillna(mode_val)\n",
    "        elif df[col].dtype in [\"int64\", \"float64\"]:\n",
    "            # Use mean for numerical columns\n",
    "            mean_val = df[col].mean()\n",
    "            df[col] = df[col].fillna(mean_val)\n",
    "        else:\n",
    "            # Use mode (most frequent value) for categorical columns\n",
    "            mode_val = df[col].mode()[0]\n",
    "            df[col] = df[col].fillna(mode_val)"
   ]
  },
  {
   "cell_type": "code",
   "execution_count": 19,
   "metadata": {},
   "outputs": [
    {
     "data": {
      "text/plain": [
       "Number of Dependents\n",
       "3.0    331147\n",
       "4.0    220340\n",
       "0.0    218124\n",
       "2.0    215313\n",
       "1.0    215076\n",
       "Name: count, dtype: int64"
      ]
     },
     "execution_count": 19,
     "metadata": {},
     "output_type": "execute_result"
    }
   ],
   "source": [
    "df[\"Number of Dependents\"].value_counts()"
   ]
  },
  {
   "cell_type": "code",
   "execution_count": 20,
   "metadata": {},
   "outputs": [],
   "source": [
    "# One-hot encode categorical variables\n",
    "df = pd.get_dummies(df, columns=categorical_cols, drop_first=True)"
   ]
  },
  {
   "cell_type": "markdown",
   "metadata": {},
   "source": [
    "### Why drop_first=True?\n",
    "The `drop_first=True` argument in `pd.get_dummies` is used to address multicollinearity that arises from one-hot encoding categorical variables, specifically the \"dummy variable trap\".\n",
    "\n",
    "Here's how it works and when you should consider using it:\n",
    "\n",
    "**How `drop_first=True` Impacts Multicollinearity:**\n",
    "\n",
    "* **Without `drop_first=True`:** When you one-hot encode a categorical variable with *k* categories, `pd.get_dummies` creates *k* binary columns.  For example, if you have a \"Color\" column with categories \"Red\", \"Blue\", and \"Green\", it will create three columns: \"Color_Red\", \"Color_Blue\", and \"Color_Green\".  In this scenario, if a row is *not* \"Red\" and *not* \"Blue\", you can perfectly infer that it *must* be \"Green\". This means the \"Color_Green\" column is perfectly predictable from the other two. This perfect predictability leads to **perfect multicollinearity**.\n",
    "\n",
    "* **With `drop_first=True`:**  `drop_first=True` tells `pd.get_dummies` to drop the *first* category's column. In our \"Color\" example, if it drops \"Color_Red\", you'll be left with \"Color_Blue\" and \"Color_Green\". Now, if both \"Color_Blue\" and \"Color_Green\" are 0, you can still infer that the color is \"Red\" (the dropped category).  However, you've removed the perfect linear dependency. You have reduced the number of columns to *k-1*, which is sufficient to represent the information without creating perfect multicollinearity.\n"
   ]
  },
  {
   "cell_type": "code",
   "execution_count": 21,
   "metadata": {},
   "outputs": [
    {
     "name": "stdout",
     "output_type": "stream",
     "text": [
      "\n",
      "Skewness before and after log transformation:\n",
      "------------------------------------------------------------\n",
      "Annual Income       :     1.50\n",
      "Log Annual Income   :    -1.06\n",
      "\n",
      "Previous Claims     :     1.08\n",
      "Log Previous Claims :    -0.16\n",
      "\n",
      "Premium Amount      :     1.24\n",
      "Log Premium Amount  :    -1.26\n",
      "\n"
     ]
    }
   ],
   "source": [
    "# Log transform skewed numerical features\n",
    "skewed_cols = [\"Annual Income\", \"Previous Claims\", \"Premium Amount\"]\n",
    "log_cols = [\"Log Annual Income\", \"Log Previous Claims\", \"Log Premium Amount\"]\n",
    "\n",
    "# Create new log-transformed columns while preserving originals\n",
    "for orig_col, new_col in zip(skewed_cols, log_cols):\n",
    "    df[new_col] = np.log1p(df[orig_col])\n",
    "\n",
    "# Print skewness before and after transformation\n",
    "print(\"\\nSkewness before and after log transformation:\")\n",
    "print(\"-\" * 60)\n",
    "for orig_col, new_col in zip(skewed_cols, log_cols):\n",
    "    orig_skew = df[orig_col].skew()\n",
    "    new_skew = df[new_col].skew()\n",
    "    print(f\"{orig_col:<20}: {orig_skew:>8.2f}\")\n",
    "    print(f\"{new_col:<20}: {new_skew:>8.2f}\\n\")"
   ]
  },
  {
   "cell_type": "markdown",
   "metadata": {},
   "source": [
    "log transformation, some of our variables have become negatively skewed, which isn't ideal. Let's try using Box-Cox transformation instead, which can help normalize the data while potentially avoiding negative skewness."
   ]
  },
  {
   "cell_type": "code",
   "execution_count": 22,
   "metadata": {},
   "outputs": [
    {
     "name": "stdout",
     "output_type": "stream",
     "text": [
      "\n",
      "Skewness before and after Box-Cox transformation:\n",
      "------------------------------------------------------------\n",
      "Annual Income       :     1.50\n",
      "Transformed Annual Income:    -0.08\n",
      "\n",
      "Previous Claims     :     1.08\n",
      "Transformed Previous Claims:    -0.01\n",
      "\n",
      "Premium Amount      :     1.24\n",
      "Transformed Premium Amount:    -0.06\n",
      "\n"
     ]
    }
   ],
   "source": [
    "# 3. Transform skewed numerical features using Box-Cox\n",
    "from scipy import stats\n",
    "\n",
    "skewed_cols = [\"Annual Income\", \"Previous Claims\", \"Premium Amount\"]\n",
    "box_cols = [\"Transformed Annual Income\", \"Transformed Previous Claims\", \"Transformed Premium Amount\"]\n",
    "\n",
    "# Create new transformed columns while preserving originals\n",
    "for orig_col, new_col in zip(skewed_cols, box_cols):\n",
    "    # Add a small constant to handle zeros before Box-Cox\n",
    "    min_val = df[orig_col].min()\n",
    "    if min_val <= 0:\n",
    "        shifted_data = df[orig_col] + abs(min_val) + 1\n",
    "    else:\n",
    "        shifted_data = df[orig_col]\n",
    "    \n",
    "    # Apply Box-Cox transformation\n",
    "    transformed_data, lambda_param = stats.boxcox(shifted_data)\n",
    "    df[new_col] = transformed_data\n",
    "\n",
    "# Print skewness before and after transformation\n",
    "print(\"\\nSkewness before and after Box-Cox transformation:\")\n",
    "print(\"-\" * 60)\n",
    "for orig_col, new_col in zip(skewed_cols, box_cols):\n",
    "    orig_skew = df[orig_col].skew()\n",
    "    new_skew = df[new_col].skew()\n",
    "    print(f\"{orig_col:<20}: {orig_skew:>8.2f}\")\n",
    "    print(f\"{new_col:<20}: {new_skew:>8.2f}\\n\")"
   ]
  },
  {
   "cell_type": "markdown",
   "metadata": {},
   "source": [
    "The reason why Box-Cox works, is because it is driven by a formular that finds the optimal λ (lambda) parameter for each variable.\n",
    "This lamba affects the transformation process of the variables in this way:\n",
    "\n",
    "- λ = 1 means no transformation needed\n",
    "- λ = 0.5 means square root transformation\n",
    "- λ = -1 means reciprocal transformation\n",
    "\n",
    "Therefore, it mathematically optimizes for normality. That's why we see much better normalization results. It's like choosing the perfect power transformation for each variable's distribution pattern."
   ]
  },
  {
   "cell_type": "code",
   "execution_count": 23,
   "metadata": {},
   "outputs": [],
   "source": [
    "# since box-cox returns more normal values, let's drop log columns\n",
    "for col in log_cols:\n",
    "    df.drop(col, inplace=True, axis=\"columns\")"
   ]
  },
  {
   "cell_type": "markdown",
   "metadata": {
    "id": "L7pKURHS72Q4"
   },
   "source": [
    "## Feature engineering"
   ]
  },
  {
   "cell_type": "markdown",
   "metadata": {},
   "source": [
    "Our feature engineering approach will be split into two phases:\n",
    "\n",
    "1. First Phase - Tree-based Models:\n",
    "   - We'll use the original features (including one-hot encoded categoricals)\n",
    "   - Tree-based models (Random Forest, XGBoost) can:\n",
    "     - Handle non-linear relationships naturally\n",
    "     - Work well with raw features\n",
    "     - Provide feature importance rankings\n",
    "     - Are interpretable with original features\n",
    "\n",
    "2. Second Phase - Linear & SVM Models:\n",
    "   - After tree-based models, we'll apply PCA and Log1p because:\n",
    "     - Linear/SVM models are sensitive to multicollinearity\n",
    "     - PCA removes correlations between features\n",
    "     - Reduces dimensionality, especially important with our many one-hot encoded columns\n",
    "     - Can improve model performance by removing noise\n",
    "\n",
    "This two-phase approach maintains interpretability where possible (tree-based) while optimizing performance where needed (linear/SVM).\n"
   ]
  },
  {
   "cell_type": "markdown",
   "metadata": {},
   "source": [
    "## Model Selection & Evaluation"
   ]
  },
  {
   "cell_type": "markdown",
   "metadata": {},
   "source": [
    "### Tree-based models\n",
    "\n",
    "We'll evaluate three tree-based models:\n",
    "1. Random Forest: Robust against overfitting, handles non-linear relationships\n",
    "2. XGBoost: Typically highest performance, gradient boosting approach\n",
    "3. Decision Tree: Baseline model, highly interpretable\n",
    "\n",
    "Key considerations for our insurance premium prediction:\n",
    "- High-dimensional data after one-hot encoding\n",
    "- Potential non-linear relationships between features\n",
    "- Need for both performance and interpretability\n",
    "- Presence of outliers in key features"
   ]
  },
  {
   "cell_type": "code",
   "execution_count": 24,
   "metadata": {},
   "outputs": [
    {
     "name": "stdout",
     "output_type": "stream",
     "text": [
      "\n",
      "Features being used:\n",
      "--------------------------------------------------------------------------------\n",
      "id: int64\n",
      "Age: float64\n",
      "Annual Income: float64\n",
      "Health Score: float64\n",
      "Previous Claims: float64\n",
      "Vehicle Age: float64\n",
      "Credit Score: float64\n",
      "Insurance Duration: float64\n",
      "Policy Start Date_year: int32\n",
      "Policy Start Date_month: int32\n",
      "Policy Start Date_day: int32\n",
      "Policy Start Date_dayofweek: int32\n",
      "Policy Start Date_quarter: int32\n",
      "Policy Start Date_days_since_min: int64\n",
      "Gender_Male: bool\n",
      "Marital Status_Married: bool\n",
      "Marital Status_Single: bool\n",
      "Number of Dependents_1.0: bool\n",
      "Number of Dependents_2.0: bool\n",
      "Number of Dependents_3.0: bool\n",
      "Number of Dependents_4.0: bool\n",
      "Education Level_High School: bool\n",
      "Education Level_Master's: bool\n",
      "Education Level_PhD: bool\n",
      "Occupation_Self-Employed: bool\n",
      "Occupation_Unemployed: bool\n",
      "Location_Suburban: bool\n",
      "Location_Urban: bool\n",
      "Policy Type_Comprehensive: bool\n",
      "Policy Type_Premium: bool\n",
      "Customer Feedback_Good: bool\n",
      "Customer Feedback_Poor: bool\n",
      "Smoking Status_Yes: bool\n",
      "Exercise Frequency_Monthly: bool\n",
      "Exercise Frequency_Rarely: bool\n",
      "Exercise Frequency_Weekly: bool\n",
      "Property Type_Condo: bool\n",
      "Property Type_House: bool\n"
     ]
    }
   ],
   "source": [
    "from sklearn.model_selection import train_test_split, cross_val_score\n",
    "from sklearn.tree import DecisionTreeRegressor\n",
    "from sklearn.ensemble import RandomForestRegressor\n",
    "from sklearn.model_selection import KFold\n",
    "import xgboost as xgb\n",
    "from sklearn.metrics import mean_squared_error, r2_score, mean_absolute_error\n",
    "import numpy as np\n",
    "import time\n",
    "from tqdm.auto import tqdm\n",
    "import lightgbm as lgb\n",
    "\n",
    "# Prepare features and target\n",
    "# Exclude log-transformed columns and datetime columns for tree-based models\n",
    "feature_cols = [\n",
    "    col\n",
    "    for col in df.columns\n",
    "    if col not in [\"Premium Amount\"] + box_cols\n",
    "    and df[col].dtype\n",
    "]\n",
    "X = df[feature_cols]\n",
    "y = df[\"Premium Amount\"]\n",
    "\n",
    "# Print feature columns being used\n",
    "print(\"\\nFeatures being used:\")\n",
    "print(\"-\" * 80)\n",
    "for col in feature_cols:\n",
    "    print(f\"{col}: {df[col].dtype}\")\n",
    "\n",
    "# Split the data\n",
    "X_train, X_test, y_train, y_test = train_test_split(\n",
    "    X, y, test_size=0.2, random_state=42\n",
    ")\n",
    "\n",
    "# Initialize models\n",
    "dt_model = DecisionTreeRegressor(random_state=42, max_depth=5)\n",
    "rf_model = RandomForestRegressor(\n",
    "    n_estimators=50, random_state=42, max_depth=5, n_jobs=-1\n",
    ")\n",
    "xgb_model = xgb.XGBRegressor(\n",
    "    random_state=42, n_estimators=50, max_depth=5, n_jobs=-1, tree_method=\"hist\"\n",
    ")\n",
    "light_model = lgb.LGBMRegressor(\n",
    "    random_state=42, n_estimators=50, max_depth=5, n_jobs=-1, boosting_type=\"gbdt\"\n",
    ")\n",
    "SPLITS = 3\n",
    "kf = KFold(n_splits=SPLITS, shuffle=True, random_state=42)\n",
    "\n",
    "# Dictionary to store model results\n",
    "model_results = {}"
   ]
  },
  {
   "cell_type": "code",
   "execution_count": 25,
   "metadata": {},
   "outputs": [
    {
     "data": {
      "text/plain": [
       "(960000, 38)"
      ]
     },
     "execution_count": 25,
     "metadata": {},
     "output_type": "execute_result"
    }
   ],
   "source": [
    "X_train.shape"
   ]
  },
  {
   "cell_type": "code",
   "execution_count": 26,
   "metadata": {},
   "outputs": [
    {
     "data": {
      "application/vnd.jupyter.widget-view+json": {
       "model_id": "a5d56c21856f47a7afee092b954bab76",
       "version_major": 2,
       "version_minor": 0
      },
      "text/plain": [
       "Training Models:   0%|          | 0/4 [00:00<?, ?it/s]"
      ]
     },
     "metadata": {},
     "output_type": "display_data"
    },
    {
     "name": "stdout",
     "output_type": "stream",
     "text": [
      "\n",
      "Training Decision Tree...\n"
     ]
    },
    {
     "data": {
      "application/vnd.jupyter.widget-view+json": {
       "model_id": "7ad123b2879742d2876edac5dab42628",
       "version_major": 2,
       "version_minor": 0
      },
      "text/plain": [
       "Training Decision Tree: 0it [00:00, ?it/s]"
      ]
     },
     "metadata": {},
     "output_type": "display_data"
    },
    {
     "name": "stdout",
     "output_type": "stream",
     "text": [
      "Decision Tree training completed in 2.74 seconds\n",
      "Making predictions...\n",
      "Performing cross-validation...\n"
     ]
    },
    {
     "data": {
      "application/vnd.jupyter.widget-view+json": {
       "model_id": "fbf5cc357d7444888bba2e0c4c25b866",
       "version_major": 2,
       "version_minor": 0
      },
      "text/plain": [
       "Decision Tree CV:   0%|          | 0/3 [00:00<?, ?it/s]"
      ]
     },
     "metadata": {},
     "output_type": "display_data"
    },
    {
     "name": "stdout",
     "output_type": "stream",
     "text": [
      "Decision Tree evaluation completed\n",
      "\n",
      "\n",
      "Training XGBoost...\n"
     ]
    },
    {
     "data": {
      "application/vnd.jupyter.widget-view+json": {
       "model_id": "02727a11d3f54f04a1d44c49be6f90fc",
       "version_major": 2,
       "version_minor": 0
      },
      "text/plain": [
       "Training XGBoost: 0it [00:00, ?it/s]"
      ]
     },
     "metadata": {},
     "output_type": "display_data"
    },
    {
     "name": "stdout",
     "output_type": "stream",
     "text": [
      "XGBoost training completed in 0.81 seconds\n",
      "Making predictions...\n",
      "Performing cross-validation...\n"
     ]
    },
    {
     "data": {
      "application/vnd.jupyter.widget-view+json": {
       "model_id": "5066e67992604a32b270907a12d03747",
       "version_major": 2,
       "version_minor": 0
      },
      "text/plain": [
       "XGBoost CV:   0%|          | 0/3 [00:00<?, ?it/s]"
      ]
     },
     "metadata": {},
     "output_type": "display_data"
    },
    {
     "name": "stdout",
     "output_type": "stream",
     "text": [
      "XGBoost evaluation completed\n",
      "\n",
      "\n",
      "Training LightGBM...\n"
     ]
    },
    {
     "data": {
      "application/vnd.jupyter.widget-view+json": {
       "model_id": "d97057e36f1d431a9a276cd768dd4146",
       "version_major": 2,
       "version_minor": 0
      },
      "text/plain": [
       "Training LightGBM: 0it [00:00, ?it/s]"
      ]
     },
     "metadata": {},
     "output_type": "display_data"
    },
    {
     "name": "stdout",
     "output_type": "stream",
     "text": [
      "[LightGBM] [Warning] Found whitespace in feature_names, replace with underlines\n",
      "[LightGBM] [Info] Auto-choosing row-wise multi-threading, the overhead of testing was 0.004932 seconds.\n",
      "You can set `force_row_wise=true` to remove the overhead.\n",
      "And if memory is not enough, you can set `force_col_wise=true`.\n",
      "[LightGBM] [Info] Total Bins 1472\n",
      "[LightGBM] [Info] Number of data points in the train set: 960000, number of used features: 38\n",
      "[LightGBM] [Info] Start training from score 1102.505529\n",
      "[LightGBM] [Warning] No further splits with positive gain, best gain: -inf\n",
      "[LightGBM] [Warning] No further splits with positive gain, best gain: -inf\n",
      "LightGBM training completed in 0.72 seconds\n",
      "Making predictions...\n",
      "Performing cross-validation...\n"
     ]
    },
    {
     "data": {
      "application/vnd.jupyter.widget-view+json": {
       "model_id": "4449058a1dcf40c8bef681ae2692bac6",
       "version_major": 2,
       "version_minor": 0
      },
      "text/plain": [
       "LightGBM CV:   0%|          | 0/3 [00:00<?, ?it/s]"
      ]
     },
     "metadata": {},
     "output_type": "display_data"
    },
    {
     "name": "stdout",
     "output_type": "stream",
     "text": [
      "[LightGBM] [Warning] Found whitespace in feature_names, replace with underlines\n",
      "[LightGBM] [Info] Auto-choosing row-wise multi-threading, the overhead of testing was 0.004629 seconds.\n",
      "You can set `force_row_wise=true` to remove the overhead.\n",
      "And if memory is not enough, you can set `force_col_wise=true`.\n",
      "[LightGBM] [Info] Total Bins 1472\n",
      "[LightGBM] [Info] Number of data points in the train set: 800000, number of used features: 38\n",
      "[LightGBM] [Info] Start training from score 1102.837854\n",
      "[LightGBM] [Warning] No further splits with positive gain, best gain: -inf\n",
      "[LightGBM] [Warning] No further splits with positive gain, best gain: -inf\n",
      "[LightGBM] [Warning] No further splits with positive gain, best gain: -inf\n",
      "[LightGBM] [Warning] Found whitespace in feature_names, replace with underlines\n",
      "[LightGBM] [Info] Auto-choosing row-wise multi-threading, the overhead of testing was 0.004787 seconds.\n",
      "You can set `force_row_wise=true` to remove the overhead.\n",
      "And if memory is not enough, you can set `force_col_wise=true`.\n",
      "[LightGBM] [Info] Total Bins 1473\n",
      "[LightGBM] [Info] Number of data points in the train set: 800000, number of used features: 38\n",
      "[LightGBM] [Info] Start training from score 1101.233416\n",
      "[LightGBM] [Warning] No further splits with positive gain, best gain: -inf\n",
      "[LightGBM] [Warning] No further splits with positive gain, best gain: -inf\n",
      "[LightGBM] [Warning] No further splits with positive gain, best gain: -inf\n",
      "[LightGBM] [Warning] No further splits with positive gain, best gain: -inf\n",
      "[LightGBM] [Warning] Found whitespace in feature_names, replace with underlines\n",
      "[LightGBM] [Info] Auto-choosing row-wise multi-threading, the overhead of testing was 0.004347 seconds.\n",
      "You can set `force_row_wise=true` to remove the overhead.\n",
      "And if memory is not enough, you can set `force_col_wise=true`.\n",
      "[LightGBM] [Info] Total Bins 1472\n",
      "[LightGBM] [Info] Number of data points in the train set: 800000, number of used features: 38\n",
      "[LightGBM] [Info] Start training from score 1103.563195\n",
      "[LightGBM] [Warning] No further splits with positive gain, best gain: -inf\n",
      "LightGBM evaluation completed\n",
      "\n",
      "\n",
      "Training Random Forest...\n"
     ]
    },
    {
     "data": {
      "application/vnd.jupyter.widget-view+json": {
       "model_id": "364bb88a844e44a29cb036d05d0d27e3",
       "version_major": 2,
       "version_minor": 0
      },
      "text/plain": [
       "Training Random Forest: 0it [00:00, ?it/s]"
      ]
     },
     "metadata": {},
     "output_type": "display_data"
    },
    {
     "name": "stdout",
     "output_type": "stream",
     "text": [
      "Random Forest training completed in 18.01 seconds\n",
      "Making predictions...\n",
      "Performing cross-validation...\n"
     ]
    },
    {
     "data": {
      "application/vnd.jupyter.widget-view+json": {
       "model_id": "05c7ae878cd2427d82b2efd28fa8e9eb",
       "version_major": 2,
       "version_minor": 0
      },
      "text/plain": [
       "Random Forest CV:   0%|          | 0/3 [00:00<?, ?it/s]"
      ]
     },
     "metadata": {},
     "output_type": "display_data"
    },
    {
     "name": "stdout",
     "output_type": "stream",
     "text": [
      "Random Forest evaluation completed\n",
      "\n"
     ]
    }
   ],
   "source": [
    "# Dictionary to store model results\n",
    "model_results = {}\n",
    "\n",
    "# Train and evaluate each model\n",
    "for name, model in tqdm(\n",
    "    [\n",
    "        (\"Decision Tree\", dt_model),\n",
    "        (\"XGBoost\", xgb_model),\n",
    "        (\"LightGBM\", light_model),\n",
    "        (\"Random Forest\", rf_model),\n",
    "    ],\n",
    "    desc=\"Training Models\",\n",
    "):\n",
    "    print(f\"\\nTraining {name}...\")\n",
    "\n",
    "    start_time = time.time()\n",
    "    with tqdm(desc=f\"Training {name}\", leave=False) as pbar:\n",
    "        model.fit(X_train, y_train)\n",
    "    end_time = time.time()\n",
    "    duration = end_time - start_time\n",
    "    print(f\"{name} training completed in {duration:.2f} seconds\")\n",
    "\n",
    "    # Make predictions\n",
    "    print(\"Making predictions...\")\n",
    "    y_pred = model.predict(X_test)\n",
    "\n",
    "    # Calculate metrics\n",
    "    mse = mean_squared_error(y_test, y_pred)\n",
    "    rmse = np.sqrt(mse)\n",
    "    mae = mean_absolute_error(y_test, y_pred)\n",
    "    r2 = r2_score(y_test, y_pred)\n",
    "\n",
    "    # Perform cross-validation with progress bar\n",
    "    print(\"Performing cross-validation...\")\n",
    "    cv_scores = []\n",
    "\n",
    "    for train_idx, val_idx in tqdm(kf.split(X), desc=f\"{name} CV\", total=SPLITS):\n",
    "        X_cv_train, X_cv_val = X.iloc[train_idx], X.iloc[val_idx]\n",
    "        y_cv_train, y_cv_val = y.iloc[train_idx], y.iloc[val_idx]\n",
    "\n",
    "        # Train and evaluate\n",
    "        start_time = time.time()\n",
    "        model.fit(X_cv_train, y_cv_train)\n",
    "        end_time = time.time()\n",
    "        duration = end_time - start_time\n",
    "        cv_score = r2_score(y_cv_val, model.predict(X_cv_val))\n",
    "        cv_scores.append(cv_score)\n",
    "\n",
    "    cv_scores = np.array(cv_scores)\n",
    "\n",
    "    # Store results\n",
    "    model_results[name] = {\n",
    "        \"RMSE\": rmse,\n",
    "        \"MAE\": mae,\n",
    "        \"R2\": r2,\n",
    "        \"CV_R2_mean\": cv_scores.mean(),\n",
    "        \"CV_R2_std\": cv_scores.std(),\n",
    "    }\n",
    "\n",
    "    print(f\"{name} evaluation completed\\n\")"
   ]
  },
  {
   "cell_type": "code",
   "execution_count": 27,
   "metadata": {},
   "outputs": [
    {
     "name": "stdout",
     "output_type": "stream",
     "text": [
      "\n",
      "Model Performance Comparison:\n",
      "--------------------------------------------------------------------------------\n",
      "\n",
      "Decision Tree:\n",
      "RMSE: 853.15\n",
      "MAE: 654.13\n",
      "R2 Score: 0.0260\n",
      "Cross-validation R2: 0.0263 (±0.0005)\n",
      "\n",
      "XGBoost:\n",
      "RMSE: 846.52\n",
      "MAE: 646.46\n",
      "R2 Score: 0.0411\n",
      "Cross-validation R2: 0.0430 (±0.0008)\n",
      "\n",
      "LightGBM:\n",
      "RMSE: 847.40\n",
      "MAE: 648.92\n",
      "R2 Score: 0.0391\n",
      "Cross-validation R2: 0.0395 (±0.0007)\n",
      "\n",
      "Random Forest:\n",
      "RMSE: 852.95\n",
      "MAE: 654.09\n",
      "R2 Score: 0.0264\n",
      "Cross-validation R2: 0.0266 (±0.0006)\n"
     ]
    }
   ],
   "source": [
    "# Print results\n",
    "print(\"\\nModel Performance Comparison:\")\n",
    "print(\"-\" * 80)\n",
    "for model_name, metrics in model_results.items():\n",
    "    print(f\"\\n{model_name}:\")\n",
    "    print(f\"RMSE: {metrics['RMSE']:.2f}\")\n",
    "    print(f\"MAE: {metrics['MAE']:.2f}\")\n",
    "    print(f\"R2 Score: {metrics['R2']:.4f}\")\n",
    "    print(\n",
    "        f\"Cross-validation R2: {metrics['CV_R2_mean']:.4f} (±{metrics['CV_R2_std']:.4f})\"\n",
    "    )"
   ]
  },
  {
   "cell_type": "markdown",
   "metadata": {},
   "source": [
    "While all models were successfully trained and evaluated, the overall predictive performance, as indicated by R² scores, is low across all models.  \n",
    "\n",
    "XGBoost and LightGBM demonstrated slightly better performance compared to Decision Tree and Random Forest, but the practical utility of these models in their current state is limited due to the low R² values.  \n",
    "\n",
    "Significant data quality concerns, previously identified in our initial data exploration, are likely contributing to these suboptimal results.\n",
    "\n",
    "* **Low R² Scores:**  All models exhibit very low R² scores (ranging from 0.0260 to 0.0411).  This indicates that these models, in their current configuration and with the given features, explain only a small percentage of the variance in the premium amount.\n",
    "* **RMSE and MAE Values:** The RMSE values are around 850, and MAE values are around 650.  Given the scale of premium amounts in our dataset, these error magnitudes are considered big.\n",
    "\n",
    "### Low R² Scores & AI ethics\n",
    "An R² of 0.02-0.04 shows around 96-98% of the premium amount variation unexplained.\n",
    "\n",
    "Possible causes of decreasing R² are missing features, simple models or inherent randomness in data. \n",
    "\n",
    "However in this case, with the data preparation, the issue is likely with data quality.\n",
    "\n",
    "Deploying a model with low R² is a serious ethical oversight. This is because of the following reasons:\n",
    "\n",
    "#### Accuracy\n",
    "\n",
    "Low R² typically results in low accuracy, which is true in our case, looking at RMSE and MAE magnitudes. If the model is deployed and used to make AI-Augmented Decisions, we face the following risks:\n",
    "1. Undercharging premiums\n",
    "2. Overcharging premiums\n",
    "\n",
    "In the first case, this leads to financial instability for the insurance company in the long run, and cause loss in profits\n",
    "In the second case, this leads to low-risk individuals unfairly charged higher premiums, which may discourage them and push them away from signing a policy with the insurance company, causing loss in profits.\n",
    "\n",
    "#### Explainability\n",
    "\n",
    "Usually Tree-based models are praised for their interpretability. However, intepreting a model that is low R² is ineffective. For example, a detective that is given the physical crime scene to work with, vs a detective that is far away, only given a walkie-talkie from a bystander. \n",
    "\n",
    "The detective at the crime scene has all the important clues, like fingerprints, witness statements, layout of room etc. Because they have rich and relevant information, they can build and share a very accurate picture of what happened and predict the premium.\n",
    "\n",
    "However, the detective with a walkie-talkie only gets limited, incomplete, and noisy data, making it very hard to form an accurate picture of what happened and make predictions.\n",
    "\n",
    "Even if the detective (the random forest) has similar experience (hyperparameters) and similar ability to share ideas (intepretability features), interpretability is more useful with the detective at the crime scene vs the detective with the walkie-talkie.\n",
    "\n",
    "Summing it up, interpreting a low R² model is ineffective, because it doesn't even have a clear picture of the relationship between the features and target variable to share with us. And this is bad because Insurance companies are required to justify their pricing to customers and regulators. \n",
    "\n",
    "Deploying such a poor model will make it hard to provide clear, justifiable reasons for premium calculations.\n"
   ]
  },
  {
   "cell_type": "code",
   "execution_count": 28,
   "metadata": {},
   "outputs": [
    {
     "name": "stdout",
     "output_type": "stream",
     "text": [
      "\n",
      "Top 10 Most Important Features (Random Forest):\n",
      "--------------------------------------------------------------------------------\n",
      "                             feature  importance\n",
      "2                      Annual Income    0.404954\n",
      "6                       Credit Score    0.215177\n",
      "13  Policy Start Date_days_since_min    0.193100\n",
      "4                    Previous Claims    0.170905\n",
      "3                       Health Score    0.013618\n",
      "0                                 id    0.000754\n",
      "5                        Vehicle Age    0.000664\n",
      "10             Policy Start Date_day    0.000262\n",
      "1                                Age    0.000198\n",
      "25             Occupation_Unemployed    0.000076\n"
     ]
    }
   ],
   "source": [
    "# Feature importance analysis for Random Forest\n",
    "feature_importance = pd.DataFrame(\n",
    "    {\"feature\": feature_cols, \"importance\": rf_model.feature_importances_}\n",
    ")\n",
    "feature_importance = feature_importance.sort_values(\"importance\", ascending=False)\n",
    "\n",
    "print(\"\\nTop 10 Most Important Features (Random Forest):\")\n",
    "print(\"-\" * 80)\n",
    "print(feature_importance.head(10))\n",
    "\n",
    "# Analyze prediction errors\n",
    "rf_predictions = rf_model.predict(X_test)\n",
    "prediction_errors = pd.DataFrame(\n",
    "    {\n",
    "        \"Actual\": y_test,\n",
    "        \"Predicted\": rf_predictions,\n",
    "        \"Error\": abs(y_test - rf_predictions),\n",
    "    }\n",
    ")"
   ]
  },
  {
   "cell_type": "markdown",
   "metadata": {},
   "source": [
    "\n",
    "Taking a look at the feature importance, some red flags are visible. Namely, the unrealstic feature ranking having a disconnect from reality.\n",
    "\n",
    "Previous Claims, as mentioned, is usually a much stronger predictor.\n",
    "\n",
    "High importance of \"Policy Start Date_days_since_min\" is also suspect. While it could have some minor influence like the annual increase in premiums and inflation guards, its high ranking suggest an artificial pattern in the data generation.\n",
    "\n",
    "The very low importance of Occupation_Unemployed is also weird, because Occupation does indirectly correlate with risk.\n",
    "\n",
    "There is much to point out, but what is clear is that while our Random Forest model and potentially the rest of the models (since they have comparable evaluation metrics) can identify some sort of parttern in our data, just that the findings are likely artifacts of synthetic data generation.\n"
   ]
  },
  {
   "cell_type": "code",
   "execution_count": 29,
   "metadata": {},
   "outputs": [
    {
     "name": "stdout",
     "output_type": "stream",
     "text": [
      "\n",
      "Error Analysis:\n",
      "--------------------------------------------------------------------------------\n",
      "Error Distribution Statistics:\n",
      "count    240000.000000\n",
      "mean        654.100984\n",
      "std         546.956275\n",
      "min           0.013158\n",
      "25%         285.340309\n",
      "50%         522.757726\n",
      "75%         899.514514\n",
      "max        4268.096695\n",
      "Name: Error, dtype: float64\n",
      "\n",
      "Error Percentiles:\n",
      "25th percentile: 285.34\n",
      "50th percentile: 522.76\n",
      "75th percentile: 899.51\n",
      "90th percentile: 1320.78\n",
      "95th percentile: 1722.10\n",
      "99th percentile: 2704.09\n"
     ]
    }
   ],
   "source": [
    "print(\"\\nError Analysis:\")\n",
    "print(\"-\" * 80)\n",
    "print(\"Error Distribution Statistics:\")\n",
    "print(prediction_errors[\"Error\"].describe())\n",
    "\n",
    "# Calculate error percentiles\n",
    "error_percentiles = np.percentile(prediction_errors[\"Error\"], [25, 50, 75, 90, 95, 99])\n",
    "print(\"\\nError Percentiles:\")\n",
    "for p, v in zip([25, 50, 75, 90, 95, 99], error_percentiles):\n",
    "    print(f\"{p}th percentile: {v:.2f}\")"
   ]
  },
  {
   "cell_type": "markdown",
   "metadata": {},
   "source": [
    "**Mean Error:** On average, the model's predictions are off by approximately \\$654.10. This indicates the typical magnitude of error in our predictions.\n",
    "\n",
    "**Standard Deviation of Error:** The error values have a standard deviation of \\$546.96. This relatively high standard deviation suggests a considerable variability in the prediction errors, meaning the model's accuracy is not consistent across all predictions.\n",
    "\n",
    "**Minimum Error:** The smallest error observed is very close to zero (\\$0.01), indicating some predictions are highly accurate.\n",
    "\n",
    "**Maximum Error:** The largest error reaches \\$4,268.10, highlighting that in some cases, the model's predictions can be significantly off.\n",
    "\n",
    "\n",
    "**Moderate Average Error:** The mean error of \\$654.10 is substantial in the context of insurance premiums. While it's an average, it suggests that, on a typical prediction, the model is not very precise.\n",
    "\n",
    "**High Error Variability:** The large standard deviation (546.96) and the wide range between minimum and maximum errors (from 0.01 to 4,268.10) indicate that the model's performance is inconsistent. It performs well for some instances but poorly for others.\n",
    "\n",
    "**Skewed Error Distribution:** The fact that the mean error (654.10) is higher than the median error (522.76) suggests that the error distribution is right-skewed. This means there are more instances with smaller errors, but the larger errors are significantly larger, pulling the mean upwards.\n",
    "\n",
    "### Error Percentile Breakdown\n",
    "\n",
    "To further understand the error distribution, we examined specific percentiles:\n",
    "\n",
    "**90th Percentile (\\$1,320.78):** 90% of the predictions are within \\$1,320.78 of the actual premium. This means that 10% of predictions have errors exceeding this amount.\n",
    "\n",
    "**95th Percentile (\\$1,722.10):** 95% of the predictions are within \\$1,722.10 of the actual premium.  This indicates that 5% of predictions have substantial errors.\n",
    "\n",
    "**99th Percentile (\\$2,704.09):** 99% of the predictions are within \\$2,704.09 of the actual premium.  Even at the 99th percentile, the error is still considerable, suggesting that in the worst 1% of cases, the model's predictions are significantly inaccurate.\n"
   ]
  },
  {
   "cell_type": "markdown",
   "metadata": {},
   "source": [
    "### Feature engineering: scaling and dimensoniality reduction for linear and SVM models"
   ]
  },
  {
   "cell_type": "code",
   "execution_count": 30,
   "metadata": {
    "id": "vFX2BJst6_X-"
   },
   "outputs": [
    {
     "name": "stdout",
     "output_type": "stream",
     "text": [
      "\n",
      "PCA Analysis:\n",
      "--------------------------------------------------------------------------------\n",
      "Number of original features: 38\n",
      "Number of components after PCA: 32\n",
      "Explained variance ratio: 0.9627\n"
     ]
    }
   ],
   "source": [
    "# 1. Apply PCA to handle multicollinearity and create new features\n",
    "from sklearn.decomposition import PCA\n",
    "from sklearn.preprocessing import StandardScaler\n",
    "\n",
    "# Exclude original skewed columns\n",
    "feature_cols = [\n",
    "    col\n",
    "    for col in df.columns\n",
    "    if col\n",
    "    not in [\"Premium Amount\", \"Annual Income\", \"Previous Claims\", \"Premium Amount\"]\n",
    "]\n",
    "# Scale the features before applying PCA\n",
    "scaler = StandardScaler()\n",
    "X_scaled = scaler.fit_transform(X)\n",
    "\n",
    "# Apply PCA\n",
    "pca = PCA(n_components=0.95)  # Retain 95% of variance\n",
    "X_pca = pca.fit_transform(X_scaled)\n",
    "\n",
    "print(\"\\nPCA Analysis:\")\n",
    "print(\"-\" * 80)\n",
    "print(f\"Number of original features: {X_scaled.shape[1]}\")\n",
    "print(f\"Number of components after PCA: {X_pca.shape[1]}\")\n",
    "print(f\"Explained variance ratio: {pca.explained_variance_ratio_.sum():.4f}\")"
   ]
  },
  {
   "cell_type": "markdown",
   "metadata": {},
   "source": [
    "### Linear & SVM models"
   ]
  },
  {
   "cell_type": "code",
   "execution_count": 31,
   "metadata": {},
   "outputs": [
    {
     "name": "stdout",
     "output_type": "stream",
     "text": [
      "\n",
      "Training Linear Regression...\n",
      "Linear Regression training completed in 0.49 seconds\n",
      "Performing cross-validation for Linear Regression...\n",
      "Linear Regression evaluation completed\n",
      "\n",
      "\n",
      "Training Support Vector Regression...\n"
     ]
    },
    {
     "name": "stderr",
     "output_type": "stream",
     "text": [
      "/Users/siewweiheng/miniconda3/envs/salary/lib/python3.9/site-packages/sklearn/svm/_classes.py:31: FutureWarning: The default value of `dual` will change from `True` to `'auto'` in 1.5. Set the value of `dual` explicitly to suppress the warning.\n",
      "  warnings.warn(\n"
     ]
    },
    {
     "name": "stdout",
     "output_type": "stream",
     "text": [
      "Support Vector Regression training completed in 1.55 seconds\n",
      "Performing cross-validation for Support Vector Regression...\n"
     ]
    },
    {
     "name": "stderr",
     "output_type": "stream",
     "text": [
      "/Users/siewweiheng/miniconda3/envs/salary/lib/python3.9/site-packages/sklearn/svm/_classes.py:31: FutureWarning: The default value of `dual` will change from `True` to `'auto'` in 1.5. Set the value of `dual` explicitly to suppress the warning.\n",
      "  warnings.warn(\n",
      "/Users/siewweiheng/miniconda3/envs/salary/lib/python3.9/site-packages/sklearn/svm/_classes.py:31: FutureWarning: The default value of `dual` will change from `True` to `'auto'` in 1.5. Set the value of `dual` explicitly to suppress the warning.\n",
      "  warnings.warn(\n",
      "/Users/siewweiheng/miniconda3/envs/salary/lib/python3.9/site-packages/sklearn/svm/_classes.py:31: FutureWarning: The default value of `dual` will change from `True` to `'auto'` in 1.5. Set the value of `dual` explicitly to suppress the warning.\n",
      "  warnings.warn(\n"
     ]
    },
    {
     "name": "stdout",
     "output_type": "stream",
     "text": [
      "Support Vector Regression evaluation completed\n",
      "\n"
     ]
    }
   ],
   "source": [
    "# Linear & SVM model goes here\n",
    "from sklearn.linear_model import LinearRegression\n",
    "from sklearn.svm import SVR, LinearSVR\n",
    "\n",
    "# Split PCA data\n",
    "X_pca_train, X_pca_test, y_train, y_test = train_test_split(\n",
    "    X_pca, y, test_size=0.2, random_state=42\n",
    ")\n",
    "\n",
    "# Initialize Linear Regression model\n",
    "lr_model = LinearRegression()\n",
    "\n",
    "# Initialize SVR model\n",
    "svr_model = LinearSVR()  # Using LinearSVR for faster training\n",
    "\n",
    "# Train and evaluate Linear Regression\n",
    "print(\"\\nTraining Linear Regression...\")\n",
    "start_time = time.time()\n",
    "lr_model.fit(X_pca_train, y_train)\n",
    "end_time = time.time()\n",
    "duration = end_time - start_time\n",
    "print(f\"Linear Regression training completed in {duration:.2f} seconds\")\n",
    "\n",
    "y_pred_lr = lr_model.predict(X_pca_test)\n",
    "mse_lr = mean_squared_error(y_test, y_pred_lr)\n",
    "rmse_lr = np.sqrt(mse_lr)\n",
    "mae_lr = mean_absolute_error(y_test, y_pred_lr)\n",
    "r2_lr = r2_score(y_test, y_pred_lr)\n",
    "\n",
    "print(\"Performing cross-validation for Linear Regression...\")\n",
    "cv_scores_lr = cross_val_score(lr_model, X_pca, y, cv=kf, scoring=\"r2\")\n",
    "\n",
    "# Store Linear Regression results\n",
    "model_results[\"Linear Regression\"] = {\n",
    "    \"RMSE\": rmse_lr,\n",
    "    \"MAE\": mae_lr,\n",
    "    \"R2\": r2_lr,\n",
    "    \"CV_R2_mean\": cv_scores_lr.mean(),\n",
    "    \"CV_R2_std\": cv_scores_lr.std(),\n",
    "}\n",
    "print(f\"Linear Regression evaluation completed\\n\")\n",
    "\n",
    "\n",
    "# Train and evaluate SVR\n",
    "print(\"\\nTraining Support Vector Regression...\")\n",
    "start_time = time.time()\n",
    "svr_model.fit(X_pca_train, y_train)\n",
    "end_time = time.time()\n",
    "duration = end_time - start_time\n",
    "print(f\"Support Vector Regression training completed in {duration:.2f} seconds\")\n",
    "\n",
    "y_pred_svr = svr_model.predict(X_pca_test)\n",
    "mse_svr = mean_squared_error(y_test, y_pred_svr)\n",
    "rmse_svr = np.sqrt(mse_svr)\n",
    "mae_svr = mean_absolute_error(y_test, y_pred_svr)\n",
    "r2_svr = r2_score(y_test, y_pred_svr)\n",
    "\n",
    "print(\"Performing cross-validation for Support Vector Regression...\")\n",
    "cv_scores_svr = cross_val_score(svr_model, X_pca, y, cv=kf, scoring=\"r2\")\n",
    "\n",
    "\n",
    "# Store SVR results\n",
    "model_results[\"Support Vector Regression\"] = {\n",
    "    \"RMSE\": rmse_svr,\n",
    "    \"MAE\": mae_svr,\n",
    "    \"R2\": r2_svr,\n",
    "    \"CV_R2_mean\": cv_scores_svr.mean(),\n",
    "    \"CV_R2_std\": cv_scores_svr.std(),\n",
    "}\n",
    "print(f\"Support Vector Regression evaluation completed\\n\")\n"
   ]
  },
  {
   "cell_type": "markdown",
   "metadata": {},
   "source": [
    "## Performance Measurement"
   ]
  },
  {
   "cell_type": "code",
   "execution_count": 32,
   "metadata": {},
   "outputs": [
    {
     "name": "stdout",
     "output_type": "stream",
     "text": [
      "\n",
      "Model Performance Comparison:\n",
      "--------------------------------------------------------------------------------\n",
      "\n",
      "Decision Tree:\n",
      "RMSE: 853.15\n",
      "MAE: 654.13\n",
      "R2 Score: 0.0260\n",
      "Cross-validation R2: 0.0263 (±0.0005)\n",
      "\n",
      "XGBoost:\n",
      "RMSE: 846.52\n",
      "MAE: 646.46\n",
      "R2 Score: 0.0411\n",
      "Cross-validation R2: 0.0430 (±0.0008)\n",
      "\n",
      "LightGBM:\n",
      "RMSE: 847.40\n",
      "MAE: 648.92\n",
      "R2 Score: 0.0391\n",
      "Cross-validation R2: 0.0395 (±0.0007)\n",
      "\n",
      "Random Forest:\n",
      "RMSE: 852.95\n",
      "MAE: 654.09\n",
      "R2 Score: 0.0264\n",
      "Cross-validation R2: 0.0266 (±0.0006)\n",
      "\n",
      "Linear Regression:\n",
      "RMSE: 863.23\n",
      "MAE: 667.20\n",
      "R2 Score: 0.0028\n",
      "Cross-validation R2: 0.0030 (±0.0001)\n",
      "\n",
      "Support Vector Regression:\n",
      "RMSE: 898.40\n",
      "MAE: 637.89\n",
      "R2 Score: -0.0801\n",
      "Cross-validation R2: -0.0804 (±0.0017)\n"
     ]
    }
   ],
   "source": [
    "# Print results\n",
    "print(\"\\nModel Performance Comparison:\")\n",
    "print(\"-\" * 80)\n",
    "for model_name, metrics in model_results.items():\n",
    "    print(f\"\\n{model_name}:\")\n",
    "    print(f\"RMSE: {metrics['RMSE']:.2f}\")\n",
    "    print(f\"MAE: {metrics['MAE']:.2f}\")\n",
    "    print(f\"R2 Score: {metrics['R2']:.4f}\")\n",
    "    print(\n",
    "        f\"Cross-validation R2: {metrics['CV_R2_mean']:.4f} (±{metrics['CV_R2_std']:.4f})\"\n",
    "    )"
   ]
  },
  {
   "cell_type": "markdown",
   "metadata": {},
   "source": [
    "\n",
    "Linear regression has the lowest R2 of 0.0028, which is significantly lower than even the worst-performing tree-based models. Linear regression also has the highest RMSE. This shows that the relationship between the feature and target variable is not linear, and we can benefit from more complex models.\n",
    "\n",
    "However, we have interesting results with Linear SVR. A negative R2 means that the model is performing worse than guessing the mean of the target variable. Linear SVR also has the highest RMSE by a significant margin. Paradoxically, it has the lowest MAE among all the models. It suggests that SVR is making some very large errors, which drive up the RMSE, but on average, the absolute errors are smaller than other models. \n",
    "\n",
    "Regardless, the combination of PCA and linear models seems to not be a good fit.\n",
    "\n",
    "#### Model Selection Verdict\n",
    "None of these models perform well for real-world deployment. However, for the purpose of moving forward and choosing one model, the **XGBoost** is the least worst option, given the fact that is has higher R2 and lower RMSE and MAE.\n",
    "\n"
   ]
  },
  {
   "cell_type": "markdown",
   "metadata": {},
   "source": [
    "## Hyperparameter Tuning\n",
    "\n",
    "We will utilize RandomizedCVSearch to find the best hyperparameters. It is similar to GridSearchCV but it is much quicker and arrives at very similar results.\n",
    "\n",
    "Here are the hyperparameters we're adjusting, and how it impacts the model performance."
   ]
  },
  {
   "cell_type": "code",
   "execution_count": 34,
   "metadata": {
    "scrolled": true
   },
   "outputs": [
    {
     "name": "stdout",
     "output_type": "stream",
     "text": [
      "\n",
      "Performing RandomizedSearchCV for XGBoost...\n",
      "Fitting 3 folds for each of 50 candidates, totalling 150 fits\n",
      "[CV] END colsample_bytree=0.9329770563201687, gamma=0.10616955533913808, learning_rate=0.06454749016213018, max_depth=7, min_child_weight=1, n_estimators=253, subsample=0.8446612641953124; total time=  19.8s\n",
      "[CV] END colsample_bytree=0.7246844304357644, gamma=0.2600340105889054, learning_rate=0.1740130838029839, max_depth=8, min_child_weight=5, n_estimators=240, subsample=0.9369139098379994; total time=  19.5s\n",
      "[CV] END colsample_bytree=0.8916028672163949, gamma=0.38563517334297287, learning_rate=0.03221339552022711, max_depth=9, min_child_weight=2, n_estimators=90, subsample=0.9659838702175123; total time=  11.0s\n",
      "[CV] END colsample_bytree=0.8365191150830908, gamma=0.13736089649503208, learning_rate=0.17837302775431035, max_depth=5, min_child_weight=5, n_estimators=224, subsample=0.885297914889198; total time=  12.1s\n",
      "[CV] END colsample_bytree=0.6443563283247326, gamma=0.21966825093288506, learning_rate=0.07051576070061885, max_depth=9, min_child_weight=1, n_estimators=101, subsample=0.8253102287905535; total time=  11.3s\n",
      "[CV] END colsample_bytree=0.8769744131561081, gamma=0.13470616689926074, learning_rate=0.08323765667433225, max_depth=5, min_child_weight=6, n_estimators=209, subsample=0.8075162486973464; total time=  12.4s\n",
      "[CV] END colsample_bytree=0.6132202931602193, gamma=0.1725356240133415, learning_rate=0.20030540341040914, max_depth=8, min_child_weight=2, n_estimators=102, subsample=0.7957811041110252; total time=  12.1s\n",
      "[CV] END colsample_bytree=0.9238004184558861, gamma=0.1743329936458647, learning_rate=0.03885296532742623, max_depth=3, min_child_weight=1, n_estimators=217, subsample=0.7546941385202149; total time=   9.7s\n",
      "[CV] END colsample_bytree=0.8903822715480958, gamma=0.44855512997628855, learning_rate=0.27612592727953517, max_depth=3, min_child_weight=4, n_estimators=124, subsample=0.9742539976883791; total time=   5.9s\n",
      "[CV] END colsample_bytree=0.6072301454462083, gamma=0.2469468575917173, learning_rate=0.06364681276639864, max_depth=9, min_child_weight=3, n_estimators=194, subsample=0.7232243167409557; total time=  20.7s\n",
      "[CV] END colsample_bytree=0.9376852562905246, gamma=0.46500841740541593, learning_rate=0.031124839254863167, max_depth=4, min_child_weight=6, n_estimators=200, subsample=0.6560336060946096; total time=  11.8s\n",
      "[CV] END colsample_bytree=0.954646859580264, gamma=0.013808385936852352, learning_rate=0.18365946865226762, max_depth=9, min_child_weight=6, n_estimators=100, subsample=0.786239207252984; total time=   9.0s\n",
      "\n",
      "Best parameters found:\n",
      "{'colsample_bytree': 0.8916028672163949, 'gamma': 0.38563517334297287, 'learning_rate': 0.03221339552022711, 'max_depth': 9, 'min_child_weight': 2, 'n_estimators': 90, 'subsample': 0.9659838702175123}\n",
      "\n",
      "Best cross-validation R2 score: 0.0490\n",
      "[CV] END colsample_bytree=0.749816047538945, gamma=0.4753571532049581, learning_rate=0.22959818254342154, max_depth=7, min_child_weight=5, n_estimators=152, subsample=0.7783331011414365; total time=  12.8s\n",
      "[CV] END colsample_bytree=0.9439761626945282, gamma=0.34015376929388985, learning_rate=0.1451497755908629, max_depth=4, min_child_weight=4, n_estimators=138, subsample=0.9862528132298237; total time=   7.0s\n",
      "[CV] END colsample_bytree=0.7246844304357644, gamma=0.2600340105889054, learning_rate=0.1740130838029839, max_depth=8, min_child_weight=5, n_estimators=240, subsample=0.9369139098379994; total time=  19.6s\n",
      "[CV] END colsample_bytree=0.8916028672163949, gamma=0.38563517334297287, learning_rate=0.03221339552022711, max_depth=9, min_child_weight=2, n_estimators=90, subsample=0.9659838702175123; total time=  10.6s\n",
      "[CV] END colsample_bytree=0.8365191150830908, gamma=0.13736089649503208, learning_rate=0.17837302775431035, max_depth=5, min_child_weight=5, n_estimators=224, subsample=0.885297914889198; total time=  12.5s\n",
      "[CV] END colsample_bytree=0.878206434570451, gamma=0.06966572720293784, learning_rate=0.1913252137833452, max_depth=9, min_child_weight=3, n_estimators=78, subsample=0.6915192661966489; total time=   8.6s\n",
      "[CV] END colsample_bytree=0.922976062065625, gamma=0.4480456499617466, learning_rate=0.10540104249155915, max_depth=3, min_child_weight=1, n_estimators=170, subsample=0.8590760482165449; total time=   7.4s\n",
      "[CV] END colsample_bytree=0.881207583558071, gamma=0.181814801189647, learning_rate=0.3015346248162882, max_depth=6, min_child_weight=4, n_estimators=88, subsample=0.7988994023569542; total time=   6.8s\n",
      "[CV] END colsample_bytree=0.7203513239267079, gamma=0.1424202471887338, learning_rate=0.021066084206359838, max_depth=3, min_child_weight=2, n_estimators=179, subsample=0.7644148053272926; total time=   9.1s\n",
      "[CV] END colsample_bytree=0.6746074041599417, gamma=0.020387570777381958, learning_rate=0.18726788295647254, max_depth=5, min_child_weight=4, n_estimators=196, subsample=0.884459812975207; total time=  12.6s\n",
      "[CV] END colsample_bytree=0.9985014799031697, gamma=0.4827096756443968, learning_rate=0.1774880360821293, max_depth=5, min_child_weight=1, n_estimators=282, subsample=0.7396838298450643; total time=  15.8s\n",
      "[CV] END colsample_bytree=0.7572390898667042, gamma=0.44602327758855664, learning_rate=0.19934158779917888, max_depth=4, min_child_weight=5, n_estimators=79, subsample=0.8580413448122259; total time=   4.8s\n",
      "[CV] END colsample_bytree=0.6174415087017735, gamma=0.4972752553986705, learning_rate=0.1509833541972829, max_depth=8, min_child_weight=5, n_estimators=55, subsample=0.7480634801021777; total time=   6.0s\n",
      "[CV] END colsample_bytree=0.7177795568278342, gamma=0.19254886430096263, learning_rate=0.26534100145505707, max_depth=5, min_child_weight=2, n_estimators=74, subsample=0.7578765867237889; total time=   6.0s\n",
      "[CV] END colsample_bytree=0.8211279907631631, gamma=0.14825507182389924, learning_rate=0.13593425693388295, max_depth=4, min_child_weight=1, n_estimators=201, subsample=0.9652962210225885; total time=  10.1s\n",
      "[CV] END colsample_bytree=0.749816047538945, gamma=0.4753571532049581, learning_rate=0.22959818254342154, max_depth=7, min_child_weight=5, n_estimators=152, subsample=0.7783331011414365; total time=  12.1s\n",
      "[CV] END colsample_bytree=0.9439761626945282, gamma=0.34015376929388985, learning_rate=0.1451497755908629, max_depth=4, min_child_weight=4, n_estimators=138, subsample=0.9862528132298237; total time=   7.2s\n",
      "[CV] END colsample_bytree=0.8439986631130484, gamma=0.41659745586808217, learning_rate=0.062009396052331626, max_depth=3, min_child_weight=4, n_estimators=99, subsample=0.8650089137415928; total time=   5.0s\n",
      "[CV] END colsample_bytree=0.7799016533479063, gamma=0.1975751180009072, learning_rate=0.28799765973813823, max_depth=9, min_child_weight=6, n_estimators=264, subsample=0.8083337040103294; total time=  27.0s\n",
      "[CV] END colsample_bytree=0.9043140194467589, gamma=0.2806385987847481, learning_rate=0.2412901539863683, max_depth=9, min_child_weight=3, n_estimators=186, subsample=0.8842651558743149; total time=  18.7s\n",
      "[CV] END colsample_bytree=0.6421977039321082, gamma=0.22826728524145512, learning_rate=0.07553213116505007, max_depth=6, min_child_weight=6, n_estimators=239, subsample=0.8157368967662603; total time=  15.6s\n",
      "[CV] END colsample_bytree=0.6132202931602193, gamma=0.1725356240133415, learning_rate=0.20030540341040914, max_depth=8, min_child_weight=2, n_estimators=102, subsample=0.7957811041110252; total time=  11.5s\n",
      "[CV] END colsample_bytree=0.9238004184558861, gamma=0.1743329936458647, learning_rate=0.03885296532742623, max_depth=3, min_child_weight=1, n_estimators=217, subsample=0.7546941385202149; total time=  10.2s\n",
      "[CV] END colsample_bytree=0.8903822715480958, gamma=0.44855512997628855, learning_rate=0.27612592727953517, max_depth=3, min_child_weight=4, n_estimators=124, subsample=0.9742539976883791; total time=   5.8s\n",
      "[CV] END colsample_bytree=0.6072301454462083, gamma=0.2469468575917173, learning_rate=0.06364681276639864, max_depth=9, min_child_weight=3, n_estimators=194, subsample=0.7232243167409557; total time=  20.9s\n",
      "[CV] END colsample_bytree=0.7177795568278342, gamma=0.19254886430096263, learning_rate=0.26534100145505707, max_depth=5, min_child_weight=2, n_estimators=74, subsample=0.7578765867237889; total time=   6.2s\n",
      "[CV] END colsample_bytree=0.8211279907631631, gamma=0.14825507182389924, learning_rate=0.13593425693388295, max_depth=4, min_child_weight=1, n_estimators=201, subsample=0.9652962210225885; total time=  10.0s\n",
      "[CV] END colsample_bytree=0.9329770563201687, gamma=0.10616955533913808, learning_rate=0.06454749016213018, max_depth=7, min_child_weight=1, n_estimators=253, subsample=0.8446612641953124; total time=  18.5s\n",
      "[CV] END colsample_bytree=0.8439986631130484, gamma=0.41659745586808217, learning_rate=0.062009396052331626, max_depth=3, min_child_weight=4, n_estimators=99, subsample=0.8650089137415928; total time=   4.9s\n",
      "[CV] END colsample_bytree=0.7799016533479063, gamma=0.1975751180009072, learning_rate=0.28799765973813823, max_depth=9, min_child_weight=6, n_estimators=264, subsample=0.8083337040103294; total time=  27.0s\n",
      "[CV] END colsample_bytree=0.9043140194467589, gamma=0.2806385987847481, learning_rate=0.2412901539863683, max_depth=9, min_child_weight=3, n_estimators=186, subsample=0.8842651558743149; total time=  18.4s\n",
      "[CV] END colsample_bytree=0.6421977039321082, gamma=0.22826728524145512, learning_rate=0.07553213116505007, max_depth=6, min_child_weight=6, n_estimators=239, subsample=0.8157368967662603; total time=  15.4s\n",
      "[CV] END colsample_bytree=0.7203513239267079, gamma=0.1424202471887338, learning_rate=0.021066084206359838, max_depth=3, min_child_weight=2, n_estimators=179, subsample=0.7644148053272926; total time=   9.2s\n",
      "[CV] END colsample_bytree=0.6746074041599417, gamma=0.020387570777381958, learning_rate=0.18726788295647254, max_depth=5, min_child_weight=4, n_estimators=196, subsample=0.884459812975207; total time=  12.7s\n",
      "[CV] END colsample_bytree=0.9985014799031697, gamma=0.4827096756443968, learning_rate=0.1774880360821293, max_depth=5, min_child_weight=1, n_estimators=282, subsample=0.7396838298450643; total time=  16.2s\n",
      "[CV] END colsample_bytree=0.7572390898667042, gamma=0.44602327758855664, learning_rate=0.19934158779917888, max_depth=4, min_child_weight=5, n_estimators=79, subsample=0.8580413448122259; total time=   4.9s\n",
      "[CV] END colsample_bytree=0.6174415087017735, gamma=0.4972752553986705, learning_rate=0.1509833541972829, max_depth=8, min_child_weight=5, n_estimators=55, subsample=0.7480634801021777; total time=   6.3s\n",
      "[CV] END colsample_bytree=0.7177795568278342, gamma=0.19254886430096263, learning_rate=0.26534100145505707, max_depth=5, min_child_weight=2, n_estimators=74, subsample=0.7578765867237889; total time=   6.2s\n",
      "[CV] END colsample_bytree=0.8211279907631631, gamma=0.14825507182389924, learning_rate=0.13593425693388295, max_depth=4, min_child_weight=1, n_estimators=201, subsample=0.9652962210225885; total time=  10.0s\n",
      "[CV] END colsample_bytree=0.749816047538945, gamma=0.4753571532049581, learning_rate=0.22959818254342154, max_depth=7, min_child_weight=5, n_estimators=152, subsample=0.7783331011414365; total time=  12.6s\n",
      "[CV] END colsample_bytree=0.9439761626945282, gamma=0.34015376929388985, learning_rate=0.1451497755908629, max_depth=4, min_child_weight=4, n_estimators=138, subsample=0.9862528132298237; total time=   7.3s\n",
      "[CV] END colsample_bytree=0.7246844304357644, gamma=0.2600340105889054, learning_rate=0.1740130838029839, max_depth=8, min_child_weight=5, n_estimators=240, subsample=0.9369139098379994; total time=  19.4s\n",
      "[CV] END colsample_bytree=0.8916028672163949, gamma=0.38563517334297287, learning_rate=0.03221339552022711, max_depth=9, min_child_weight=2, n_estimators=90, subsample=0.9659838702175123; total time=  10.9s\n",
      "[CV] END colsample_bytree=0.8365191150830908, gamma=0.13736089649503208, learning_rate=0.17837302775431035, max_depth=5, min_child_weight=5, n_estimators=224, subsample=0.885297914889198; total time=  12.7s\n",
      "[CV] END colsample_bytree=0.878206434570451, gamma=0.06966572720293784, learning_rate=0.1913252137833452, max_depth=9, min_child_weight=3, n_estimators=78, subsample=0.6915192661966489; total time=   8.6s\n",
      "[CV] END colsample_bytree=0.922976062065625, gamma=0.4480456499617466, learning_rate=0.10540104249155915, max_depth=3, min_child_weight=1, n_estimators=170, subsample=0.8590760482165449; total time=   7.6s\n",
      "[CV] END colsample_bytree=0.881207583558071, gamma=0.181814801189647, learning_rate=0.3015346248162882, max_depth=6, min_child_weight=4, n_estimators=88, subsample=0.7988994023569542; total time=   6.8s\n",
      "[CV] END colsample_bytree=0.9942601816442402, gamma=0.1210276357557502, learning_rate=0.21164066422176356, max_depth=5, min_child_weight=3, n_estimators=194, subsample=0.8912865394447438; total time=  13.3s\n",
      "[CV] END colsample_bytree=0.9746919954946938, gamma=0.06876047207299663, learning_rate=0.11231990531507755, max_depth=3, min_child_weight=2, n_estimators=200, subsample=0.8165791895310264; total time=   8.6s\n",
      "[CV] END colsample_bytree=0.9141362604455774, gamma=0.3344941273571143, learning_rate=0.1842059864309364, max_depth=8, min_child_weight=1, n_estimators=148, subsample=0.989465534702127; total time=  12.7s\n",
      "[CV] END colsample_bytree=0.8170160922219597, gamma=0.25440703841938, learning_rate=0.20089978545576861, max_depth=8, min_child_weight=6, n_estimators=207, subsample=0.9892042219009782; total time=  17.1s\n",
      "[CV] END colsample_bytree=0.8073318609454947, gamma=0.4386865359639777, learning_rate=0.23223058532626134, max_depth=3, min_child_weight=1, n_estimators=92, subsample=0.8835643987640474; total time=   5.3s\n",
      "[CV] END colsample_bytree=0.8045369595443751, gamma=0.2507581473435998, learning_rate=0.24948855369003253, max_depth=3, min_child_weight=6, n_estimators=193, subsample=0.6203074124157587; total time=   8.6s\n",
      "[CV] END colsample_bytree=0.6028265220878869, gamma=0.011531212520707879, learning_rate=0.16743239807751675, max_depth=9, min_child_weight=2, n_estimators=269, subsample=0.9895022075365837; total time=  25.3s\n",
      "[CV] END colsample_bytree=0.9844688097397396, gamma=0.4222669243390757, learning_rate=0.23419603304121425, max_depth=9, min_child_weight=5, n_estimators=73, subsample=0.7427013306774357; total time=   8.3s\n",
      "[CV] END colsample_bytree=0.7693605922825478, gamma=0.19744075908778486, learning_rate=0.09804645241541143, max_depth=9, min_child_weight=3, n_estimators=292, subsample=0.8827429375390468; total time=  29.1s\n",
      "[CV] END colsample_bytree=0.6443563283247326, gamma=0.21966825093288506, learning_rate=0.07051576070061885, max_depth=9, min_child_weight=1, n_estimators=101, subsample=0.8253102287905535; total time=  11.3s\n",
      "[CV] END colsample_bytree=0.8769744131561081, gamma=0.13470616689926074, learning_rate=0.08323765667433225, max_depth=5, min_child_weight=6, n_estimators=209, subsample=0.8075162486973464; total time=  12.2s\n",
      "[CV] END colsample_bytree=0.9942601816442402, gamma=0.1210276357557502, learning_rate=0.21164066422176356, max_depth=5, min_child_weight=3, n_estimators=194, subsample=0.8912865394447438; total time=  13.4s\n",
      "[CV] END colsample_bytree=0.9746919954946938, gamma=0.06876047207299663, learning_rate=0.11231990531507755, max_depth=3, min_child_weight=2, n_estimators=200, subsample=0.8165791895310264; total time=   9.2s\n",
      "[CV] END colsample_bytree=0.9141362604455774, gamma=0.3344941273571143, learning_rate=0.1842059864309364, max_depth=8, min_child_weight=1, n_estimators=148, subsample=0.989465534702127; total time=  12.9s\n",
      "[CV] END colsample_bytree=0.8170160922219597, gamma=0.25440703841938, learning_rate=0.20089978545576861, max_depth=8, min_child_weight=6, n_estimators=207, subsample=0.9892042219009782; total time=  17.0s\n",
      "[CV] END colsample_bytree=0.8073318609454947, gamma=0.4386865359639777, learning_rate=0.23223058532626134, max_depth=3, min_child_weight=1, n_estimators=92, subsample=0.8835643987640474; total time=   5.1s\n",
      "[CV] END colsample_bytree=0.8045369595443751, gamma=0.2507581473435998, learning_rate=0.24948855369003253, max_depth=3, min_child_weight=6, n_estimators=193, subsample=0.6203074124157587; total time=   8.5s\n",
      "[CV] END colsample_bytree=0.6028265220878869, gamma=0.011531212520707879, learning_rate=0.16743239807751675, max_depth=9, min_child_weight=2, n_estimators=269, subsample=0.9895022075365837; total time=  25.6s\n",
      "[CV] END colsample_bytree=0.9844688097397396, gamma=0.4222669243390757, learning_rate=0.23419603304121425, max_depth=9, min_child_weight=5, n_estimators=73, subsample=0.7427013306774357; total time=   8.2s\n",
      "[CV] END colsample_bytree=0.7693605922825478, gamma=0.19744075908778486, learning_rate=0.09804645241541143, max_depth=9, min_child_weight=3, n_estimators=292, subsample=0.8827429375390468; total time=  29.5s\n",
      "[CV] END colsample_bytree=0.878206434570451, gamma=0.06966572720293784, learning_rate=0.1913252137833452, max_depth=9, min_child_weight=3, n_estimators=78, subsample=0.6915192661966489; total time=   9.0s\n",
      "[CV] END colsample_bytree=0.922976062065625, gamma=0.4480456499617466, learning_rate=0.10540104249155915, max_depth=3, min_child_weight=1, n_estimators=170, subsample=0.8590760482165449; total time=   7.5s\n",
      "[CV] END colsample_bytree=0.881207583558071, gamma=0.181814801189647, learning_rate=0.3015346248162882, max_depth=6, min_child_weight=4, n_estimators=88, subsample=0.7988994023569542; total time=   7.0s\n",
      "[CV] END colsample_bytree=0.9942601816442402, gamma=0.1210276357557502, learning_rate=0.21164066422176356, max_depth=5, min_child_weight=3, n_estimators=194, subsample=0.8912865394447438; total time=  13.3s\n",
      "[CV] END colsample_bytree=0.9746919954946938, gamma=0.06876047207299663, learning_rate=0.11231990531507755, max_depth=3, min_child_weight=2, n_estimators=200, subsample=0.8165791895310264; total time=   9.0s\n",
      "[CV] END colsample_bytree=0.9141362604455774, gamma=0.3344941273571143, learning_rate=0.1842059864309364, max_depth=8, min_child_weight=1, n_estimators=148, subsample=0.989465534702127; total time=  12.9s\n",
      "[CV] END colsample_bytree=0.8170160922219597, gamma=0.25440703841938, learning_rate=0.20089978545576861, max_depth=8, min_child_weight=6, n_estimators=207, subsample=0.9892042219009782; total time=  17.2s\n",
      "[CV] END colsample_bytree=0.8073318609454947, gamma=0.4386865359639777, learning_rate=0.23223058532626134, max_depth=3, min_child_weight=1, n_estimators=92, subsample=0.8835643987640474; total time=   5.2s\n",
      "[CV] END colsample_bytree=0.8045369595443751, gamma=0.2507581473435998, learning_rate=0.24948855369003253, max_depth=3, min_child_weight=6, n_estimators=193, subsample=0.6203074124157587; total time=   8.4s\n",
      "[CV] END colsample_bytree=0.9329770563201687, gamma=0.10616955533913808, learning_rate=0.06454749016213018, max_depth=7, min_child_weight=1, n_estimators=253, subsample=0.8446612641953124; total time=  19.5s\n",
      "[CV] END colsample_bytree=0.8439986631130484, gamma=0.41659745586808217, learning_rate=0.062009396052331626, max_depth=3, min_child_weight=4, n_estimators=99, subsample=0.8650089137415928; total time=   4.8s\n",
      "[CV] END colsample_bytree=0.7799016533479063, gamma=0.1975751180009072, learning_rate=0.28799765973813823, max_depth=9, min_child_weight=6, n_estimators=264, subsample=0.8083337040103294; total time=  27.1s\n",
      "[CV] END colsample_bytree=0.9043140194467589, gamma=0.2806385987847481, learning_rate=0.2412901539863683, max_depth=9, min_child_weight=3, n_estimators=186, subsample=0.8842651558743149; total time=  19.2s\n",
      "[CV] END colsample_bytree=0.6421977039321082, gamma=0.22826728524145512, learning_rate=0.07553213116505007, max_depth=6, min_child_weight=6, n_estimators=239, subsample=0.8157368967662603; total time=  15.4s\n",
      "[CV] END colsample_bytree=0.6132202931602193, gamma=0.1725356240133415, learning_rate=0.20030540341040914, max_depth=8, min_child_weight=2, n_estimators=102, subsample=0.7957811041110252; total time=  11.8s\n",
      "[CV] END colsample_bytree=0.9238004184558861, gamma=0.1743329936458647, learning_rate=0.03885296532742623, max_depth=3, min_child_weight=1, n_estimators=217, subsample=0.7546941385202149; total time=   9.6s\n",
      "[CV] END colsample_bytree=0.8903822715480958, gamma=0.44855512997628855, learning_rate=0.27612592727953517, max_depth=3, min_child_weight=4, n_estimators=124, subsample=0.9742539976883791; total time=   5.8s\n",
      "[CV] END colsample_bytree=0.6072301454462083, gamma=0.2469468575917173, learning_rate=0.06364681276639864, max_depth=9, min_child_weight=3, n_estimators=194, subsample=0.7232243167409557; total time=  21.3s\n",
      "[CV] END colsample_bytree=0.9376852562905246, gamma=0.46500841740541593, learning_rate=0.031124839254863167, max_depth=4, min_child_weight=6, n_estimators=200, subsample=0.6560336060946096; total time=  11.5s\n",
      "[CV] END colsample_bytree=0.954646859580264, gamma=0.013808385936852352, learning_rate=0.18365946865226762, max_depth=9, min_child_weight=6, n_estimators=100, subsample=0.786239207252984; total time=   9.1s\n",
      "[CV] END colsample_bytree=0.6399899663272012, gamma=0.22962444598293358, learning_rate=0.11011258334170654, max_depth=5, min_child_weight=6, n_estimators=102, subsample=0.9879639408647978; total time=   7.4s\n",
      "[CV] END colsample_bytree=0.6931085361721216, gamma=0.0453032172664104, learning_rate=0.1955158027999262, max_depth=6, min_child_weight=4, n_estimators=113, subsample=0.786705157299192; total time=   8.6s\n",
      "[CV] END colsample_bytree=0.9233589392465844, gamma=0.15230688458668534, learning_rate=0.03930163420191516, max_depth=6, min_child_weight=4, n_estimators=160, subsample=0.8733054075301833; total time=  10.9s\n",
      "[CV] END colsample_bytree=0.7123738038749523, gamma=0.27134804157912423, learning_rate=0.052277267492428794, max_depth=9, min_child_weight=5, n_estimators=114, subsample=0.6062545626964776; total time=  13.2s\n",
      "[CV] END colsample_bytree=0.9400154311159197, gamma=0.2247253370691017, learning_rate=0.038623034947123394, max_depth=9, min_child_weight=6, n_estimators=265, subsample=0.8663689426469987; total time=  27.5s\n",
      "[CV] END colsample_bytree=0.6307919639315172, gamma=0.144875726456884, learning_rate=0.058366386176201324, max_depth=4, min_child_weight=2, n_estimators=94, subsample=0.7182534743350856; total time=   5.4s\n",
      "[CV] END colsample_bytree=0.8769744131561081, gamma=0.13470616689926074, learning_rate=0.08323765667433225, max_depth=5, min_child_weight=6, n_estimators=209, subsample=0.8075162486973464; total time=  12.2s\n",
      "[CV] END colsample_bytree=0.7203513239267079, gamma=0.1424202471887338, learning_rate=0.021066084206359838, max_depth=3, min_child_weight=2, n_estimators=179, subsample=0.7644148053272926; total time=   9.4s\n",
      "[CV] END colsample_bytree=0.6746074041599417, gamma=0.020387570777381958, learning_rate=0.18726788295647254, max_depth=5, min_child_weight=4, n_estimators=196, subsample=0.884459812975207; total time=  12.4s\n",
      "[CV] END colsample_bytree=0.9985014799031697, gamma=0.4827096756443968, learning_rate=0.1774880360821293, max_depth=5, min_child_weight=1, n_estimators=282, subsample=0.7396838298450643; total time=  15.9s\n",
      "[CV] END colsample_bytree=0.7572390898667042, gamma=0.44602327758855664, learning_rate=0.19934158779917888, max_depth=4, min_child_weight=5, n_estimators=79, subsample=0.8580413448122259; total time=   5.1s\n",
      "[CV] END colsample_bytree=0.6174415087017735, gamma=0.4972752553986705, learning_rate=0.1509833541972829, max_depth=8, min_child_weight=5, n_estimators=55, subsample=0.7480634801021777; total time=   6.1s\n",
      "[CV] END colsample_bytree=0.9376852562905246, gamma=0.46500841740541593, learning_rate=0.031124839254863167, max_depth=4, min_child_weight=6, n_estimators=200, subsample=0.6560336060946096; total time=  11.8s\n",
      "[CV] END colsample_bytree=0.954646859580264, gamma=0.013808385936852352, learning_rate=0.18365946865226762, max_depth=9, min_child_weight=6, n_estimators=100, subsample=0.786239207252984; total time=   9.1s\n",
      "[CV] END colsample_bytree=0.6399899663272012, gamma=0.22962444598293358, learning_rate=0.11011258334170654, max_depth=5, min_child_weight=6, n_estimators=102, subsample=0.9879639408647978; total time=   6.9s\n",
      "[CV] END colsample_bytree=0.6931085361721216, gamma=0.0453032172664104, learning_rate=0.1955158027999262, max_depth=6, min_child_weight=4, n_estimators=113, subsample=0.786705157299192; total time=   8.4s\n",
      "[CV] END colsample_bytree=0.9233589392465844, gamma=0.15230688458668534, learning_rate=0.03930163420191516, max_depth=6, min_child_weight=4, n_estimators=160, subsample=0.8733054075301833; total time=  10.7s\n",
      "[CV] END colsample_bytree=0.7123738038749523, gamma=0.27134804157912423, learning_rate=0.052277267492428794, max_depth=9, min_child_weight=5, n_estimators=114, subsample=0.6062545626964776; total time=  13.2s\n",
      "[CV] END colsample_bytree=0.9400154311159197, gamma=0.2247253370691017, learning_rate=0.038623034947123394, max_depth=9, min_child_weight=6, n_estimators=265, subsample=0.8663689426469987; total time=  27.2s\n",
      "[CV] END colsample_bytree=0.6307919639315172, gamma=0.144875726456884, learning_rate=0.058366386176201324, max_depth=4, min_child_weight=2, n_estimators=94, subsample=0.7182534743350856; total time=   5.6s\n",
      "[CV] END colsample_bytree=0.6002081507981263, gamma=0.1762844281670845, learning_rate=0.1014343774474087, max_depth=8, min_child_weight=3, n_estimators=186, subsample=0.7939319885435933; total time=  16.7s\n",
      "[CV] END colsample_bytree=0.7471132530877013, gamma=0.31615291529678974, learning_rate=0.2000589132282684, max_depth=5, min_child_weight=1, n_estimators=250, subsample=0.7283120259886944; total time=  16.2s\n",
      "[CV] END colsample_bytree=0.8783137597380328, gamma=0.11427501089864983, learning_rate=0.06248647812878086, max_depth=3, min_child_weight=4, n_estimators=109, subsample=0.7043316699321636; total time=   5.6s\n",
      "[CV] END colsample_bytree=0.7135683898949863, gamma=0.15268193017219672, learning_rate=0.15568412607586798, max_depth=5, min_child_weight=5, n_estimators=218, subsample=0.6703701010709381; total time=  13.3s\n",
      "[CV] END colsample_bytree=0.8675696238652398, gamma=0.43208378253595153, learning_rate=0.07905558047246658, max_depth=5, min_child_weight=4, n_estimators=84, subsample=0.9074216057225236; total time=   5.6s\n",
      "[CV] END colsample_bytree=0.606182646611547, gamma=0.4641592812938627, learning_rate=0.1384552444951943, max_depth=7, min_child_weight=3, n_estimators=237, subsample=0.941203782186944; total time=  17.9s\n",
      "[CV] END colsample_bytree=0.8170578538830306, gamma=0.1432706260641422, learning_rate=0.18724997817070324, max_depth=8, min_child_weight=1, n_estimators=229, subsample=0.6155338937717693; total time=  14.1s\n",
      "[CV] END colsample_bytree=0.6028265220878869, gamma=0.011531212520707879, learning_rate=0.16743239807751675, max_depth=9, min_child_weight=2, n_estimators=269, subsample=0.9895022075365837; total time=  24.8s\n",
      "[CV] END colsample_bytree=0.9844688097397396, gamma=0.4222669243390757, learning_rate=0.23419603304121425, max_depth=9, min_child_weight=5, n_estimators=73, subsample=0.7427013306774357; total time=   8.4s\n",
      "[CV] END colsample_bytree=0.7693605922825478, gamma=0.19744075908778486, learning_rate=0.09804645241541143, max_depth=9, min_child_weight=3, n_estimators=292, subsample=0.8827429375390468; total time=  28.6s\n",
      "[CV] END colsample_bytree=0.6443563283247326, gamma=0.21966825093288506, learning_rate=0.07051576070061885, max_depth=9, min_child_weight=1, n_estimators=101, subsample=0.8253102287905535; total time=  11.1s\n",
      "[CV] END colsample_bytree=0.6002081507981263, gamma=0.1762844281670845, learning_rate=0.1014343774474087, max_depth=8, min_child_weight=3, n_estimators=186, subsample=0.7939319885435933; total time=  17.0s\n",
      "[CV] END colsample_bytree=0.7471132530877013, gamma=0.31615291529678974, learning_rate=0.2000589132282684, max_depth=5, min_child_weight=1, n_estimators=250, subsample=0.7283120259886944; total time=  16.6s\n",
      "[CV] END colsample_bytree=0.8783137597380328, gamma=0.11427501089864983, learning_rate=0.06248647812878086, max_depth=3, min_child_weight=4, n_estimators=109, subsample=0.7043316699321636; total time=   5.7s\n",
      "[CV] END colsample_bytree=0.7135683898949863, gamma=0.15268193017219672, learning_rate=0.15568412607586798, max_depth=5, min_child_weight=5, n_estimators=218, subsample=0.6703701010709381; total time=  12.3s\n",
      "[CV] END colsample_bytree=0.8675696238652398, gamma=0.43208378253595153, learning_rate=0.07905558047246658, max_depth=5, min_child_weight=4, n_estimators=84, subsample=0.9074216057225236; total time=   5.8s\n",
      "[CV] END colsample_bytree=0.606182646611547, gamma=0.4641592812938627, learning_rate=0.1384552444951943, max_depth=7, min_child_weight=3, n_estimators=237, subsample=0.941203782186944; total time=  17.7s\n",
      "[CV] END colsample_bytree=0.8170578538830306, gamma=0.1432706260641422, learning_rate=0.18724997817070324, max_depth=8, min_child_weight=1, n_estimators=229, subsample=0.6155338937717693; total time=  14.1s\n",
      "[CV] END colsample_bytree=0.6399899663272012, gamma=0.22962444598293358, learning_rate=0.11011258334170654, max_depth=5, min_child_weight=6, n_estimators=102, subsample=0.9879639408647978; total time=   7.5s\n",
      "[CV] END colsample_bytree=0.6931085361721216, gamma=0.0453032172664104, learning_rate=0.1955158027999262, max_depth=6, min_child_weight=4, n_estimators=113, subsample=0.786705157299192; total time=   8.1s\n",
      "[CV] END colsample_bytree=0.9233589392465844, gamma=0.15230688458668534, learning_rate=0.03930163420191516, max_depth=6, min_child_weight=4, n_estimators=160, subsample=0.8733054075301833; total time=  10.9s\n",
      "[CV] END colsample_bytree=0.7123738038749523, gamma=0.27134804157912423, learning_rate=0.052277267492428794, max_depth=9, min_child_weight=5, n_estimators=114, subsample=0.6062545626964776; total time=  13.3s\n",
      "[CV] END colsample_bytree=0.9400154311159197, gamma=0.2247253370691017, learning_rate=0.038623034947123394, max_depth=9, min_child_weight=6, n_estimators=265, subsample=0.8663689426469987; total time=  26.9s\n",
      "[CV] END colsample_bytree=0.6307919639315172, gamma=0.144875726456884, learning_rate=0.058366386176201324, max_depth=4, min_child_weight=2, n_estimators=94, subsample=0.7182534743350856; total time=   5.5s\n",
      "[CV] END colsample_bytree=0.6002081507981263, gamma=0.1762844281670845, learning_rate=0.1014343774474087, max_depth=8, min_child_weight=3, n_estimators=186, subsample=0.7939319885435933; total time=  17.6s\n",
      "[CV] END colsample_bytree=0.7471132530877013, gamma=0.31615291529678974, learning_rate=0.2000589132282684, max_depth=5, min_child_weight=1, n_estimators=250, subsample=0.7283120259886944; total time=  16.4s\n",
      "[CV] END colsample_bytree=0.8783137597380328, gamma=0.11427501089864983, learning_rate=0.06248647812878086, max_depth=3, min_child_weight=4, n_estimators=109, subsample=0.7043316699321636; total time=   5.9s\n",
      "[CV] END colsample_bytree=0.7135683898949863, gamma=0.15268193017219672, learning_rate=0.15568412607586798, max_depth=5, min_child_weight=5, n_estimators=218, subsample=0.6703701010709381; total time=  12.6s\n",
      "[CV] END colsample_bytree=0.8675696238652398, gamma=0.43208378253595153, learning_rate=0.07905558047246658, max_depth=5, min_child_weight=4, n_estimators=84, subsample=0.9074216057225236; total time=   5.8s\n",
      "[CV] END colsample_bytree=0.606182646611547, gamma=0.4641592812938627, learning_rate=0.1384552444951943, max_depth=7, min_child_weight=3, n_estimators=237, subsample=0.941203782186944; total time=  17.9s\n",
      "[CV] END colsample_bytree=0.8170578538830306, gamma=0.1432706260641422, learning_rate=0.18724997817070324, max_depth=8, min_child_weight=1, n_estimators=229, subsample=0.6155338937717693; total time=  13.8s\n"
     ]
    }
   ],
   "source": [
    "# Hyperparameter tuning for XGBoost\n",
    "from sklearn.model_selection import RandomizedSearchCV\n",
    "from scipy.stats import uniform, randint\n",
    "\n",
    "# Define the parameter space\n",
    "xgb_param_dist = {\n",
    "    'n_estimators': randint(50, 300),\n",
    "    'max_depth': randint(3, 10),\n",
    "    'learning_rate': uniform(0.01, 0.3),\n",
    "    'subsample': uniform(0.6, 0.4),\n",
    "    'colsample_bytree': uniform(0.6, 0.4),\n",
    "    'min_child_weight': randint(1, 7),\n",
    "    'gamma': uniform(0, 0.5)\n",
    "}\n",
    "\n",
    "# Initialize XGBoost model for tuning\n",
    "xgb_model = xgb.XGBRegressor(random_state=42, tree_method='hist')\n",
    "\n",
    "# Initialize RandomizedSearchCV\n",
    "random_search = RandomizedSearchCV(\n",
    "    estimator=xgb_model,\n",
    "    param_distributions=xgb_param_dist,\n",
    "    n_iter=50,  # Number of parameter settings sampled\n",
    "    scoring='r2',\n",
    "    cv=3,\n",
    "    random_state=42,\n",
    "    n_jobs=-1,\n",
    "    verbose=2\n",
    ")\n",
    "\n",
    "print(\"\\nPerforming RandomizedSearchCV for XGBoost...\")\n",
    "random_search.fit(X_train, y_train)\n",
    "\n",
    "# Print best parameters and score\n",
    "print(\"\\nBest parameters found:\")\n",
    "print(random_search.best_params_)\n",
    "print(f\"\\nBest cross-validation R2 score: {random_search.best_score_:.4f}\")\n",
    "\n",
    "# Use best model for predictions\n",
    "best_xgb = random_search.best_estimator_"
   ]
  },
  {
   "cell_type": "markdown",
   "metadata": {},
   "source": [
    "\n",
    "Best cross-validation R2 score: 0.0490\n",
    "\n",
    "We can see that the max_depth is quite high (our random range was 3-10), and this suggest that the model is trying to capture complex patterns.\n",
    "\n",
    "However, given that our R2 score is still low, this indicates the model is overfitting to noise rather than finding meaningful patterns.\n",
    "\n",
    "Low learning rate means the model is avoiding overfitting.\n",
    "\n",
    "Low number of trees/n_estimators mean that the model could be reaching its maximum predictive power early.\n",
    "\n",
    "High subsample and colsample_bytree means that the model is using most of the data and features.\n",
    "\n",
    "The best cross-validation R2 score of 0.0490 is only marginally better than our original untuned XGBoost (0.041). It suggests that poor model performance is likely not due to suboptimate hyperparameters, and more likely the data issues.\n"
   ]
  },
  {
   "cell_type": "markdown",
   "metadata": {},
   "source": [
    "## Conclusion\n",
    "\n",
    "Perhaps one of the biggest problems in the notebook is the data quality. This has resulted in my inability to confidently recommend a model for production usage. However, I also recognize that the purpose of the assignment is not to build a production-ready model. Rather to explore the ethical dimensions of machine learning, and perhaps to explore how using synthetic data to model data for insurance predictions can be unethical. \n",
    "\n",
    "Regardless, in our notebook, we have seen additional discussion in how certain conditions in the machine learning pipeline can lead to AI ethical considerations, with some examples being missing and zero values, outliers, tree-based models vs linear models and low R2. \n",
    "\n",
    "In the context of insurance, synthetic data patterns that deviate from real-world insurance relations, leading to low model performance which could lead to unfair premium calcualtions, and poor model interpretability making it difficult to justify premium decisions.\n",
    "\n",
    "The best next step I can recommend for the insurance company, is to obtain real-world insurace data with proper documentation procedures, with robust data vaildation processes. Even if the model is able to learn the features of the model, the interpretability of the model is still important in insurance, where the customer or regulator can demand an explanation for the premium pricing anytime. Additionally, its important for the public documentation of how the predicted premium is used in AI-Augmented generated decision-making for further transparency.\n",
    "\n",
    "Given that the models trained here is unable to provide accurate predictions, sometimes, the most ethical decision is not to deploy and use any models. It's better this way, than to risk implementing a system that could perpetuate unfair practices, cause harm to customers, or confuse the insurance agents.\n",
    "\n"
   ]
  }
 ],
 "metadata": {
  "colab": {
   "authorship_tag": "ABX9TyNa6Q/rICgOoR8nhvjKbz1j",
   "provenance": []
  },
  "kernelspec": {
   "display_name": "salary",
   "language": "python",
   "name": "salary"
  },
  "language_info": {
   "codemirror_mode": {
    "name": "ipython",
    "version": 3
   },
   "file_extension": ".py",
   "mimetype": "text/x-python",
   "name": "python",
   "nbconvert_exporter": "python",
   "pygments_lexer": "ipython3",
   "version": "3.9.21"
  }
 },
 "nbformat": 4,
 "nbformat_minor": 4
}
