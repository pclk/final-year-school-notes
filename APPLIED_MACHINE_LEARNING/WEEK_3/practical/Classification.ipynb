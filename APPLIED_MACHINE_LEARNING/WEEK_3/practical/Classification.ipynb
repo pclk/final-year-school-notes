{
  "cells": [
    {
      "cell_type": "markdown",
      "metadata": {
        "jukit_cell_id": "GoECHxTKMt"
      },
      "source": [
        "<a href=\"https://colab.research.google.com/github/nyp-sit/sdaai-iti103/blob/master/session-4/classification_text.ipynb\" target=\"_parent\"><img src=\"https://colab.research.google.com/assets/colab-badge.svg\" alt=\"Open In Colab\"/></a>"
      ]
    },
    {
      "cell_type": "markdown",
      "metadata": {
        "jukit_cell_id": "LAI91FCIOs"
      },
      "source": [
        "# Classification\n",
        "\n",
        "We have worked with regression type of problem in the previous exercise. Let us now take a closer look at classification type of problem.  \n",
        "\n",
        "We will work with both binary classification and multi-class classification problems, and learn to compute different metrics to evaluate a classification model. "
      ]
    },
    {
      "cell_type": "markdown",
      "metadata": {
        "jukit_cell_id": "VCMg9WEsyA"
      },
      "source": [
        "## Binary Classification"
      ]
    },
    {
      "cell_type": "markdown",
      "metadata": {
        "jukit_cell_id": "Lw2XejVQXy"
      },
      "source": [
        "### Dataset\n",
        "\n",
        "We will be using an SMS spam/ham dataset and build a binary classification model to help us predict if a text message is a spam or not. \n",
        "\n",
        "Let's go head and load the data into a panda dataframe and look at the first few samples."
      ]
    },
    {
      "cell_type": "code",
      "metadata": {
        "jukit_cell_id": "UiEoHv5UkQ"
      },
      "source": [
        "import pandas as pd\n",
        "\n",
        "data_url = \"https://nyp-aicourse.s3-ap-southeast-1.amazonaws.com/datasets/smsspamcollection.tsv\"\n",
        "df = pd.read_csv(data_url, sep=\"\\t\")\n",
        "df.head()"
      ],
      "outputs": [
        {
          "output_type": "stream",
          "name": "stdout",
          "text": "\n"
        },
        {
          "output_type": "execute_result",
          "execution_count": 1,
          "data": {
            "text/plain": "  label  ... punct\n0   ham  ...     9\n1   ham  ...     6\n2  spam  ...     6\n3   ham  ...     6\n4   ham  ...     2\n\n[5 rows x 4 columns]"
          },
          "metadata": {}
        }
      ],
      "execution_count": 1
    },
    {
      "cell_type": "markdown",
      "metadata": {
        "jukit_cell_id": "JmaKwH7r7z"
      },
      "source": [
        "### Data Preparation"
      ]
    },
    {
      "cell_type": "markdown",
      "metadata": {
        "jukit_cell_id": "c0hWQuD3M9"
      },
      "source": [
        "Let's see what are the different labels we have. "
      ]
    },
    {
      "cell_type": "code",
      "metadata": {
        "jukit_cell_id": "H3AFzohu3u"
      },
      "source": [
        "df[\"label\"].unique()"
      ],
      "outputs": [
        {
          "output_type": "stream",
          "name": "stdout",
          "text": "\n"
        },
        {
          "output_type": "execute_result",
          "execution_count": 2,
          "data": {
            "text/plain": "array(['ham', 'spam'], dtype=object)"
          },
          "metadata": {}
        }
      ],
      "execution_count": 2
    },
    {
      "cell_type": "markdown",
      "metadata": {
        "jukit_cell_id": "LbWHaT6azr"
      },
      "source": [
        "You will notice that we have two different labels: 'ham' and 'spam', both a text string (dtype=object)\n",
        "\n",
        "As most of the evaluation metrics in scikit-learn assume (by default) positive label as 1 and negative label as 0, for convenience, we will first convert the label to 1 and 0. As our task is to detect spam, the positive label (label 1) in our case will be for spam.  \n",
        "\n",
        "Let's create a mapping to map the string label to its corresponding numeric label and use the pandas [map()](https://pandas.pydata.org/docs/reference/api/pandas.Series.map.html)  function to change the label to numeric label. "
      ]
    },
    {
      "cell_type": "code",
      "metadata": {
        "jukit_cell_id": "sl9vFVwVO7"
      },
      "source": [
        "labelmap = {\"ham\": 0, \"spam\": 1}\n",
        "\n",
        "df[\"label\"] = df[\"label\"].map(labelmap)"
      ],
      "outputs": [],
      "execution_count": null
    },
    {
      "cell_type": "code",
      "metadata": {
        "jukit_cell_id": "kRV0dbTlAQ"
      },
      "source": [
        "df.head()"
      ],
      "outputs": [
        {
          "output_type": "stream",
          "name": "stdout",
          "text": "\n"
        },
        {
          "output_type": "execute_result",
          "execution_count": 3,
          "data": {
            "text/plain": "   label  ... punct\n0      0  ...     9\n1      0  ...     6\n2      1  ...     6\n3      0  ...     6\n4      0  ...     2\n\n[5 rows x 4 columns]"
          },
          "metadata": {}
        }
      ],
      "execution_count": 3
    },
    {
      "cell_type": "markdown",
      "metadata": {
        "jukit_cell_id": "oXAlrA7elM"
      },
      "source": [
        "Always a good practice to check if there is any missing values, using ``isnull()`` method of dataframe."
      ]
    },
    {
      "cell_type": "code",
      "metadata": {
        "jukit_cell_id": "OC1GRWxd30"
      },
      "source": [
        "df.isnull().sum()"
      ],
      "outputs": [
        {
          "output_type": "stream",
          "name": "stdout",
          "text": "\n"
        },
        {
          "output_type": "execute_result",
          "execution_count": 4,
          "data": {
            "text/plain": "label      0\nmessage    0\nlength     0\npunct      0\ndtype: int64"
          },
          "metadata": {}
        }
      ],
      "execution_count": 4
    },
    {
      "cell_type": "markdown",
      "metadata": {
        "jukit_cell_id": "DCTnqrSkhQ"
      },
      "source": [
        "Let's get a sense of the distribution of positive and negative cases to see if we are dealing with imbalanced dataset."
      ]
    },
    {
      "cell_type": "code",
      "metadata": {
        "jukit_cell_id": "cHrgekpkv5"
      },
      "source": [
        "df[\"label\"].value_counts()"
      ],
      "outputs": [
        {
          "output_type": "stream",
          "name": "stdout",
          "text": "\n"
        },
        {
          "output_type": "execute_result",
          "execution_count": 5,
          "data": {
            "text/plain": "label\n0    4825\n1     747\nName: count, dtype: int64"
          },
          "metadata": {}
        }
      ],
      "execution_count": 5
    },
    {
      "cell_type": "markdown",
      "metadata": {
        "jukit_cell_id": "PsPNWLuDZu"
      },
      "source": [
        "You will see that we have a lot more 'ham' messages than 'spam' messages: 4825 out of 5572 messages, or 86.6%, are ham. This means that any text classification model we create has to perform **better than 86.6%** to beat random chance. "
      ]
    },
    {
      "cell_type": "markdown",
      "metadata": {
        "jukit_cell_id": "D6FjBmdXtQ"
      },
      "source": [
        "### Split data into train and test set\n",
        "\n",
        "We will have to first decide what we want to use as features. For this lab, let us just start simply, only use the text message and ignore others like punctuation and message length. \n",
        "\n",
        "We then split the data randomly into 80-20 split of train and test set."
      ]
    },
    {
      "cell_type": "code",
      "metadata": {
        "jukit_cell_id": "1P0TJiTOWg"
      },
      "source": [
        "from scipy.sparse import random\n",
        "from sklearn.model_selection import train_test_split\n",
        "\n",
        "X = df[\"message\"]  # this time we want to look at the text\n",
        "y = df[\"label\"].to_numpy()\n",
        "\n",
        "X_train, X_test, y_train, y_test = train_test_split(\n",
        "    X, y, test_size=0.2, random_state=42\n",
        ")"
      ],
      "outputs": [],
      "execution_count": null
    },
    {
      "cell_type": "markdown",
      "metadata": {
        "jukit_cell_id": "lyHlkjrR8Z"
      },
      "source": [
        "### Text Pre-processing \n",
        "\n",
        "We cannot use text string directly as our input features for training our model. It has to be converted into numeric features first. There are many ways to do this, from simple bag-of-words approach to more sophisticated dense embedding using modern neural model. \n",
        "\n",
        "In this example, we will use the TF-IDF to represent our string as numeric vector. Text usually has to be pre-processed first, for example removal of punctuation marks, stop words, lower-casing, etc, before convert to numeric vector. Scikit-learn's [TFIDFVectorizer](https://scikit-learn.org/stable/modules/generated/sklearn.feature_extraction.text.TfidfVectorizer.html) class conveniently do all these for us, transforming our collection of text into document matrix.\n",
        "\n",
        "By default TfidfVectorizer will lowercase the text and remove punctuation. We have also removed the English stop_words such as 'the', 'is', etc. and also specify that only words that occurs 2 times or more should be included as part of the vocabulary (min_df=2). By keeping our vocubalary small, we are keeping our number of features small. "
      ]
    },
    {
      "cell_type": "code",
      "metadata": {
        "jukit_cell_id": "QngLwK6y8R"
      },
      "source": [
        "from sklearn.feature_extraction.text import TfidfVectorizer\n",
        "\n",
        "tfidf_vect = TfidfVectorizer(stop_words=\"english\", min_df=2)\n",
        "\n",
        "# We will first fit the vectorizer to the training text,\n",
        "# and transform the training text into dcoument matrix\n",
        "X_train_vect = tfidf_vect.fit_transform(X_train)\n",
        "print(X_train_vect.shape)"
      ],
      "outputs": [
        {
          "output_type": "stream",
          "name": "stdout",
          "text": "(4457, 3399)\n"
        }
      ],
      "execution_count": 6
    },
    {
      "cell_type": "markdown",
      "metadata": {
        "jukit_cell_id": "3iWUaj5JTD"
      },
      "source": [
        "You can print out the vocabulary learnt by the TfidfVectorizer by accessing the instance variable `vocabulary_`. Notice that the vocbulary size is the feature size of your vectorized X_train. "
      ]
    },
    {
      "cell_type": "code",
      "metadata": {
        "jukit_cell_id": "WXo7UFeNwj"
      },
      "source": [
        "## printout a subset of vocabulary\n",
        "print(\"Vocabulary size : \", len(tfidf_vect.vocabulary_))\n",
        "print(\"Some words in the vocab : \\n\", list(tfidf_vect.vocabulary_.items())[:5])"
      ],
      "outputs": [
        {
          "output_type": "stream",
          "name": "stdout",
          "text": "Vocabulary size :  3399\nSome words in the vocab : \n [('reply', 2485), ('win', 3292), ('100', 85), ('weekly', 3265), ('world', 3335)]\n"
        }
      ],
      "execution_count": 7
    },
    {
      "cell_type": "markdown",
      "metadata": {
        "jukit_cell_id": "KcJREBocj6"
      },
      "source": [
        "We will need to transform our X_test as well. We will use the TfidfVectorizer already fitted on train data to transform. There maybe a chance that certain words in the test set are not found in the vocabulary derived from the train set. In this case, the TfidfVectorizer will just ignore the unknown words."
      ]
    },
    {
      "cell_type": "code",
      "metadata": {
        "jukit_cell_id": "wbyiWz5jg9"
      },
      "source": [
        "X_test_vect = tfidf_vect.transform(X_test)"
      ],
      "outputs": [],
      "execution_count": null
    },
    {
      "cell_type": "markdown",
      "metadata": {
        "jukit_cell_id": "EkmqbshqIX"
      },
      "source": [
        "Now we have gotten our features. Let's go ahead and train our model! "
      ]
    },
    {
      "cell_type": "markdown",
      "metadata": {
        "jukit_cell_id": "2GRRN6Pjxf"
      },
      "source": [
        "## Train a classifier \n",
        "\n",
        "We will now train a binary classifier capable of distinguishing between ham and spam. \n",
        "\n",
        "* Use Logistic Regression and train it on the whole training set. (use liblinear as solver and 42 as random_state)\n",
        "* Use the trained classifier to predict the test set \n",
        "* Calculate the accuracy score "
      ]
    },
    {
      "cell_type": "code",
      "metadata": {
        "jukit_cell_id": "lmxHYJAu5u"
      },
      "source": [
        "# import the logistic regressor\n",
        "\n",
        "from sklearn.linear_model import LogisticRegression\n",
        "\n",
        "lr_clf = LogisticRegression(solver=\"liblinear\", random_state=42)\n",
        "lr_clf.fit(X_train_vect, y_train)\n",
        "y_pred = lr_clf.predict(X_test_vect)"
      ],
      "outputs": [],
      "execution_count": null
    },
    {
      "cell_type": "code",
      "metadata": {
        "jukit_cell_id": "ImOcAFgGUe"
      },
      "source": [
        "from sklearn.metrics import accuracy_score\n",
        "\n",
        "print(accuracy_score(y_test, y_pred))"
      ],
      "outputs": [
        {
          "output_type": "stream",
          "name": "stdout",
          "text": "0.9766816143497757\n"
        }
      ],
      "execution_count": 8
    },
    {
      "cell_type": "code",
      "metadata": {
        "jukit_cell_id": "EvzRqQ6dya"
      },
      "source": [
        "from sklearn.svm import LinearSVC\n",
        "\n",
        "svc = LinearSVC(random_state=42)\n",
        "svc.fit(X_train_vect, y_train)\n",
        "y_pred = svc.predict(X_test_vect)\n",
        "print(accuracy_score(y_test, y_pred))"
      ],
      "outputs": [
        {
          "output_type": "stream",
          "name": "stdout",
          "text": "0.9883408071748879\n"
        }
      ],
      "execution_count": 9
    },
    {
      "cell_type": "markdown",
      "metadata": {
        "jukit_cell_id": "UihQZ6K41Q"
      },
      "source": [
        "Our accuracy on the chosen test set seems quite decent. But how do we know if it is because we are lucky to pick a 'easy' test set. Since our test set is pretty small, it may not be an accurate reflection of the accuracy of our model. A better way is to use cross-validation."
      ]
    },
    {
      "cell_type": "markdown",
      "metadata": {
        "jukit_cell_id": "XKO8KOCrM0"
      },
      "source": [
        "### Measuring Accuracy using Cross-Validation"
      ]
    },
    {
      "cell_type": "markdown",
      "metadata": {
        "jukit_cell_id": "DZ1UtZVFog"
      },
      "source": [
        "Evaluate the **accuracy** of the model using cross-validation on the **train** data set with the `cross_val_score()` function, with 5 folds. \n",
        "\n",
        "**Exercise 1:**\n",
        "\n",
        "What do you observe? What is the average validation accuracy?\n",
        "\n",
        "<details><summary>Click here for answer</summary>\n",
        "\n",
        "```python\n",
        "    \n",
        "val_accuracies = cross_val_score(lr_clf, X_train_vect, y_train, cv=5, scoring=\"accuracy\")\n",
        "print(val_accuracies)\n",
        "print(np.mean(val_accuracies))\n",
        "    \n",
        "```\n",
        "</details>"
      ]
    },
    {
      "cell_type": "code",
      "metadata": {
        "jukit_cell_id": "Coc7yP3UNB"
      },
      "source": [
        "from sklearn.model_selection import cross_val_score\n",
        "import numpy as np\n",
        "\n",
        "# Complete your code here\n",
        "val_accuracies = cross_val_score(\n",
        "    lr_clf, X_train_vect, y_train, cv=5, scoring=\"accuracy\"\n",
        ")\n",
        "print(val_accuracies)\n",
        "print(np.mean(val_accuracies))"
      ],
      "outputs": [
        {
          "output_type": "stream",
          "name": "stdout",
          "text": "[0.95627803 0.9529148  0.95173962 0.95959596 0.94725028]\n0.9535557367395932\n"
        }
      ],
      "execution_count": 10
    },
    {
      "cell_type": "markdown",
      "metadata": {
        "jukit_cell_id": "359cXs0H4v"
      },
      "source": [
        "### Confusion Matrix\n",
        "\n",
        "\n",
        "A much better way to understand how a trained classifier perform is to look at the confusion matrix. We will do the following: \n",
        "*   Generate a set of predictions using `cross_val_predict()` on the train data set\n",
        "*   Compute the confusion matrix using the `confusion_matrix()` function.  Use ConfusionMatrixDisplay to plot the confusion matrix graphically."
      ]
    },
    {
      "cell_type": "code",
      "metadata": {
        "jukit_cell_id": "Crdnmye1EO"
      },
      "source": [
        "from sklearn.model_selection import cross_val_predict\n",
        "\n",
        "y_train_pred = cross_val_predict(lr_clf, X_train_vect, y_train, cv=5)"
      ],
      "outputs": [],
      "execution_count": null
    },
    {
      "cell_type": "code",
      "metadata": {
        "jukit_cell_id": "wJeV97gONf"
      },
      "source": [
        "from sklearn.metrics import confusion_matrix, ConfusionMatrixDisplay\n",
        "\n",
        "cm = confusion_matrix(y_train, y_train_pred)\n",
        "disp = ConfusionMatrixDisplay(cm, display_labels=lr_clf.classes_)\n",
        "disp.plot()"
      ],
      "outputs": [
        {
          "output_type": "stream",
          "name": "stdout",
          "text": "\n"
        },
        {
          "data": {
            "image/png": "[encoded data removed]"
          },
          "metadata": {},
          "output_type": "display_data"
        },
        {
          "output_type": "stream",
          "name": "stdout",
          "text": "\n"
        },
        {
          "output_type": "execute_result",
          "execution_count": 11,
          "data": {
            "text/plain": "<sklearn.metrics._plot.confusion_matrix.ConfusionMatrixDisplay at 0x160c43740>"
          },
          "metadata": {}
        }
      ],
      "execution_count": 11
    },
    {
      "cell_type": "markdown",
      "metadata": {
        "jukit_cell_id": "1VhCaaK2cK"
      },
      "source": [
        "**Exercise 2:**\n",
        "\n",
        "What can you tell from the confusion matrix? What kind of errors does the model more frequently make? \n",
        "<br/>\n",
        "<details><summary>Click here for answer</summary>\n",
        "It predicts 400 spam messages correctly but got 198 wrong, represents only 66.8% recall rate for 'spam' class. It did however, better at predicting ham messages, which is not suprising, given we have a lot more ham messages in our training set.\n",
        "\n",
        "<p><br/>\n",
        "Important lesson here: Just looking at accuracy alone will not give you a full picture of the performance of your model. \n",
        "    \n",
        "</details>"
      ]
    },
    {
      "cell_type": "markdown",
      "metadata": {
        "jukit_cell_id": "tS0Q8MVBQP"
      },
      "source": [
        "### Precision and Recall\n",
        "\n",
        "**Exercise 3:**\n",
        "\n",
        "From the confusion matrix above, compute the precision, recall and F1 score **manually** using the following formula:\n",
        "\n",
        "- `recall = TP/(TP+FN)`\n",
        "- `precision = TP/(TP+FP)`\n",
        "- `F1 = 2*precision*recall/(precision + recall)`\n",
        "\n",
        "<details><summary>Click here for answer</summary>\n",
        "    \n",
        "By convention, we use label 1 as positive case and label 0 as negative case. \n",
        "    \n",
        "From the confusion matrix, we can obtain the following: \n",
        "- TP = 400\n",
        "- FN = 198\n",
        "- FP = 9\n",
        "- TN = 3850\n",
        "\n",
        "Now we can calculate recall, precision, and f1 easily: \n",
        "\n",
        "- recall = TP/(TP+FN) = 400/(400+198) = 0.67\n",
        "- precision = TP/(TP+FP) = 400/(400+9) = 0.98\n",
        "- f1 = 2\\*precision\\*recall/(precision+recall) = 0.8\n",
        "\n",
        "</details>"
      ]
    },
    {
      "cell_type": "markdown",
      "metadata": {
        "jukit_cell_id": "gF7WZqYPYY"
      },
      "source": [
        "Now we use the scikit learn's metric function to compute recall, precision and f1_score and compare the values with those manually computed: \n",
        "- recall_score()\n",
        "- precision_score()\n",
        "- f1_score()\n",
        "\n",
        "Are they the same as your calculation? "
      ]
    },
    {
      "cell_type": "code",
      "metadata": {
        "jukit_cell_id": "hTLM5pehtj"
      },
      "source": [
        "from sklearn.metrics import recall_score, precision_score, f1_score\n",
        "\n",
        "print(recall_score(y_train, y_train_pred))\n",
        "print(precision_score(y_train, y_train_pred))\n",
        "print(f1_score(y_train, y_train_pred))"
      ],
      "outputs": [
        {
          "output_type": "stream",
          "name": "stdout",
          "text": "0.6688963210702341\n0.9779951100244498\n0.7944389275074478\n"
        }
      ],
      "execution_count": 12
    },
    {
      "cell_type": "markdown",
      "metadata": {
        "jukit_cell_id": "au3rSVU2hG"
      },
      "source": [
        "The is a another useful function called `classification_report()` in scikit-learn that gives all the metrics in one glance. Note that the ``classification_report()`` provides the precision/recall/f1-score values for each of the class. \n",
        "\n",
        "Note that we have different precison and recall scores for each class (0 and 1). "
      ]
    },
    {
      "cell_type": "code",
      "metadata": {
        "jukit_cell_id": "38u7UBwJTQ"
      },
      "source": [
        "from sklearn.metrics import classification_report\n",
        "\n",
        "print(classification_report(y_train, y_train_pred))"
      ],
      "outputs": [
        {
          "output_type": "stream",
          "name": "stdout",
          "text": "              precision    recall  f1-score   support\n\n           0       0.95      1.00      0.97      3859\n           1       0.98      0.67      0.79       598\n\n    accuracy                           0.95      4457\n   macro avg       0.96      0.83      0.88      4457\nweighted avg       0.95      0.95      0.95      4457\n\n"
        }
      ],
      "execution_count": 13
    },
    {
      "cell_type": "markdown",
      "metadata": {
        "jukit_cell_id": "DT0vXQBQi0"
      },
      "source": [
        "Also note that we have different averages for precision, recall and f1 : macro average and weighted average in the classication_report. What is the difference between the two ? You can refer to this [link](https://scikit-learn.org/stable/modules/model_evaluation.html#classification-report) for info.  Manually calculate the macro and weighted average to check your understanding. "
      ]
    },
    {
      "cell_type": "markdown",
      "metadata": {
        "jukit_cell_id": "SA0MZAijKF"
      },
      "source": [
        "### Precision and Recall tradeoff\n",
        "\n",
        "The confusion matrix and the classification report provide a very detailed analysis of\n",
        "a particular set of predictions. However, the predictions themselves already threw\n",
        "away a lot of information that is contained in the model. \n",
        "\n",
        "Most classifiers provide a `decision_function()` or a `predict_proba()` method to\n",
        "assess degrees of certainty about predictions. Making predictions can be seen as\n",
        "thresholding the output of decision_function or predict_proba at a certain fixed\n",
        "point\u2014 in binary classification we use 0 for the decision function and 0.5 for\n",
        "predict_proba.\n",
        "\n",
        "In logistic regression, we can use the `decision_function()` method to compute the scores.   "
      ]
    },
    {
      "cell_type": "markdown",
      "metadata": {
        "jukit_cell_id": "b8thdnMUpP"
      },
      "source": [
        "First let's find a positive sample (using ``np.where`` to find all samples where y label == 1, and uses the first result as sample) and examine the decision score."
      ]
    },
    {
      "cell_type": "code",
      "metadata": {
        "jukit_cell_id": "3DIo8kyIX3"
      },
      "source": [
        "idx = np.where(y_train == 1)[0][0]\n",
        "print(idx)"
      ],
      "outputs": [
        {
          "output_type": "stream",
          "name": "stdout",
          "text": "0\n"
        }
      ],
      "execution_count": 14
    },
    {
      "cell_type": "code",
      "metadata": {
        "jukit_cell_id": "Xjly43c0V2"
      },
      "source": [
        "sample_X = X_train_vect[idx]\n",
        "sample_y = y_train[idx]\n",
        "\n",
        "y_score = lr_clf.decision_function(sample_X)\n",
        "print(y_score)"
      ],
      "outputs": [
        {
          "output_type": "stream",
          "name": "stdout",
          "text": "[1.39979965]\n"
        }
      ],
      "execution_count": 15
    },
    {
      "cell_type": "markdown",
      "metadata": {
        "jukit_cell_id": "QugQx7n0e2"
      },
      "source": [
        "With threshold = 0, the prediction (of positive case, i.e. 1) is correct."
      ]
    },
    {
      "cell_type": "code",
      "metadata": {
        "jukit_cell_id": "dDVEhbDCpn"
      },
      "source": [
        "threshold = 0\n",
        "y_some_X_pred = y_score > threshold\n",
        "print(y_some_X_pred == sample_y)"
      ],
      "outputs": [
        {
          "output_type": "stream",
          "name": "stdout",
          "text": "[ True]\n"
        }
      ],
      "execution_count": 16
    },
    {
      "cell_type": "markdown",
      "metadata": {
        "jukit_cell_id": "kLRiECLTJM"
      },
      "source": [
        "With threshold set at 6, prediction (of positive case, i.e. 1) is wrong. In other words, we failed to detect positive cases (lower recall)"
      ]
    },
    {
      "cell_type": "code",
      "metadata": {
        "jukit_cell_id": "UyXWK9uyjM"
      },
      "source": [
        "threshold = 6\n",
        "y_some_data_pred = y_score > threshold\n",
        "print(y_some_data_pred == sample_y)"
      ],
      "outputs": [
        {
          "output_type": "stream",
          "name": "stdout",
          "text": "[False]\n"
        }
      ],
      "execution_count": 17
    },
    {
      "cell_type": "markdown",
      "metadata": {
        "jukit_cell_id": "CoyOOz2SGE"
      },
      "source": [
        "With a higher threshold, it decreases the recall and increases the precision. Conversely, with a lower threshold, we increases recall at the expense of decrease in precision. To decide which threshold to use, get the scores of all instances in the training set using the `cross_val_predict()` function to return decision scores instead of predictions.\n",
        "\n",
        "Perform cross validation to get the scores for all instances."
      ]
    },
    {
      "cell_type": "code",
      "metadata": {
        "jukit_cell_id": "Sv7weiRLsT"
      },
      "source": [
        "y_scores = cross_val_predict(\n",
        "    lr_clf, X_train_vect, y_train, cv=5, method=\"decision_function\"\n",
        ")"
      ],
      "outputs": [],
      "execution_count": null
    },
    {
      "cell_type": "markdown",
      "metadata": {
        "jukit_cell_id": "qkdb7IhLbm"
      },
      "source": [
        "Compute precision and recall for all possible thresholds using the precision_recall_curve function."
      ]
    },
    {
      "cell_type": "code",
      "metadata": {
        "jukit_cell_id": "MEHmw5VyeH"
      },
      "source": [
        "from sklearn.metrics import precision_recall_curve\n",
        "import matplotlib.pyplot as plt\n",
        "\n",
        "precisions, recalls, thresholds = precision_recall_curve(y_train, y_scores)"
      ],
      "outputs": [],
      "execution_count": null
    },
    {
      "cell_type": "code",
      "metadata": {
        "jukit_cell_id": "Wo35RkB3bg"
      },
      "source": [
        "def plot_precision_recall_vs_threshold(precisions, recalls, thresholds):\n",
        "    plt.plot(thresholds, precisions[:-1], \"b--\", label=\"Precision\", linewidth=2)\n",
        "    plt.plot(thresholds, recalls[:-1], \"g-\", label=\"Recall\", linewidth=2)\n",
        "    plt.legend(loc=\"center right\", fontsize=16)\n",
        "    plt.xlabel(\"Threshold\", fontsize=16)\n",
        "    plt.grid(True)\n",
        "\n",
        "\n",
        "plt.figure(figsize=(8, 4))\n",
        "plot_precision_recall_vs_threshold(precisions, recalls, thresholds)\n",
        "\n",
        "plt.show()"
      ],
      "outputs": [
        {
          "data": {
            "image/png": "[encoded data removed]"
          },
          "metadata": {},
          "output_type": "display_data"
        },
        {
          "output_type": "stream",
          "name": "stdout",
          "text": "\n"
        }
      ],
      "execution_count": 18
    },
    {
      "cell_type": "markdown",
      "metadata": {
        "jukit_cell_id": "PylXdNC9JK"
      },
      "source": [
        "Another way to select a good precision/recall trade-off is to plot precision directly against recall."
      ]
    },
    {
      "cell_type": "code",
      "metadata": {
        "jukit_cell_id": "GC3mjvRgvi"
      },
      "source": [
        "def plot_precision_vs_recall(precisions, recalls):\n",
        "    plt.plot(recalls, precisions, \"b-\", linewidth=2)\n",
        "    plt.xlabel(\"Recall\", fontsize=16)\n",
        "    plt.ylabel(\"Precision\", fontsize=16)\n",
        "    plt.grid(True)\n",
        "\n",
        "\n",
        "plt.figure(figsize=(8, 4))\n",
        "plot_precision_vs_recall(precisions, recalls)\n",
        "\n",
        "plt.show()"
      ],
      "outputs": [
        {
          "data": {
            "image/png": "[encoded data removed]"
          },
          "metadata": {},
          "output_type": "display_data"
        },
        {
          "output_type": "stream",
          "name": "stdout",
          "text": "\n"
        }
      ],
      "execution_count": 19
    },
    {
      "cell_type": "markdown",
      "metadata": {
        "jukit_cell_id": "xchTIiqKvf"
      },
      "source": [
        "We want to aim for 80% or better recall, compute the threshold value."
      ]
    },
    {
      "cell_type": "code",
      "metadata": {
        "jukit_cell_id": "1YD8JITKno"
      },
      "source": [
        "threshold_80_recall = thresholds[np.argmin(recalls >= 0.8)]\n",
        "threshold_80_recall"
      ],
      "outputs": [
        {
          "output_type": "stream",
          "name": "stdout",
          "text": "\n"
        },
        {
          "output_type": "execute_result",
          "execution_count": 20,
          "data": {
            "text/plain": "np.float64(-0.5648355834355416)"
          },
          "metadata": {}
        }
      ],
      "execution_count": 20
    },
    {
      "cell_type": "code",
      "metadata": {
        "jukit_cell_id": "Vo4HFatacn"
      },
      "source": [
        "y_train_pred_80 = y_scores >= threshold_80_recall"
      ],
      "outputs": [],
      "execution_count": null
    },
    {
      "cell_type": "markdown",
      "metadata": {
        "jukit_cell_id": "akEXXjl2t1"
      },
      "source": [
        "Compute the precision and recall score"
      ]
    },
    {
      "cell_type": "code",
      "metadata": {
        "jukit_cell_id": "sTeQZ368Qv"
      },
      "source": [
        "precision_score(y_train, y_train_pred_80)"
      ],
      "outputs": [
        {
          "output_type": "stream",
          "name": "stdout",
          "text": "\n"
        },
        {
          "output_type": "execute_result",
          "execution_count": 21,
          "data": {
            "text/plain": "np.float64(0.9715447154471545)"
          },
          "metadata": {}
        }
      ],
      "execution_count": 21
    },
    {
      "cell_type": "code",
      "metadata": {
        "jukit_cell_id": "qTae2jPOUY"
      },
      "source": [
        "recall_score(y_train, y_train_pred_80)"
      ],
      "outputs": [
        {
          "output_type": "stream",
          "name": "stdout",
          "text": "\n"
        },
        {
          "output_type": "execute_result",
          "execution_count": 22,
          "data": {
            "text/plain": "np.float64(0.7993311036789298)"
          },
          "metadata": {}
        }
      ],
      "execution_count": 22
    },
    {
      "cell_type": "code",
      "metadata": {
        "jukit_cell_id": "nOiZ4HTpCX"
      },
      "source": [
        "print(classification_report(y_train, y_train_pred_80))"
      ],
      "outputs": [
        {
          "output_type": "stream",
          "name": "stdout",
          "text": "              precision    recall  f1-score   support\n\n           0       0.97      1.00      0.98      3859\n           1       0.97      0.80      0.88       598\n\n    accuracy                           0.97      4457\n   macro avg       0.97      0.90      0.93      4457\nweighted avg       0.97      0.97      0.97      4457\n\n"
        }
      ],
      "execution_count": 23
    },
    {
      "cell_type": "markdown",
      "metadata": {
        "jukit_cell_id": "I4iR6uLjLA"
      },
      "source": [
        "### ROC Curves"
      ]
    },
    {
      "cell_type": "markdown",
      "metadata": {
        "jukit_cell_id": "YAISBM5RUz"
      },
      "source": [
        "The receiver operation characteristic (ROC) curve is another common tool used with binary classifiers.  It is similar to the precision/recall curve, but it plots the true positive rate (recall) against the false positive rate.  "
      ]
    },
    {
      "cell_type": "code",
      "metadata": {
        "jukit_cell_id": "Zif35yNBIF"
      },
      "source": [
        "from sklearn.metrics import roc_curve\n",
        "\n",
        "fpr, tpr, thresholds = roc_curve(y_train, y_scores)"
      ],
      "outputs": [],
      "execution_count": null
    },
    {
      "cell_type": "code",
      "metadata": {
        "jukit_cell_id": "d9c9A7irVO"
      },
      "source": [
        "def plot_roc_curve(fpr, tpr, label=None):\n",
        "    plt.plot(fpr, tpr, linewidth=2, label=label)\n",
        "    plt.plot([0, 1], [0, 1], \"k--\")  # dashed diagonal\n",
        "    plt.axis([0, 1, 0, 1])\n",
        "    plt.xlabel(\"False Positive Rate (Fall-Out)\", fontsize=16)\n",
        "    plt.ylabel(\"True Positive Rate (Recall)\", fontsize=16)\n",
        "    plt.grid(True)\n",
        "\n",
        "\n",
        "plt.figure(figsize=(8, 6))\n",
        "plot_roc_curve(fpr, tpr)\n",
        "plt.show()"
      ],
      "outputs": [
        {
          "data": {
            "image/png": "[encoded data removed]"
          },
          "metadata": {},
          "output_type": "display_data"
        },
        {
          "output_type": "stream",
          "name": "stdout",
          "text": "\n"
        }
      ],
      "execution_count": 24
    },
    {
      "cell_type": "markdown",
      "metadata": {
        "jukit_cell_id": "X1WVpRJyvy"
      },
      "source": [
        "The higher the recall (TPR), the more false positives (FPR) the classifier produces.  The dotted line represents the ROC curve of a purely random classifier, a good classfier stays as far away from the line as possible.\n",
        "\n",
        "Let's Compute the area under the curve (AUC) using `roc_auc_score()`"
      ]
    },
    {
      "cell_type": "code",
      "metadata": {
        "jukit_cell_id": "uDI40OuTys"
      },
      "source": [
        "from sklearn.metrics import roc_auc_score\n",
        "\n",
        "roc_auc_score(y_train, y_scores)"
      ],
      "outputs": [
        {
          "output_type": "stream",
          "name": "stdout",
          "text": "\n"
        },
        {
          "output_type": "execute_result",
          "execution_count": 25,
          "data": {
            "text/plain": "np.float64(0.9914609118587396)"
          },
          "metadata": {}
        }
      ],
      "execution_count": 25
    },
    {
      "cell_type": "markdown",
      "metadata": {
        "jukit_cell_id": "274GzlFuQP"
      },
      "source": [
        "**Exercise 4:**\n",
        "\n",
        "We are finally done with our binary classification...Wait a minute! Did we just computed all the evaluation metrics on ***training set*** ??!!  Isn't it bad practice to do so.. Don't we need to use ***test set*** to evaluate how good is our model?\n",
        "\n",
        "Why?\n",
        "\n",
        "<details><summary>Click here for answer</summary>\n",
        "\n",
        "We only evaluate our model after we are satisfied with performance of it on our validation set. We will do our model fine-tuning on the validation set and not test set. In our case, since our training set is pretty small, if we are to set aside a validation set, then our training set would be too small. That is why we use ``cross_validation`` to evaluate our model\n",
        "    \n",
        "</details>"
      ]
    },
    {
      "cell_type": "code",
      "metadata": {
        "jukit_cell_id": "cxmfhJb4pJ"
      },
      "source": [
        "lr_clf.fit(X_train_vect, y_train)"
      ],
      "outputs": [
        {
          "output_type": "stream",
          "name": "stdout",
          "text": "\n"
        },
        {
          "output_type": "execute_result",
          "execution_count": 26,
          "data": {
            "text/plain": "LogisticRegression(random_state=42, solver='liblinear')"
          },
          "metadata": {}
        }
      ],
      "execution_count": 26
    },
    {
      "cell_type": "code",
      "metadata": {
        "jukit_cell_id": "VdvN8TuzbY"
      },
      "source": [
        "lr_clf.score(X_test_vect, y_test)"
      ],
      "outputs": [
        {
          "output_type": "stream",
          "name": "stdout",
          "text": "\n"
        },
        {
          "output_type": "execute_result",
          "execution_count": 27,
          "data": {
            "text/plain": "0.9766816143497757"
          },
          "metadata": {}
        }
      ],
      "execution_count": 27
    },
    {
      "cell_type": "markdown",
      "metadata": {
        "jukit_cell_id": "M0AYIB4qi0"
      },
      "source": [
        "## Multiclass classification\n",
        "\n",
        "We will now look at multi-class classification. The dataset we are going to use is the UCI ML hand-written digits datasets https://archive.ics.uci.edu/ml/datasets/Optical+Recognition+of+Handwritten+Digits\n",
        "\n",
        "The data set contains images of hand-written digits: 10 classes where each class refers to a digit. Each digit is a 8x8 image.  "
      ]
    },
    {
      "cell_type": "code",
      "metadata": {
        "jukit_cell_id": "XnfaDJ3JVT"
      },
      "source": [
        "from sklearn.datasets import load_digits\n",
        "\n",
        "digits = load_digits()\n",
        "\n",
        "print(digits.keys())"
      ],
      "outputs": [
        {
          "output_type": "stream",
          "name": "stdout",
          "text": "dict_keys(['data', 'target', 'frame', 'feature_names', 'target_names', 'images', 'DESCR'])\n"
        }
      ],
      "execution_count": 28
    },
    {
      "cell_type": "markdown",
      "metadata": {
        "jukit_cell_id": "wuV8ErYzPj"
      },
      "source": [
        "**Exercise 5:**\n",
        "\n",
        "Now create the X (the features) and y (the label) from the digits dataset.  X is a np.array of 64 pixel values, while y is the label e.g. 0, 1, 2, 3, .. 9.\n",
        "\n",
        "<details><summary>Click here for answer</summary>\n",
        "    \n",
        "```python\n",
        "    \n",
        "X = digits['data']\n",
        "y = digits['target']\n",
        "\n",
        "```\n",
        "</details>"
      ]
    },
    {
      "cell_type": "code",
      "metadata": {
        "jukit_cell_id": "pdNJLeWAZU"
      },
      "source": [
        "# Complete your code here\n",
        "\n",
        "X = digits[\"data\"]\n",
        "y = digits[\"target\"]"
      ],
      "outputs": [],
      "execution_count": null
    },
    {
      "cell_type": "markdown",
      "metadata": {
        "jukit_cell_id": "xyF31N4fwX"
      },
      "source": [
        "Let's plot the image of a particular digit to visualize it.  Before plotting, we need to reshape the 64 numbers into 8 x 8 image arrays so that it can be plotted."
      ]
    },
    {
      "cell_type": "code",
      "metadata": {
        "jukit_cell_id": "cqW7Yh9XMe"
      },
      "source": [
        "import matplotlib as mpl\n",
        "\n",
        "\n",
        "# let's choose any one of the row and plot it\n",
        "some_digit = X[100]\n",
        "\n",
        "# print out the corresponding label\n",
        "print(\"digit is {}\".format(y[100]))\n",
        "\n",
        "# reshape it to 8 x 8 image\n",
        "some_digit_image = some_digit.reshape(8, 8)\n",
        "\n",
        "plt.imshow(some_digit_image, cmap=mpl.cm.binary, interpolation=\"nearest\")\n",
        "plt.axis(\"off\")\n",
        "plt.show()"
      ],
      "outputs": [
        {
          "output_type": "stream",
          "name": "stdout",
          "text": "digit is 4\n"
        },
        {
          "data": {
            "image/png": "[encoded data removed]"
          },
          "metadata": {},
          "output_type": "display_data"
        },
        {
          "output_type": "stream",
          "name": "stdout",
          "text": "\n"
        }
      ],
      "execution_count": 29
    },
    {
      "cell_type": "markdown",
      "metadata": {
        "jukit_cell_id": "5mu5dCbDuo"
      },
      "source": [
        "**Exercise 6**\n",
        "\n",
        "Split the data into train and test set, and randomly shuffle the data.\n",
        "\n",
        "\n",
        "<details><summary>Click here for answer</summary>\n",
        "\n",
        "```python\n",
        "    \n",
        "X_train, X_test, y_train, y_test = train_test_split(X, y, train_size=0.8, shuffle=True, random_state=42)\n",
        "\n",
        "```\n",
        "</details>"
      ]
    },
    {
      "cell_type": "code",
      "metadata": {
        "jukit_cell_id": "L26c3Jof5Y"
      },
      "source": [
        "## Complete your code here\n",
        "X_train, X_test, y_train, y_test = train_test_split(\n",
        "    X, y, train_size=0.8, shuffle=True, random_state=42\n",
        ")"
      ],
      "outputs": [],
      "execution_count": null
    },
    {
      "cell_type": "markdown",
      "metadata": {
        "jukit_cell_id": "h0soBxLmBk"
      },
      "source": [
        "Multiclass classifiers distinguish between more than two classess.  Scikit-learn detects when you try to use a binary classification algorithm for a multiple class classification task and it automatically runs one-versus-all (OvA)\n",
        "\n",
        "**Exercise 7**\n",
        "\n",
        "Use Logistic Regression to train using the training set, and make a prediction of the chosen digit (`some_digit`). Is the prediction correct?\n",
        "\n",
        "<details><summary>Click here for answer</summary>\n",
        "\n",
        "```python\n",
        "\n",
        "lr_clf = LogisticRegression(solver='liblinear', random_state=42)\n",
        "lr_clf.fit(X_train, y_train)\n",
        "    \n",
        "```\n",
        "</details>"
      ]
    },
    {
      "cell_type": "code",
      "metadata": {
        "jukit_cell_id": "sunOYVjpfs"
      },
      "source": [
        "# Complete the code here\n",
        "\n",
        "lr_clf = LogisticRegression(solver=\"liblinear\", random_state=42)\n",
        "lr_clf.fit(X_train, y_train)"
      ],
      "outputs": [
        {
          "output_type": "stream",
          "name": "stdout",
          "text": "\n"
        },
        {
          "output_type": "execute_result",
          "execution_count": 30,
          "data": {
            "text/plain": "LogisticRegression(random_state=42, solver='liblinear')"
          },
          "metadata": {}
        }
      ],
      "execution_count": 30
    },
    {
      "cell_type": "markdown",
      "metadata": {
        "jukit_cell_id": "LffBKGTJFx"
      },
      "source": [
        "Under the hood, Scikit-Learn actually trained 10 binary classifiers, got their decision scores for the image and selected the class with the highest score.  \n",
        "\n",
        "**Exercise 8**\n",
        "\n",
        "Compute the scores for `some_digit` using the `decision_function()` method to return 10 scores, one per class.\n",
        "\n",
        "<details><summary>Click here for answer</summary>\n",
        "\n",
        "```python\n",
        "    \n",
        "some_digit_scores = lr_clf.decision_function([some_digit])\n",
        "    \n",
        "```\n",
        "</details>"
      ]
    },
    {
      "cell_type": "code",
      "metadata": {
        "jukit_cell_id": "4r7e78b82O"
      },
      "source": [
        "# complete the code here\n",
        "\n",
        "some_digit_scores = lr_clf.decision_function([some_digit])"
      ],
      "outputs": [],
      "execution_count": null
    },
    {
      "cell_type": "code",
      "metadata": {
        "jukit_cell_id": "y3vZ2Cjo1d"
      },
      "source": [
        "some_digit_scores"
      ],
      "outputs": [
        {
          "output_type": "stream",
          "name": "stdout",
          "text": "\n"
        },
        {
          "output_type": "execute_result",
          "execution_count": 31,
          "data": {
            "text/plain": "array([[-12.58028507,  -4.57705248, -35.66600992, -30.71584773,\n          9.84359811, -17.11158963,  -7.48193249, -11.46076656,\n        -14.4968162 , -34.19968072]])"
          },
          "metadata": {}
        }
      ],
      "execution_count": 31
    },
    {
      "cell_type": "markdown",
      "metadata": {
        "jukit_cell_id": "PXYMTqv3hg"
      },
      "source": [
        "The highest score is the one corresponding to the correct class."
      ]
    },
    {
      "cell_type": "code",
      "metadata": {
        "jukit_cell_id": "DAn3A4M82q"
      },
      "source": [
        "index = np.argmax(some_digit_scores)\n",
        "print(index)"
      ],
      "outputs": [
        {
          "output_type": "stream",
          "name": "stdout",
          "text": "4\n"
        }
      ],
      "execution_count": 32
    },
    {
      "cell_type": "code",
      "metadata": {
        "jukit_cell_id": "XVF4o9uxuR"
      },
      "source": [
        "lr_clf.classes_[index]"
      ],
      "outputs": [
        {
          "output_type": "stream",
          "name": "stdout",
          "text": "\n"
        },
        {
          "output_type": "execute_result",
          "execution_count": 33,
          "data": {
            "text/plain": "np.int64(4)"
          },
          "metadata": {}
        }
      ],
      "execution_count": 33
    },
    {
      "cell_type": "markdown",
      "metadata": {
        "jukit_cell_id": "khKxCEquc1"
      },
      "source": [
        "**Exercise 9**\n",
        "\n",
        "Use `cross_val_score()` to evaluate the classifier's accuracy.\n",
        "\n",
        "<details><summary>Click here for answer</summary>\n",
        "    \n",
        "```python \n",
        "    \n",
        "cross_val_score(lr_clf, X_train, y_train, cv=3, scoring=\"accuracy\")\n",
        "    \n",
        "```\n",
        "</details>  "
      ]
    },
    {
      "cell_type": "code",
      "metadata": {
        "jukit_cell_id": "xWO4Y73tkb"
      },
      "source": [
        "# Complete your code here\n",
        "\n",
        "\n",
        "cross_val_score(lr_clf, X_train, y_train, cv=5, scoring=\"accuracy\").mean()"
      ],
      "outputs": [
        {
          "output_type": "stream",
          "name": "stdout",
          "text": "\n"
        },
        {
          "output_type": "execute_result",
          "execution_count": 34,
          "data": {
            "text/plain": "np.float64(0.9498838559814169)"
          },
          "metadata": {}
        }
      ],
      "execution_count": 34
    },
    {
      "cell_type": "markdown",
      "metadata": {
        "jukit_cell_id": "EkhU9dla3a"
      },
      "source": [
        "**Exercise 10**\n",
        "\n",
        "Compute the confusion matrix of the classifier. From the confusion matrix, which two digits tend to be confused with each other?\n",
        "\n",
        "<details><summary>Click here for answer</summary>\n",
        "    \n",
        "```python \n",
        "\n",
        "y_train_pred = cross_val_predict(lr_clf, X_train, y_train, cv=5)\n",
        "cm = confusion_matrix(y_train, y_train_pred)\n",
        "disp = ConfusionMatrixDisplay(cm)\n",
        "disp.plot()\n",
        "    \n",
        "```\n",
        "<br/>\n",
        "1 and 8 are confused with each other. \n",
        "    \n",
        "</details>  "
      ]
    },
    {
      "cell_type": "code",
      "metadata": {
        "jukit_cell_id": "zkCh8K7bz9"
      },
      "source": [
        "# Complete your code here\n",
        "y_train_pred = cross_val_predict(lr_clf, X_train, y_train, cv=5)\n",
        "cm = confusion_matrix(y_train, y_train_pred)\n",
        "ConfusionMatrixDisplay(cm).plot()"
      ],
      "outputs": [
        {
          "output_type": "stream",
          "name": "stdout",
          "text": "\n"
        },
        {
          "data": {
            "image/png": "[encoded data removed]"
          },
          "metadata": {},
          "output_type": "display_data"
        },
        {
          "output_type": "stream",
          "name": "stdout",
          "text": "\n"
        },
        {
          "output_type": "execute_result",
          "execution_count": 35,
          "data": {
            "text/plain": "<sklearn.metrics._plot.confusion_matrix.ConfusionMatrixDisplay at 0x16cb8fa40>"
          },
          "metadata": {}
        }
      ],
      "execution_count": 35
    },
    {
      "cell_type": "markdown",
      "metadata": {
        "jukit_cell_id": "M1rziceCt2"
      },
      "source": [
        "**Exercise 11**\n",
        "\n",
        "Print out the classification_report.  \n",
        "\n",
        "<details><summary>Click here for answer</summary>\n",
        "    \n",
        "```python \n",
        "\n",
        "print(classification_report(y_train, y_train_pred))\n",
        "    \n",
        "```\n",
        "</details>  "
      ]
    },
    {
      "cell_type": "code",
      "metadata": {
        "jukit_cell_id": "iwpCVzRChy"
      },
      "source": [
        "# Complete your code here\n",
        "print(classification_report(y_train, y_train_pred))"
      ],
      "outputs": [
        {
          "output_type": "stream",
          "name": "stdout",
          "text": "              precision    recall  f1-score   support\n\n           0       1.00      0.99      0.99       145\n           1       0.91      0.90      0.91       154\n           2       0.99      0.97      0.98       144\n           3       0.94      0.94      0.94       149\n           4       0.98      0.96      0.97       135\n           5       0.96      0.95      0.96       135\n           6       1.00      0.98      0.99       146\n           7       0.95      0.97      0.96       145\n           8       0.87      0.92      0.89       144\n           9       0.90      0.93      0.92       140\n\n    accuracy                           0.95      1437\n   macro avg       0.95      0.95      0.95      1437\nweighted avg       0.95      0.95      0.95      1437\n\n"
        }
      ],
      "execution_count": 36
    },
    {
      "cell_type": "markdown",
      "metadata": {
        "jukit_cell_id": "fsU2P10SiS"
      },
      "source": [
        "Question: Any algorithm only suitable for Binary classification? Any algorithm only suitable for multiclass classification?\n",
        "Let try out others classification algorithm and compare the result."
      ]
    },
    {
      "cell_type": "code",
      "metadata": {
        "jukit_cell_id": "WZNsVF1in6"
      },
      "source": [],
      "outputs": [],
      "execution_count": null
    }
  ],
  "metadata": {
    "anaconda-cloud": {},
    "kernelspec": {
      "display_name": "python",
      "language": "python",
      "name": "python3"
    }
  },
  "nbformat": 4,
  "nbformat_minor": 4
}