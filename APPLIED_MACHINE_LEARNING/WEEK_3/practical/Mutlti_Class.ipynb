{
  "cells": [
    {
      "cell_type": "markdown",
      "metadata": {
        "jukit_cell_id": "yP5FJm7VaF"
      },
      "source": [
        "<a href=\"https://colab.research.google.com/github/nyp-sit/sdaai-iti103/blob/master/session-4/classification_winequality.ipynb\" target=\"_parent\"><img src=\"https://colab.research.google.com/assets/colab-badge.svg\" alt=\"Open In Colab\"/></a>"
      ]
    },
    {
      "cell_type": "markdown",
      "metadata": {
        "jukit_cell_id": "ciPpnaHC9I"
      },
      "source": [
        "# Multi-class Classification"
      ]
    },
    {
      "cell_type": "markdown",
      "metadata": {
        "jukit_cell_id": "AwHjgKXF8H"
      },
      "source": [
        "## Introduction\n",
        "\n",
        "We will be using the wine quality data set for this exercise. This data set contains various chemical properties of wine, such as acidity, sugar, pH, alcohol, as well as color. It also contains a quality metric (3-9, with highest being better). \n",
        "\n",
        "Using what you have learnt in the previous exercises, you will now build a classification model to predict the quality of the wine, given the various chemical properties and color."
      ]
    },
    {
      "cell_type": "markdown",
      "metadata": {
        "jukit_cell_id": "LugmycTuFp"
      },
      "source": [
        "## Getting the Data\n",
        "\n",
        "You can download the data from the following link:\n",
        "\n",
        "https://nyp-aicourse.s3-ap-southeast-1.amazonaws.com/datasets/Wine_Quality_Data.csv"
      ]
    },
    {
      "cell_type": "code",
      "metadata": {
        "jukit_cell_id": "5TnyKKkBtS"
      },
      "source": [
        "import pandas as pd\n",
        "from pandas.core.common import random_state\n",
        "from sklearn.metrics import accuracy_score\n",
        "from sklearn.model_selection import train_test_split\n",
        "\n",
        "data_url = \"https://nyp-aicourse.s3-ap-southeast-1.amazonaws.com/datasets/Wine_Quality_Data.csv\"\n",
        "df = pd.read_csv(data_url)\n",
        "df.head()"
      ],
      "outputs": [
        {
          "output_type": "stream",
          "name": "stdout",
          "text": "\n"
        },
        {
          "output_type": "execute_result",
          "execution_count": 1,
          "data": {
            "text/plain": "   fixed_acidity  volatile_acidity  ...  quality  color\n0            7.4              0.70  ...        5    red\n1            7.8              0.88  ...        5    red\n2            7.8              0.76  ...        5    red\n3           11.2              0.28  ...        6    red\n4            7.4              0.70  ...        5    red\n\n[5 rows x 13 columns]"
          },
          "metadata": {}
        }
      ],
      "execution_count": 1
    },
    {
      "cell_type": "markdown",
      "metadata": {
        "jukit_cell_id": "HLlnqHZtU0"
      },
      "source": [
        "## Data Exploration\n",
        "\n",
        "Find out the following: \n",
        "- how many samples we have? \n",
        "- are there any missing values? \n",
        "- are there any categorical data? \n",
        "- how many different grades (qualities) of wine. "
      ]
    },
    {
      "cell_type": "code",
      "metadata": {
        "jukit_cell_id": "1fDFih9VGx"
      },
      "source": [
        "## Write your code here\n",
        "df.info()"
      ],
      "outputs": [
        {
          "output_type": "stream",
          "name": "stdout",
          "text": "<class 'pandas.core.frame.DataFrame'>\nRangeIndex: 6497 entries, 0 to 6496\nData columns (total 13 columns):\n #   Column                Non-Null Count  Dtype  \n---  ------                --------------  -----  \n 0   fixed_acidity         6497 non-null   float64\n 1   volatile_acidity      6497 non-null   float64\n 2   citric_acid           6497 non-null   float64\n 3   residual_sugar        6497 non-null   float64\n 4   chlorides             6497 non-null   float64\n 5   free_sulfur_dioxide   6497 non-null   float64\n 6   total_sulfur_dioxide  6497 non-null   float64\n 7   density               6497 non-null   float64\n 8   pH                    6497 non-null   float64\n 9   sulphates             6497 non-null   float64\n 10  alcohol               6497 non-null   float64\n 11  quality               6497 non-null   int64  \n 12  color                 6497 non-null   int64  \ndtypes: float64(11), int64(2)\nmemory usage: 660.0 KB\n"
        }
      ],
      "execution_count": 2
    },
    {
      "cell_type": "code",
      "metadata": {
        "jukit_cell_id": "53AUvMBvDj"
      },
      "source": [
        "df[\"color\"].unique()"
      ],
      "outputs": [
        {
          "output_type": "stream",
          "name": "stdout",
          "text": "\n"
        },
        {
          "output_type": "execute_result",
          "execution_count": 3,
          "data": {
            "text/plain": "array(['red', 'white'], dtype=object)"
          },
          "metadata": {}
        }
      ],
      "execution_count": 3
    },
    {
      "cell_type": "markdown",
      "metadata": {
        "jukit_cell_id": "DeDe7IjSUQ"
      },
      "source": [
        "## Data Preparation\n",
        "\n",
        "As part of data prep, you will need some of the following:\n",
        "- Encode any categorical columns if necessary\n",
        "- Handle any missing values\n",
        "- Scaling if necessary\n",
        "- Split the datasets into train/val/test\n",
        "\n",
        "Decide if you want to do K-fold cross-validation or set aside a dedicated validation set. Explain your choice.\n",
        "\n",
        "Think about the splitting strategy, do you need stratified split?"
      ]
    },
    {
      "cell_type": "code",
      "metadata": {
        "jukit_cell_id": "wgaTKiOMMU"
      },
      "source": [
        "label_map = {\"red\": 0, \"white\": 1}\n",
        "\n",
        "df[\"color\"] = df[\"color\"].map(label_map)"
      ],
      "outputs": [],
      "execution_count": null
    },
    {
      "cell_type": "code",
      "metadata": {
        "jukit_cell_id": "iqlaZynelC"
      },
      "source": [
        "df[\"color\"].head()"
      ],
      "outputs": [
        {
          "output_type": "stream",
          "name": "stdout",
          "text": "\n"
        },
        {
          "output_type": "execute_result",
          "execution_count": 4,
          "data": {
            "text/plain": "0    0\n1    0\n2    0\n3    0\n4    0\nName: color, dtype: int64"
          },
          "metadata": {}
        }
      ],
      "execution_count": 4
    },
    {
      "cell_type": "code",
      "metadata": {
        "jukit_cell_id": "0AN7BxUCIK"
      },
      "source": [
        "df[\"color\"].value_counts()\n",
        "# is skewed to white"
      ],
      "outputs": [
        {
          "output_type": "stream",
          "name": "stdout",
          "text": "\n"
        },
        {
          "output_type": "execute_result",
          "execution_count": 5,
          "data": {
            "text/plain": "color\n1    4898\n0    1599\nName: count, dtype: int64"
          },
          "metadata": {}
        }
      ],
      "execution_count": 5
    },
    {
      "cell_type": "code",
      "metadata": {
        "jukit_cell_id": "FlrnXkpVOK"
      },
      "source": [
        "from sklearn.model_selection import train_test_split\n",
        "\n",
        "X = df[\n",
        "    [\n",
        "        \"fixed_acidity\",\n",
        "        \"volatile_acidity\",\n",
        "        \"citric_acid\",\n",
        "        \"residual_sugar\",\n",
        "        \"chlorides\",\n",
        "        \"free_sulfur_dioxide\",\n",
        "        \"total_sulfur_dioxide\",\n",
        "        \"density\",\n",
        "        \"pH\",\n",
        "        \"sulphates\",\n",
        "        \"alcohol\",\n",
        "        \"quality\",\n",
        "    ]\n",
        "]\n",
        "y = df[\"color\"].to_numpy()\n",
        "\n",
        "X_train, X_test, y_train, y_test = train_test_split(\n",
        "    X, y, test_size=0.2, random_state=42\n",
        ")"
      ],
      "outputs": [],
      "execution_count": null
    },
    {
      "cell_type": "markdown",
      "metadata": {
        "jukit_cell_id": "of1XrV3uAP"
      },
      "source": [
        "## Build and validate your model\n",
        "\n",
        "For this exercise, use SVM as a start. You do not neeed to understand what the parameters mean at this point, as you will learn more during the ML Algorithms module. \n",
        "\n",
        "What do you notice about the validation accuracy/recall/precision? You can just use classification report to get more info about the performance of each class. Analyse the report and explain your result. "
      ]
    },
    {
      "cell_type": "code",
      "metadata": {
        "jukit_cell_id": "6K2YkmouqO"
      },
      "source": [
        "## Write your code here\n",
        "from sklearn.metrics import accuracy_score\n",
        "from sklearn.svm import LinearSVC\n",
        "\n",
        "svc = LinearSVC(random_state=42)\n",
        "svc.fit(X_train, y_train)\n",
        "y_pred = svc.predict(X_test)\n",
        "print(accuracy_score(y_test, y_pred))"
      ],
      "outputs": [
        {
          "output_type": "stream",
          "name": "stdout",
          "text": "0.9815384615384616\n"
        }
      ],
      "execution_count": 6
    },
    {
      "cell_type": "code",
      "metadata": {
        "jukit_cell_id": "HAAnOKRYZc"
      },
      "source": [
        "from sklearn.metrics import classification_report\n",
        "\n",
        "print(classification_report(y_test, y_pred))"
      ],
      "outputs": [
        {
          "output_type": "stream",
          "name": "stdout",
          "text": "              precision    recall  f1-score   support\n\n           0       0.98      0.95      0.96       341\n           1       0.98      0.99      0.99       959\n\n    accuracy                           0.98      1300\n   macro avg       0.98      0.97      0.98      1300\nweighted avg       0.98      0.98      0.98      1300\n\n"
        }
      ],
      "execution_count": 7
    },
    {
      "cell_type": "markdown",
      "metadata": {
        "jukit_cell_id": "Yq9sf86r3W"
      },
      "source": [
        "## Improve your model\n",
        "\n",
        "Based on your analysis above, what do you think you can do to improve the model? \n",
        "\n",
        "Try to implement ONE possible change to improve your model.  Has the model improved in validation performance? \n",
        "\n",
        "Test it now on your test set. Do you get similar result as your validation result?"
      ]
    },
    {
      "cell_type": "code",
      "metadata": {
        "jukit_cell_id": "wCj49g6b6K"
      },
      "source": [
        "## Write your code here"
      ],
      "outputs": [],
      "execution_count": null
    }
  ],
  "metadata": {
    "anaconda-cloud": {},
    "kernelspec": {
      "display_name": "python",
      "language": "python",
      "name": "python3"
    }
  },
  "nbformat": 4,
  "nbformat_minor": 4
}