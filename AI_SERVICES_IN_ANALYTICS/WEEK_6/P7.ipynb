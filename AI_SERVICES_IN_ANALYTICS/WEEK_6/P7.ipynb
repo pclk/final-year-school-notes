{
  "cells": [
    {
      "cell_type": "markdown",
      "metadata": {
        "jukit_cell_id": "Ubv7HSlX5J"
      },
      "source": [
        "![nyp.jpg](attachment:nyp.jpg)"
      ]
    },
    {
      "cell_type": "markdown",
      "metadata": {
        "jukit_cell_id": "TB1FsWR66K"
      },
      "source": [
        "## Google Cloud Storage\n",
        "\n",
        "In this practical, we are going to perform basic operations in Google buckets using the Google Client Library for Python and a service key. "
      ]
    },
    {
      "cell_type": "code",
      "metadata": {
        "jukit_cell_id": "tbQq0jr4eP"
      },
      "source": [
        "# conda install -c conda-forge google-cloud-storage\n",
        "!pip install google-cloud-storage"
      ],
      "outputs": [],
      "execution_count": null
    },
    {
      "cell_type": "code",
      "metadata": {
        "jukit_cell_id": "ixOcbKzLFb"
      },
      "source": [
        "# Imports the Google Cloud client library\n",
        "from google.cloud import storage"
      ],
      "outputs": [],
      "execution_count": null
    },
    {
      "cell_type": "code",
      "metadata": {
        "jukit_cell_id": "QV82rGDMnb"
      },
      "source": [
        "# confirm service key is present in current folder\n",
        "!dir *.json"
      ],
      "outputs": [],
      "execution_count": null
    },
    {
      "cell_type": "code",
      "metadata": {
        "jukit_cell_id": "o8DopNtuB3"
      },
      "source": [
        "%env GOOGLE_APPLICATION_CREDENTIALS"
      ],
      "outputs": [],
      "execution_count": null
    },
    {
      "cell_type": "code",
      "metadata": {
        "jukit_cell_id": "1Z9vP4vfb0"
      },
      "source": [
        "# fill in json filename\n",
        "%env GOOGLE_APPLICATION_CREDENTIALS=WEEK_6/key_i220342h.json\n",
        "%env GOOGLE_APPLICATION_CREDENTIALS"
      ],
      "outputs": [
        {
          "output_type": "stream",
          "name": "stdout",
          "text": "env: GOOGLE_APPLICATION_CREDENTIALS=WEEK_6/key_i220342h.json\n"
        },
        {
          "output_type": "execute_result",
          "execution_count": 1,
          "data": {
            "text/plain": "'WEEK_6/key_i220342h.json'"
          },
          "metadata": {}
        }
      ],
      "execution_count": 1
    },
    {
      "cell_type": "code",
      "metadata": {
        "jukit_cell_id": "uQ67eiOztc"
      },
      "source": [
        "# settings\n",
        "# refer to credentials sent in email\n",
        "PROJECT_ID = \"i220342h\"\n",
        "BUCKET_NAME = PROJECT_ID + \"-3386-p7\"\n",
        "\n",
        "BUCKET_URI = f\"gs://{BUCKET_NAME}\"\n",
        "REGION = \"us-central1\"\n",
        "print(BUCKET_NAME)\n",
        "print(BUCKET_URI)"
      ],
      "outputs": [
        {
          "output_type": "stream",
          "name": "stdout",
          "text": "i220342h-3386-p7\ngs://i220342h-3386-p7\n"
        }
      ],
      "execution_count": 2
    },
    {
      "cell_type": "code",
      "metadata": {
        "jukit_cell_id": "rnIFvxdFde"
      },
      "source": [
        "# Instantiates a client\n",
        "storage_client = storage.Client()"
      ],
      "outputs": [],
      "execution_count": null
    },
    {
      "cell_type": "markdown",
      "metadata": {
        "jukit_cell_id": "CO1ErGUofV"
      },
      "source": [
        "### Create a new bucket"
      ]
    },
    {
      "cell_type": "code",
      "metadata": {
        "jukit_cell_id": "P4PmoIHMjh"
      },
      "source": [
        "#https://cloud.google.com/storage/docs/creating-buckets#storage-create-bucket-client_libraries\n",
        "\n",
        "my_bucket = storage_client.create_bucket(BUCKET_NAME)"
      ],
      "outputs": [],
      "execution_count": null
    },
    {
      "cell_type": "code",
      "metadata": {
        "jukit_cell_id": "J4z7OkN7nC"
      },
      "source": [
        "# list buckets in project\n",
        "buckets = storage_client.list_buckets()\n",
        "for bucket in buckets:\n",
        "    print(bucket.name)"
      ],
      "outputs": [
        {
          "output_type": "stream",
          "name": "stdout",
          "text": "i220342h-3386-p7\n"
        }
      ],
      "execution_count": 3
    },
    {
      "cell_type": "code",
      "metadata": {
        "jukit_cell_id": "9uVpNQwqAs"
      },
      "source": [
        "# Lists all the blobs in the bucket\n",
        "# empty for new bucket\n",
        "blobs = storage_client.list_blobs(BUCKET_NAME)\n",
        "for blob in blobs:\n",
        "    print(blob.name)"
      ],
      "outputs": [],
      "execution_count": null
    },
    {
      "cell_type": "code",
      "metadata": {
        "jukit_cell_id": "DWXSonicrK"
      },
      "source": [
        "# https://cloud.google.com/storage/docs/uploading-objects#storage-upload-object-client-libraries\n",
        "\n",
        "def upload_directory_with_transfer_manager(bucket, source_directory, workers=8):\n",
        "    \"\"\"Upload every file in a directory, including all files in subdirectories.\n",
        "\n",
        "    Each blob name is derived from the filename, not including the `directory`\n",
        "    parameter itself. For complete control of the blob name for each file (and\n",
        "    other aspects of individual blob metadata), use\n",
        "    transfer_manager.upload_many() instead.\n",
        "    \"\"\"\n",
        "\n",
        "    # The ID of your GCS bucket\n",
        "    # bucket_name = \"your-bucket-name\"\n",
        "\n",
        "    # The directory on your computer to upload. Files in the directory and its\n",
        "    # subdirectories will be uploaded. An empty string means \"the current\n",
        "    # working directory\".\n",
        "    # source_directory=\"\"\n",
        "\n",
        "    # The maximum number of processes to use for the operation. The performance\n",
        "    # impact of this value depends on the use case, but smaller files usually\n",
        "    # benefit from a higher number of processes. Each additional process occupies\n",
        "    # some CPU and memory resources until finished. Threads can be used instead\n",
        "    # of processes by passing `worker_type=transfer_manager.THREAD`.\n",
        "    # workers=8\n",
        "\n",
        "    from pathlib import Path\n",
        "\n",
        "    from google.cloud.storage import Client, transfer_manager\n",
        "\n",
        "    # Generate a list of paths (in string form) relative to the `directory`.\n",
        "    # This can be done in a single list comprehension, but is expanded into\n",
        "    # multiple lines here for clarity.\n",
        "\n",
        "    # First, recursively get all files in `directory` as Path objects.\n",
        "    directory_as_path_obj = Path(source_directory)\n",
        "    paths = directory_as_path_obj.rglob(\"*\")\n",
        "\n",
        "    # Filter so the list only includes files, not directories themselves.\n",
        "    file_paths = [path for path in paths if path.is_file()]\n",
        "\n",
        "    # These paths are relative to the current working directory. Next, make them\n",
        "    # relative to `directory`\n",
        "    relative_paths = [path.relative_to(source_directory) for path in file_paths]\n",
        "\n",
        "    # Finally, convert them all to strings.\n",
        "    string_paths = [str(path) for path in relative_paths]\n",
        "\n",
        "    print(\"Found {} files.\".format(len(string_paths)))\n",
        "    \n",
        "    # filenames must in forward slashes to create the corresponding folder inside bucket\n",
        "    string_paths[:] = [Path(path).as_posix() for path in string_paths]\n",
        "    \n",
        "    # Start the upload.\n",
        "    results = transfer_manager.upload_many_from_filenames(\n",
        "        bucket, string_paths, source_directory=source_directory, max_workers=workers\n",
        "    )\n",
        "\n",
        "    for name, result in zip(string_paths, results):\n",
        "        # The results list is either `None` or an exception for each filename in\n",
        "        # the input list, in order.\n",
        "\n",
        "        if isinstance(result, Exception):\n",
        "            print(\"Failed to upload {} due to exception: {}\".format(name, result))\n",
        "        else:\n",
        "            print(\"Uploaded {} to {}.\".format(name, bucket.name))\n",
        "    "
      ],
      "outputs": [],
      "execution_count": null
    },
    {
      "cell_type": "markdown",
      "metadata": {
        "jukit_cell_id": "K0yaQHuSpv"
      },
      "source": [
        "### Upload folder and files to bucket\n",
        "\n",
        "Steps\n",
        "1. Create a folder (e.g. no_name; the folder name does not matter because it will not be reflected in the bucket)\n",
        "2. Unzip masks.zip inside folde"
      ]
    },
    {
      "cell_type": "code",
      "metadata": {
        "jukit_cell_id": "KTyKFhoj1K"
      },
      "source": [
        "!ls ./WEEK_6/no_name"
      ],
      "outputs": [],
      "execution_count": null
    },
    {
      "cell_type": "markdown",
      "metadata": {
        "jukit_cell_id": "BvaeuhyGaf"
      },
      "source": [
        "Sample Output\n",
        "\n",
        "```\n",
        "...\n",
        "\n",
        "04/05/2024  06:33 PM    <DIR>          .\n",
        "04/05/2024  06:33 PM    <DIR>          ..\n",
        "04/05/2024  06:03 PM    <DIR>          masks\n",
        "...\n",
        "```"
      ]
    },
    {
      "cell_type": "code",
      "metadata": {
        "jukit_cell_id": "9xvBlgIoPS"
      },
      "source": [
        "!ls ./WEEK_6/no_name/masks"
      ],
      "outputs": [],
      "execution_count": null
    },
    {
      "cell_type": "markdown",
      "metadata": {
        "jukit_cell_id": "kQg869VBLa"
      },
      "source": [
        "Sample Output\n",
        "```\n",
        " ... \\no_name\\masks\n",
        "\n",
        "04/05/2024  06:03 PM    <DIR>          .\n",
        "04/05/2024  06:03 PM    <DIR>          ..\n",
        "25/09/2020  09:52 AM            32,412 1.jpg\n",
        "25/09/2020  09:52 AM            53,267 2.jpg\n",
        "09/11/2023  03:52 PM               375 data.csv\n",
        "...\n",
        "```"
      ]
    },
    {
      "cell_type": "code",
      "metadata": {
        "jukit_cell_id": "BSMhV63NDa"
      },
      "source": [
        "# e.g. s1-21264a-3386-p7\n",
        "print(my_bucket.name)"
      ],
      "outputs": [
        {
          "output_type": "stream",
          "name": "stdout",
          "text": "i220342h-3386-p7\n"
        }
      ],
      "execution_count": 4
    },
    {
      "cell_type": "code",
      "metadata": {
        "jukit_cell_id": "YngyupyB0M"
      },
      "source": [
        "# upload all folder and files inside \"no_name\" folder to bucket\n",
        "upload_directory_with_transfer_manager(my_bucket, './WEEK_6/no_name')"
      ],
      "outputs": [
        {
          "output_type": "stream",
          "name": "stdout",
          "text": "Found 3 files.\nUploaded masks/data.csv to i220342h-3386-p7.\nUploaded masks/2.jpg to i220342h-3386-p7.\nUploaded masks/1.jpg to i220342h-3386-p7.\n"
        }
      ],
      "execution_count": 5
    },
    {
      "cell_type": "code",
      "metadata": {
        "jukit_cell_id": "04EJEXiv3s"
      },
      "source": [
        "# Lists all the blobs in the bucket\n",
        "blobs = storage_client.list_blobs(BUCKET_NAME)\n",
        "for blob in blobs:\n",
        "    print(blob)"
      ],
      "outputs": [
        {
          "output_type": "stream",
          "name": "stdout",
          "text": "<Blob: i220342h-3386-p7, masks/1.jpg, 1732693976035196>\n<Blob: i220342h-3386-p7, masks/2.jpg, 1732693976196928>\n<Blob: i220342h-3386-p7, masks/data.csv, 1732693976027693>\n"
        }
      ],
      "execution_count": 6
    },
    {
      "cell_type": "code",
      "metadata": {
        "jukit_cell_id": "eW8mzUnafT"
      },
      "source": [
        "# checking content of a file in bucket\n",
        "\n",
        "file_path = 'masks/data.csv'\n",
        "blob = my_bucket.get_blob(file_path)\n",
        "print(blob.download_as_string().decode())"
      ],
      "outputs": [
        {
          "output_type": "stream",
          "name": "stdout",
          "text": "gs://s1-21264a-aip-3386/masks/1.jpg,mask,0.22903225806451613,0.25806451612903225,,,0.3629032258064516,0.4792626728110599,,\r\ngs://s1-21264a-aip-3386/masks/2.jpg,no-mask,0.7265795206971678,0.0691699604743083,,,0.7701525054466231,0.16996047430830039,,\r\ngs://s1-21264a-aip-3386/masks/2.jpg,mask,0.8300653594771242,0.005928853754940711,,,0.8779956427015251,0.08300395256916997,,\r\n\n"
        }
      ],
      "execution_count": 7
    },
    {
      "cell_type": "markdown",
      "metadata": {
        "jukit_cell_id": "AMmNLGaykY"
      },
      "source": [
        "Sample output\n",
        "```\n",
        "gs://s1-21264a-aip-3386/masks/1.jpg,mask,0.22903225806451613,0.25806451612903225,,,0.3629032258064516,0.4792626728110599,,\n",
        "gs://s1-21264a-aip-3386/masks/2.jpg,no-mask,0.7265795206971678,0.0691699604743083,,,0.7701525054466231,0.16996047430830039,,\n",
        "gs://s1-21264a-aip-3386/masks/2.jpg,mask,0.8300653594771242,0.005928853754940711,,,0.8779956427015251,0.08300395256916997,,\n",
        "```"
      ]
    },
    {
      "cell_type": "code",
      "metadata": {
        "jukit_cell_id": "ItxK7xotVg"
      },
      "source": [],
      "outputs": [],
      "execution_count": null
    },
    {
      "cell_type": "markdown",
      "metadata": {
        "jukit_cell_id": "LTMiLCMVZn"
      },
      "source": [
        "### Delete Bucket\n",
        "\n",
        "A bucket must be empty of objects before it can be deleted"
      ]
    },
    {
      "cell_type": "code",
      "metadata": {
        "jukit_cell_id": "CGe68lRj7F"
      },
      "source": [
        "# delete objects from bucket\n",
        "# https://cloud.google.com/storage/docs/deleting-objects#storage-delete-object-python\n",
        "\n",
        "blobs = my_bucket.list_blobs()\n",
        "for blob in blobs:\n",
        "    blob.delete()\n",
        "    print('{} deleted'.format(blob.name))"
      ],
      "outputs": [
        {
          "output_type": "stream",
          "name": "stdout",
          "text": "masks/1.jpg deleted\nmasks/2.jpg deleted\nmasks/data.csv deleted\n"
        }
      ],
      "execution_count": 8
    },
    {
      "cell_type": "code",
      "metadata": {
        "jukit_cell_id": "Ni3Us6gmDu"
      },
      "source": [
        "# delete a bucket https://cloud.google.com/storage/docs/deleting-buckets#delete-bucket-client-libraries\n",
        "\n",
        "my_bucket.delete()"
      ],
      "outputs": [],
      "execution_count": null
    },
    {
      "cell_type": "code",
      "metadata": {
        "jukit_cell_id": "Z3HUVigMgo"
      },
      "source": [],
      "outputs": [],
      "execution_count": null
    },
    {
      "cell_type": "markdown",
      "metadata": {
        "jukit_cell_id": "VpPtGjXT2n"
      },
      "source": [
        "### References\n",
        "\n",
        "- https://cloud.google.com/storage/docs/introduction\n",
        "- https://cloud.google.com/storage/docs/samples/storage-upload-file\n",
        "- https://cloud.google.com/storage/docs/reference/libraries#client-libraries-install-python"
      ]
    },
    {
      "cell_type": "code",
      "metadata": {
        "jukit_cell_id": "ROGpfo4lnN"
      },
      "source": [],
      "outputs": [],
      "execution_count": null
    },
    {
      "cell_type": "code",
      "metadata": {
        "jukit_cell_id": "KD28aM5uHe"
      },
      "source": [],
      "outputs": [],
      "execution_count": null
    },
    {
      "cell_type": "code",
      "metadata": {
        "jukit_cell_id": "2vm3bgJNrA"
      },
      "source": [],
      "outputs": [],
      "execution_count": null
    },
    {
      "cell_type": "code",
      "metadata": {
        "jukit_cell_id": "Ko8fO5Q4O4"
      },
      "source": [],
      "outputs": [],
      "execution_count": null
    },
    {
      "cell_type": "code",
      "metadata": {
        "jukit_cell_id": "ycQZtNUTQ8"
      },
      "source": [],
      "outputs": [],
      "execution_count": null
    }
  ],
  "metadata": {
    "anaconda-cloud": {},
    "kernelspec": {
      "display_name": "python",
      "language": "python",
      "name": "python3"
    }
  },
  "nbformat": 4,
  "nbformat_minor": 4
}