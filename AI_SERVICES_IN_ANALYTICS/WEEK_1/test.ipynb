{
  "cells": [
    {
      "cell_type": "code",
      "metadata": {
        "jukit_cell_id": "rZqglOeCip"
      },
      "source": [
        "print(\"Hello world\")"
      ],
      "outputs": [
        {
          "output_type": "stream",
          "name": "stdout",
          "text": "Hello world\n"
        }
      ],
      "execution_count": 1
    },
    {
      "cell_type": "code",
      "metadata": {
        "jukit_cell_id": "OemqGTg478"
      },
      "source": [
        "import requests\n",
        "\n",
        "req = requests.get(\"https://proco.link\")"
      ],
      "outputs": [],
      "execution_count": null
    },
    {
      "cell_type": "code",
      "metadata": {
        "jukit_cell_id": "nyxMAUvyEo"
      },
      "source": [
        "print(req.text)"
      ],
      "outputs": [
        {
          "output_type": "stream",
          "name": "stdout",
          "text": "<!DOCTYPE html><html lang=\"en\"><head><meta charSet=\"utf-8\"/><meta name=\"viewport\" content=\"width=device-width, initial-scale=1\"/><link rel=\"preload\" href=\"/_next/static/media/a34f9d1faa5f3315-s.p.woff2\" as=\"font\" crossorigin=\"\" type=\"font/woff2\"/><link rel=\"stylesheet\" href=\"/_next/static/css/9ecdf4a474671b97.css\" data-precedence=\"next\"/><link rel=\"preload\" as=\"script\" fetchPriority=\"low\" href=\"/_next/static/chunks/webpack-ff11dfb3fd9e3b11.js\"/><script src=\"/_next/static/chunks/fd9d1056-c4050f5b61ad0a3b.js\" async=\"\"></script><script src=\"/_next/static/chunks/23-fbd51233f1e6a8a7.js\" async=\"\"></script><script src=\"/_next/static/chunks/main-app-594114e869870d16.js\" async=\"\"></script><script src=\"/_next/static/chunks/231-3ac5e4b6464b4816.js\" async=\"\"></script><script src=\"/_next/static/chunks/app/page-ab76374f721189e8.js\" async=\"\"></script><script src=\"/_next/static/chunks/908-aa252e5e78480057.js\" async=\"\"></script><script src=\"/_next/static/chunks/445-dcc8c6aad662c32a.js\" async=\"\"></script><script src=\"/_next/static/chunks/app/layout-b4e33faefe910606.js\" async=\"\"></script><title>ProspectPipeline - ProcoLink</title><meta name=\"description\" content=\"A powerful tool to build, test, and deploy conversation pipelines for your prospects.\"/><link rel=\"icon\" href=\"/icon.ico?bff61787832a404c\" type=\"image/x-icon\" sizes=\"256x256\"/><meta name=\"next-size-adjust\"/><meta name=\"facebook-domain-verification\" content=\"7a78yl2g1p17bmocachtn43s8godug\"/><script src=\"/_next/static/chunks/polyfills-42372ed130431b0a.js\" noModule=\"\"></script></head><body class=\"__className_36bd41 bg-dark text-light h-screen\"><div class=\"mx-auto max-w-screen-xl p-10 flex flex-col h-full\"><header class=\"flex justify-between items-center bg-dark absolute\"><nav class=\" gap-5\"><a class=\"flex items-center space-x-4 no-underline\" href=\"/\"><img alt=\"ProcoLink Logo\" loading=\"lazy\" width=\"50\" height=\"50\" decoding=\"async\" data-nimg=\"1\" class=\"shrink-0\" style=\"color:transparent\" srcSet=\"/_next/image?url=%2FProcoLink_Logo.png&amp;w=64&amp;q=75 1x, /_next/image?url=%2FProcoLink_Logo.png&amp;w=128&amp;q=75 2x\" src=\"/_next/image?url=%2FProcoLink_Logo.png&amp;w=128&amp;q=75\"/><span class=\"text-3xl text-light font-semibold \">ProcoLink</span></a></nav></header><main class=\"h-full flex justify-center \"><div class=\"self-center flex flex-col space-y-5\"><a class=\"underline h-full text-3xl\" href=\"/support\">click here to go to support demo</a><a class=\"underline h-full text-3xl\" href=\"https://sales.proco.link\">click here to go to sales demo</a></div></main><div role=\"region\" aria-label=\"Notifications (F8)\" tabindex=\"-1\" style=\"pointer-events:none\"><ol tabindex=\"-1\" class=\"fixed top-0 z-[100] flex max-h-screen w-full flex-col-reverse p-4 sm:bottom-0 sm:right-0 sm:top-auto sm:flex-col md:max-w-[420px]\"></ol></div></div><script src=\"/_next/static/chunks/webpack-ff11dfb3fd9e3b11.js\" async=\"\"></script><script>(self.__next_f=self.__next_f||[]).push([0]);self.__next_f.push([2,null])</script><script>self.__next_f.push([1,\"1:HL[\\\"/_next/static/media/a34f9d1faa5f3315-s.p.woff2\\\",\\\"font\\\",{\\\"crossOrigin\\\":\\\"\\\",\\\"type\\\":\\\"font/woff2\\\"}]\\n2:HL[\\\"/_next/static/css/9ecdf4a474671b97.css\\\",\\\"style\\\"]\\n\"])</script><script>self.__next_f.push([1,\"3:I[5751,[],\\\"\\\"]\\n6:I[231,[\\\"231\\\",\\\"static/chunks/231-3ac5e4b6464b4816.js\\\",\\\"931\\\",\\\"static/chunks/app/page-ab76374f721189e8.js\\\"],\\\"\\\"]\\n7:I[8173,[\\\"231\\\",\\\"static/chunks/231-3ac5e4b6464b4816.js\\\",\\\"908\\\",\\\"static/chunks/908-aa252e5e78480057.js\\\",\\\"445\\\",\\\"static/chunks/445-dcc8c6aad662c32a.js\\\",\\\"185\\\",\\\"static/chunks/app/layout-b4e33faefe910606.js\\\"],\\\"Image\\\"]\\n8:I[9275,[],\\\"\\\"]\\n9:I[1343,[],\\\"\\\"]\\na:I[7744,[\\\"231\\\",\\\"static/chunks/231-3ac5e4b6464b4816.js\\\",\\\"908\\\",\\\"static/chunks/908-aa252e5e78480057.js\\\",\\\"445\\\",\\\"static/chunks/445-dcc8c6aad662c32a.js\\\",\\\"185\\\",\\\"static/chunks/app/layout-b4e33faefe910606.js\\\"],\\\"Toaster\\\"]\\nc:I[6130,[],\\\"\\\"]\\nd:[]\\n\"])</script><script>self.__next_f.push([1,\"0:[\\\"$\\\",\\\"$L3\\\",null,{\\\"buildId\\\":\\\"RIknoWd2XPZHS-n17LVEp\\\",\\\"assetPrefix\\\":\\\"\\\",\\\"urlParts\\\":[\\\"\\\",\\\"\\\"],\\\"initialTree\\\":[\\\"\\\",{\\\"children\\\":[\\\"__PAGE__\\\",{}]},\\\"$undefined\\\",\\\"$undefined\\\",true],\\\"initialSeedData\\\":[\\\"\\\",{\\\"children\\\":[\\\"__PAGE__\\\",{},[[\\\"$L4\\\",\\\"$L5\\\",null],null],null]},[[[[\\\"$\\\",\\\"link\\\",\\\"0\\\",{\\\"rel\\\":\\\"stylesheet\\\",\\\"href\\\":\\\"/_next/static/css/9ecdf4a474671b97.css\\\",\\\"precedence\\\":\\\"next\\\",\\\"crossOrigin\\\":\\\"$undefined\\\"}]],[\\\"$\\\",\\\"html\\\",null,{\\\"lang\\\":\\\"en\\\",\\\"children\\\":[[\\\"$\\\",\\\"head\\\",null,{\\\"children\\\":[\\\"$\\\",\\\"meta\\\",null,{\\\"name\\\":\\\"facebook-domain-verification\\\",\\\"content\\\":\\\"7a78yl2g1p17bmocachtn43s8godug\\\"}]}],[\\\"$\\\",\\\"body\\\",null,{\\\"className\\\":\\\"__className_36bd41 bg-dark text-light h-screen\\\",\\\"children\\\":[\\\"$\\\",\\\"div\\\",null,{\\\"className\\\":\\\"mx-auto max-w-screen-xl p-10 flex flex-col h-full\\\",\\\"children\\\":[[\\\"$\\\",\\\"header\\\",null,{\\\"className\\\":\\\"flex justify-between items-center bg-dark absolute\\\",\\\"children\\\":[\\\"$\\\",\\\"nav\\\",null,{\\\"className\\\":\\\" gap-5\\\",\\\"children\\\":[[\\\"$\\\",\\\"$L6\\\",null,{\\\"href\\\":\\\"/\\\",\\\"className\\\":\\\"flex items-center space-x-4 no-underline\\\",\\\"children\\\":[[\\\"$\\\",\\\"$L7\\\",null,{\\\"src\\\":\\\"/ProcoLink_Logo.png\\\",\\\"alt\\\":\\\"ProcoLink Logo\\\",\\\"width\\\":50,\\\"height\\\":50,\\\"className\\\":\\\"shrink-0\\\"}],[\\\"$\\\",\\\"span\\\",null,{\\\"className\\\":\\\"text-3xl text-light font-semibold \\\",\\\"children\\\":\\\"ProcoLink\\\"}]]}],\\\"$undefined\\\"]}]}],[\\\"$\\\",\\\"main\\\",null,{\\\"className\\\":\\\"h-full flex justify-center \\\",\\\"children\\\":[\\\"$\\\",\\\"$L8\\\",null,{\\\"parallelRouterKey\\\":\\\"children\\\",\\\"segmentPath\\\":[\\\"children\\\"],\\\"error\\\":\\\"$undefined\\\",\\\"errorStyles\\\":\\\"$undefined\\\",\\\"errorScripts\\\":\\\"$undefined\\\",\\\"template\\\":[\\\"$\\\",\\\"$L9\\\",null,{}],\\\"templateStyles\\\":\\\"$undefined\\\",\\\"templateScripts\\\":\\\"$undefined\\\",\\\"notFound\\\":[[\\\"$\\\",\\\"title\\\",null,{\\\"children\\\":\\\"404: This page could not be found.\\\"}],[\\\"$\\\",\\\"div\\\",null,{\\\"style\\\":{\\\"fontFamily\\\":\\\"system-ui,\\\\\\\"Segoe UI\\\\\\\",Roboto,Helvetica,Arial,sans-serif,\\\\\\\"Apple Color Emoji\\\\\\\",\\\\\\\"Segoe UI Emoji\\\\\\\"\\\",\\\"height\\\":\\\"100vh\\\",\\\"textAlign\\\":\\\"center\\\",\\\"display\\\":\\\"flex\\\",\\\"flexDirection\\\":\\\"column\\\",\\\"alignItems\\\":\\\"center\\\",\\\"justifyContent\\\":\\\"center\\\"},\\\"children\\\":[\\\"$\\\",\\\"div\\\",null,{\\\"children\\\":[[\\\"$\\\",\\\"style\\\",null,{\\\"dangerouslySetInnerHTML\\\":{\\\"__html\\\":\\\"body{color:#000;background:#fff;margin:0}.next-error-h1{border-right:1px solid rgba(0,0,0,.3)}@media (prefers-color-scheme:dark){body{color:#fff;background:#000}.next-error-h1{border-right:1px solid rgba(255,255,255,.3)}}\\\"}}],[\\\"$\\\",\\\"h1\\\",null,{\\\"className\\\":\\\"next-error-h1\\\",\\\"style\\\":{\\\"display\\\":\\\"inline-block\\\",\\\"margin\\\":\\\"0 20px 0 0\\\",\\\"padding\\\":\\\"0 23px 0 0\\\",\\\"fontSize\\\":24,\\\"fontWeight\\\":500,\\\"verticalAlign\\\":\\\"top\\\",\\\"lineHeight\\\":\\\"49px\\\"},\\\"children\\\":\\\"404\\\"}],[\\\"$\\\",\\\"div\\\",null,{\\\"style\\\":{\\\"display\\\":\\\"inline-block\\\"},\\\"children\\\":[\\\"$\\\",\\\"h2\\\",null,{\\\"style\\\":{\\\"fontSize\\\":14,\\\"fontWeight\\\":400,\\\"lineHeight\\\":\\\"49px\\\",\\\"margin\\\":0},\\\"children\\\":\\\"This page could not be found.\\\"}]}]]}]}]],\\\"notFoundStyles\\\":[]}]}],[\\\"$\\\",\\\"$La\\\",null,{}]]}]}]]}]],null],null],\\\"couldBeIntercepted\\\":false,\\\"initialHead\\\":[null,\\\"$Lb\\\"],\\\"globalErrorComponent\\\":\\\"$c\\\",\\\"missingSlots\\\":\\\"$Wd\\\"}]\\n\"])</script><script>self.__next_f.push([1,\"5:[\\\"$\\\",\\\"div\\\",null,{\\\"className\\\":\\\"self-center flex flex-col space-y-5\\\",\\\"children\\\":[[\\\"$\\\",\\\"$L6\\\",null,{\\\"href\\\":\\\"/support\\\",\\\"className\\\":\\\"underline h-full text-3xl\\\",\\\"children\\\":\\\"click here to go to support demo\\\"}],[\\\"$\\\",\\\"$L6\\\",null,{\\\"href\\\":\\\"https://sales.proco.link\\\",\\\"className\\\":\\\"underline h-full text-3xl\\\",\\\"children\\\":\\\"click here to go to sales demo\\\"}]]}]\\nb:[[\\\"$\\\",\\\"meta\\\",\\\"0\\\",{\\\"name\\\":\\\"viewport\\\",\\\"content\\\":\\\"width=device-width, initial-scale=1\\\"}],[\\\"$\\\",\\\"meta\\\",\\\"1\\\",{\\\"charSet\\\":\\\"utf-8\\\"}],[\\\"$\\\",\\\"title\\\",\\\"2\\\",{\\\"children\\\":\\\"ProspectPipeline - ProcoLink\\\"}],[\\\"$\\\",\\\"meta\\\",\\\"3\\\",{\\\"name\\\":\\\"description\\\",\\\"content\\\":\\\"A powerful tool to build, test, and deploy conversation pipelines for your prospects.\\\"}],[\\\"$\\\",\\\"link\\\",\\\"4\\\",{\\\"rel\\\":\\\"icon\\\",\\\"href\\\":\\\"/icon.ico?bff61787832a404c\\\",\\\"type\\\":\\\"image/x-icon\\\",\\\"sizes\\\":\\\"256x256\\\"}],[\\\"$\\\",\\\"meta\\\",\\\"5\\\",{\\\"name\\\":\\\"next-size-adjust\\\"}]]\\n4:null\\n\"])</script></body></html>\n"
        }
      ],
      "execution_count": 2
    }
  ],
  "metadata": {
    "anaconda-cloud": {},
    "kernelspec": {
      "display_name": "python",
      "language": "python",
      "name": "python3"
    }
  },
  "nbformat": 4,
  "nbformat_minor": 4
}